{
 "cells": [
  {
   "cell_type": "markdown",
   "id": "d7227d37-44b9-4e9b-ab78-59f09bffb985",
   "metadata": {},
   "source": [
    "# Mine and select projects\n",
    "\n",
    "This notebook mine the projects previous cloned using releasy"
   ]
  },
  {
   "cell_type": "code",
   "execution_count": 1,
   "id": "a304ccaa-d06d-402c-89dd-2412c732c2f7",
   "metadata": {},
   "outputs": [],
   "source": [
    "import os\n",
    "import datetime\n",
    "import json\n",
    "import re\n",
    "import traceback\n",
    "\n",
    "from multiprocessing import Pool\n",
    "import pandas as pd\n",
    "\n",
    "from ipywidgets import IntProgress\n",
    "from IPython.display import display\n",
    "\n",
    "import releasy"
   ]
  },
  {
   "cell_type": "code",
   "execution_count": 2,
   "id": "40cdeee0-c510-4517-85fc-538813f21816",
   "metadata": {},
   "outputs": [],
   "source": [
    "from util import (\n",
    "    DATA_PATH,\n",
    "    REPO_PATH,\n",
    "    TMP_PATH, \n",
    "    CPU,\n",
    "    CycleType,\n",
    "    RAPID_RELEASE_LIM,\n",
    "    TRAD_RELEASE_LIM,\n",
    "    delta2days,\n",
    "    is_rapid_release,\n",
    "    is_trad_release,\n",
    ")"
   ]
  },
  {
   "cell_type": "code",
   "execution_count": 3,
   "id": "d0324829-3266-454d-895c-88c9a718ae7f",
   "metadata": {},
   "outputs": [],
   "source": [
    "pd.set_option('display.max_rows', 1000)"
   ]
  },
  {
   "cell_type": "code",
   "execution_count": 4,
   "id": "f63025a7-662a-419e-a708-ac81549852ca",
   "metadata": {},
   "outputs": [
    {
     "name": "stdout",
     "output_type": "stream",
     "text": [
      "2772\n"
     ]
    }
   ],
   "source": [
    "with open(DATA_PATH / '01_github_project_results.json', 'r') as infile:\n",
    "    projects_data = json.loads(infile.read())\n",
    "\n",
    "print(len(projects_data))"
   ]
  },
  {
   "cell_type": "markdown",
   "id": "5bed686d-0b1a-49b2-b035-88f48e5ea910",
   "metadata": {},
   "source": [
    "## Mine Releases\n"
   ]
  },
  {
   "cell_type": "code",
   "execution_count": 5,
   "id": "9eacb421-acca-40e7-a25f-73a0b398952d",
   "metadata": {},
   "outputs": [],
   "source": [
    "def mine(name: str) -> releasy.Project:\n",
    "    elapsed_time = datetime.datetime.now()\n",
    "    \n",
    "    try:\n",
    "        repo_path = str(REPO_PATH / name)\n",
    "        project = releasy.Miner(repo_path, name).apply(\n",
    "            releasy.FinalReleaseMiner(),\n",
    "            releasy.HistoryCommitMiner(),\n",
    "            releasy.BaseReleaseMiner(),\n",
    "            releasy.ContributorMiner(),\n",
    "            releasy.SemanticReleaseMiner()\n",
    "        ).mine()\n",
    "\n",
    "        rapid_releases = [release for release in project.main_releases if is_rapid_release(release) and len(release.commits) >= 10]\n",
    "        trad_releases = [release for release in project.main_releases if is_trad_release(release) and len(release.commits) >= 10]\n",
    "\n",
    "        project_data = {\n",
    "            'project': project.name,\n",
    "            'prefixes': len(project.releases.prefixes()),\n",
    "            'prefixes_names': str(\" \".join(project.releases.prefixes())),\n",
    "            'main_releases': len(project.main_releases),\n",
    "            'rapid_releases': len(rapid_releases),\n",
    "            'trad_releases': len(trad_releases),\n",
    "            'patches': len(project.patches),\n",
    "            'releases': len(project.releases)\n",
    "        }\n",
    "\n",
    "        elapsed_time = datetime.datetime.now() - elapsed_time\n",
    "        project_data['time'] = elapsed_time\n",
    "    except Exception as err:\n",
    "        print(f\"{name:40} {err=}\")\n",
    "        traceback.print_exception(err)\n",
    "        project_data = {}\n",
    "        mreleases = [{}]\n",
    "    \n",
    "    return project_data"
   ]
  },
  {
   "cell_type": "code",
   "execution_count": 6,
   "id": "eb1e0463-4ef7-4fce-ac21-1f76fc70d4e9",
   "metadata": {
    "tags": []
   },
   "outputs": [],
   "source": [
    "project_names = list(map(lambda p: p['nameWithOwner'], projects_data))\n",
    "# project_names = project_names[:20]"
   ]
  },
  {
   "cell_type": "code",
   "execution_count": 7,
   "id": "cc5e63d9-8065-4207-81e8-e5efc21dcf6c",
   "metadata": {
    "tags": []
   },
   "outputs": [
    {
     "data": {
      "application/vnd.jupyter.widget-view+json": {
       "model_id": "67dd1dc5d7d54b689b79afadcb1ca9dd",
       "version_major": 2,
       "version_minor": 0
      },
      "text/plain": [
       "IntProgress(value=0, max=2772)"
      ]
     },
     "metadata": {},
     "output_type": "display_data"
    },
    {
     "data": {
      "text/html": [
       "<div>\n",
       "<style scoped>\n",
       "    .dataframe tbody tr th:only-of-type {\n",
       "        vertical-align: middle;\n",
       "    }\n",
       "\n",
       "    .dataframe tbody tr th {\n",
       "        vertical-align: top;\n",
       "    }\n",
       "\n",
       "    .dataframe thead th {\n",
       "        text-align: right;\n",
       "    }\n",
       "</style>\n",
       "<table border=\"1\" class=\"dataframe\">\n",
       "  <thead>\n",
       "    <tr style=\"text-align: right;\">\n",
       "      <th></th>\n",
       "      <th>project</th>\n",
       "      <th>prefixes</th>\n",
       "      <th>prefixes_names</th>\n",
       "      <th>main_releases</th>\n",
       "      <th>rapid_releases</th>\n",
       "      <th>trad_releases</th>\n",
       "      <th>patches</th>\n",
       "      <th>releases</th>\n",
       "      <th>time</th>\n",
       "    </tr>\n",
       "  </thead>\n",
       "  <tbody>\n",
       "    <tr>\n",
       "      <th>1822</th>\n",
       "      <td>mholt/PapaParse</td>\n",
       "      <td>1</td>\n",
       "      <td></td>\n",
       "      <td>19</td>\n",
       "      <td>1</td>\n",
       "      <td>2</td>\n",
       "      <td>55</td>\n",
       "      <td>74</td>\n",
       "      <td>0 days 00:00:00.042188</td>\n",
       "    </tr>\n",
       "    <tr>\n",
       "      <th>2338</th>\n",
       "      <td>flatpickr/flatpickr</td>\n",
       "      <td>2</td>\n",
       "      <td>v</td>\n",
       "      <td>23</td>\n",
       "      <td>3</td>\n",
       "      <td>4</td>\n",
       "      <td>121</td>\n",
       "      <td>144</td>\n",
       "      <td>0 days 00:00:00.149140</td>\n",
       "    </tr>\n",
       "    <tr>\n",
       "      <th>1135</th>\n",
       "      <td>squizlabs/PHP_CodeSniffer</td>\n",
       "      <td>1</td>\n",
       "      <td></td>\n",
       "      <td>19</td>\n",
       "      <td>5</td>\n",
       "      <td>12</td>\n",
       "      <td>51</td>\n",
       "      <td>70</td>\n",
       "      <td>0 days 00:00:00.532551</td>\n",
       "    </tr>\n",
       "    <tr>\n",
       "      <th>2594</th>\n",
       "      <td>minio/minio</td>\n",
       "      <td>1</td>\n",
       "      <td>release-</td>\n",
       "      <td>1</td>\n",
       "      <td>0</td>\n",
       "      <td>0</td>\n",
       "      <td>0</td>\n",
       "      <td>1</td>\n",
       "      <td>0 days 00:00:00.098790</td>\n",
       "    </tr>\n",
       "    <tr>\n",
       "      <th>177</th>\n",
       "      <td>chyroc/WechatSogou</td>\n",
       "      <td>1</td>\n",
       "      <td>v</td>\n",
       "      <td>8</td>\n",
       "      <td>0</td>\n",
       "      <td>0</td>\n",
       "      <td>15</td>\n",
       "      <td>23</td>\n",
       "      <td>0 days 00:00:00.022833</td>\n",
       "    </tr>\n",
       "    <tr>\n",
       "      <th>1753</th>\n",
       "      <td>mail-in-a-box/mailinabox</td>\n",
       "      <td>1</td>\n",
       "      <td>v</td>\n",
       "      <td>45</td>\n",
       "      <td>13</td>\n",
       "      <td>11</td>\n",
       "      <td>0</td>\n",
       "      <td>45</td>\n",
       "      <td>0 days 00:00:00.214541</td>\n",
       "    </tr>\n",
       "    <tr>\n",
       "      <th>1407</th>\n",
       "      <td>sass/node-sass</td>\n",
       "      <td>4</td>\n",
       "      <td>RELEASE- napi_ v</td>\n",
       "      <td>45</td>\n",
       "      <td>7</td>\n",
       "      <td>15</td>\n",
       "      <td>114</td>\n",
       "      <td>159</td>\n",
       "      <td>0 days 00:00:00.476781</td>\n",
       "    </tr>\n",
       "    <tr>\n",
       "      <th>2197</th>\n",
       "      <td>BabylonJS/Babylon.js</td>\n",
       "      <td>2</td>\n",
       "      <td>v</td>\n",
       "      <td>36</td>\n",
       "      <td>10</td>\n",
       "      <td>14</td>\n",
       "      <td>36</td>\n",
       "      <td>72</td>\n",
       "      <td>0 days 00:00:02.181131</td>\n",
       "    </tr>\n",
       "    <tr>\n",
       "      <th>787</th>\n",
       "      <td>cryptomator/cryptomator</td>\n",
       "      <td>1</td>\n",
       "      <td></td>\n",
       "      <td>18</td>\n",
       "      <td>7</td>\n",
       "      <td>6</td>\n",
       "      <td>73</td>\n",
       "      <td>91</td>\n",
       "      <td>0 days 00:00:00.214441</td>\n",
       "    </tr>\n",
       "    <tr>\n",
       "      <th>1722</th>\n",
       "      <td>tinymce/tinymce</td>\n",
       "      <td>24</td>\n",
       "      <td>@ephox/porkbun@ @ephox/polaris@ @ephox/agar@ ...</td>\n",
       "      <td>59</td>\n",
       "      <td>0</td>\n",
       "      <td>17</td>\n",
       "      <td>1408</td>\n",
       "      <td>1467</td>\n",
       "      <td>0 days 00:00:03.663213</td>\n",
       "    </tr>\n",
       "  </tbody>\n",
       "</table>\n",
       "</div>"
      ],
      "text/plain": [
       "                        project  prefixes  \\\n",
       "1822            mholt/PapaParse         1   \n",
       "2338        flatpickr/flatpickr         2   \n",
       "1135  squizlabs/PHP_CodeSniffer         1   \n",
       "2594                minio/minio         1   \n",
       "177          chyroc/WechatSogou         1   \n",
       "1753   mail-in-a-box/mailinabox         1   \n",
       "1407             sass/node-sass         4   \n",
       "2197       BabylonJS/Babylon.js         2   \n",
       "787     cryptomator/cryptomator         1   \n",
       "1722            tinymce/tinymce        24   \n",
       "\n",
       "                                         prefixes_names  main_releases  \\\n",
       "1822                                                                19   \n",
       "2338                                                  v             23   \n",
       "1135                                                                19   \n",
       "2594                                           release-              1   \n",
       "177                                                   v              8   \n",
       "1753                                                  v             45   \n",
       "1407                                   RELEASE- napi_ v             45   \n",
       "2197                                                  v             36   \n",
       "787                                                                 18   \n",
       "1722   @ephox/porkbun@ @ephox/polaris@ @ephox/agar@ ...             59   \n",
       "\n",
       "      rapid_releases  trad_releases  patches  releases                   time  \n",
       "1822               1              2       55        74 0 days 00:00:00.042188  \n",
       "2338               3              4      121       144 0 days 00:00:00.149140  \n",
       "1135               5             12       51        70 0 days 00:00:00.532551  \n",
       "2594               0              0        0         1 0 days 00:00:00.098790  \n",
       "177                0              0       15        23 0 days 00:00:00.022833  \n",
       "1753              13             11        0        45 0 days 00:00:00.214541  \n",
       "1407               7             15      114       159 0 days 00:00:00.476781  \n",
       "2197              10             14       36        72 0 days 00:00:02.181131  \n",
       "787                7              6       73        91 0 days 00:00:00.214441  \n",
       "1722               0             17     1408      1467 0 days 00:00:03.663213  "
      ]
     },
     "execution_count": 7,
     "metadata": {},
     "output_type": "execute_result"
    }
   ],
   "source": [
    "with Pool(processes=CPU) as pool:\n",
    "    processed = 0\n",
    "    results = []\n",
    "    progress = IntProgress(min=0, max=len(project_names))\n",
    "    display(progress)\n",
    "    for result in pool.imap_unordered(mine, project_names):\n",
    "        results.append(result)\n",
    "        progress.value += 1\n",
    "        \n",
    "projects = pd.DataFrame(results)\n",
    "projects.sample(10)"
   ]
  },
  {
   "cell_type": "code",
   "execution_count": 8,
   "id": "cd58636e-efe3-46d4-84da-64914b2eccb7",
   "metadata": {
    "tags": []
   },
   "outputs": [
    {
     "data": {
      "text/plain": [
       "2772"
      ]
     },
     "execution_count": 8,
     "metadata": {},
     "output_type": "execute_result"
    }
   ],
   "source": [
    "len(projects)"
   ]
  },
  {
   "cell_type": "code",
   "execution_count": 9,
   "id": "f14679d6-ceb6-4d18-9327-77fe546333f9",
   "metadata": {
    "tags": []
   },
   "outputs": [],
   "source": [
    "projects.to_csv(DATA_PATH / '10_projects_all.csv')"
   ]
  },
  {
   "cell_type": "markdown",
   "id": "f8fc09ad-f603-4757-9a64-8ac07b73ed98",
   "metadata": {},
   "source": [
    "## Select Releases"
   ]
  },
  {
   "cell_type": "code",
   "execution_count": 10,
   "id": "a7115211-b54a-4f01-b7a6-948baaf1c8b1",
   "metadata": {
    "tags": []
   },
   "outputs": [],
   "source": [
    "selected_projects = projects.copy()"
   ]
  },
  {
   "cell_type": "markdown",
   "id": "23e9fd10-f693-4718-bece-2ef298fec4d6",
   "metadata": {},
   "source": [
    "### Remove projects without main releases\n",
    "\n",
    "These projects may contain releases, but releasy did not extracted any main release. Hence, we need to remove these projects from the analysis"
   ]
  },
  {
   "cell_type": "code",
   "execution_count": 11,
   "id": "5cf6a773-f393-445e-9275-37ef4027ed3b",
   "metadata": {
    "tags": []
   },
   "outputs": [],
   "source": [
    "# total = len(selected_projects)\n",
    "# selected_projects = selected_projects.query('main_releases > 0')\n",
    "# removed = total - len(selected_projects)\n",
    "# print(f\"Discarded {removed} projects\")\n",
    "# print(f\"Kept {len(selected_projects)} projects\")"
   ]
  },
  {
   "cell_type": "markdown",
   "id": "14002aad-8c5c-492b-9457-90d29846f439",
   "metadata": {
    "tags": []
   },
   "source": [
    "### Remove without few rapid and traditional releases\n",
    "\n",
    "The projects must have at least one rapid and one traditional release"
   ]
  },
  {
   "cell_type": "code",
   "execution_count": 12,
   "id": "c73d0f69-58ce-4f9b-8f52-70014ad05705",
   "metadata": {
    "tags": []
   },
   "outputs": [
    {
     "name": "stdout",
     "output_type": "stream",
     "text": [
      "Discarded 1451 projects\n",
      "Kept 1321 projects\n"
     ]
    }
   ],
   "source": [
    "total = len(selected_projects)\n",
    "selected_projects = selected_projects.query('rapid_releases >= 2 and trad_releases >= 2')\n",
    "removed = total - len(selected_projects)\n",
    "print(f\"Discarded {removed} projects\")\n",
    "print(f\"Kept {len(selected_projects)} projects\")"
   ]
  },
  {
   "cell_type": "markdown",
   "id": "9d3278dd-a1cc-4e27-b2f7-cd3318a8f385",
   "metadata": {
    "tags": []
   },
   "source": [
    "### Remove projecs with uncommon prefixes\n",
    "\n",
    "These projects usually represent mono repo, i.e., multiple software projects in the same git repository. Hence, we need to remove these projects from the analysis"
   ]
  },
  {
   "cell_type": "code",
   "execution_count": 13,
   "id": "da2fd5a2-97ec-419a-9a76-8c6e27778555",
   "metadata": {
    "tags": []
   },
   "outputs": [],
   "source": [
    "def uncommon_prefixes(qnt, names):\n",
    "    uncommon_prefixes = 0\n",
    "    if qnt <= 1:\n",
    "        return uncommon_prefixes\n",
    "    else:\n",
    "        names = str(names).split(' ')\n",
    "        uncommon_prefixes = [name for name in names if not re.match(\"^((|vv?|rel|l|rel/v|r|release)[/._-]?)$\", name, flags=re.IGNORECASE)]\n",
    "        return len(uncommon_prefixes)\n",
    "        \n",
    "selected_projects = selected_projects.assign(\n",
    "    uncommon_prefixes=selected_projects.apply(lambda row: uncommon_prefixes(row['prefixes'], row['prefixes_names']), axis = 1))"
   ]
  },
  {
   "cell_type": "code",
   "execution_count": 14,
   "id": "84f12842-acc3-4730-990e-d4cedbdc23e0",
   "metadata": {
    "tags": []
   },
   "outputs": [
    {
     "data": {
      "text/plain": [
       "282"
      ]
     },
     "execution_count": 14,
     "metadata": {},
     "output_type": "execute_result"
    }
   ],
   "source": [
    "len(selected_projects.query('uncommon_prefixes > 0'))"
   ]
  },
  {
   "cell_type": "code",
   "execution_count": 15,
   "id": "eb6f0bc5-e5b8-4898-a93c-5f2622757685",
   "metadata": {
    "tags": []
   },
   "outputs": [
    {
     "name": "stdout",
     "output_type": "stream",
     "text": [
      "Discarded 282 projects\n",
      "Kept 1039 projects\n"
     ]
    }
   ],
   "source": [
    "total = len(selected_projects)\n",
    "selected_projects = selected_projects.query('uncommon_prefixes == 0')\n",
    "removed = total - len(selected_projects)\n",
    "print(f\"Discarded {removed} projects\")\n",
    "print(f\"Kept {len(selected_projects)} projects\")"
   ]
  },
  {
   "cell_type": "code",
   "execution_count": 16,
   "id": "d611acc6-bea3-4a71-9b69-fde4ce3e693a",
   "metadata": {
    "tags": []
   },
   "outputs": [
    {
     "data": {
      "text/html": [
       "<div>\n",
       "<style scoped>\n",
       "    .dataframe tbody tr th:only-of-type {\n",
       "        vertical-align: middle;\n",
       "    }\n",
       "\n",
       "    .dataframe tbody tr th {\n",
       "        vertical-align: top;\n",
       "    }\n",
       "\n",
       "    .dataframe thead th {\n",
       "        text-align: right;\n",
       "    }\n",
       "</style>\n",
       "<table border=\"1\" class=\"dataframe\">\n",
       "  <thead>\n",
       "    <tr style=\"text-align: right;\">\n",
       "      <th></th>\n",
       "      <th>project</th>\n",
       "      <th>prefixes</th>\n",
       "      <th>prefixes_names</th>\n",
       "      <th>main_releases</th>\n",
       "      <th>rapid_releases</th>\n",
       "      <th>trad_releases</th>\n",
       "      <th>patches</th>\n",
       "      <th>releases</th>\n",
       "      <th>time</th>\n",
       "      <th>uncommon_prefixes</th>\n",
       "    </tr>\n",
       "  </thead>\n",
       "  <tbody>\n",
       "    <tr>\n",
       "      <th>447</th>\n",
       "      <td>PHPOffice/PHPWord</td>\n",
       "      <td>1</td>\n",
       "      <td></td>\n",
       "      <td>12</td>\n",
       "      <td>3</td>\n",
       "      <td>7</td>\n",
       "      <td>8</td>\n",
       "      <td>20</td>\n",
       "      <td>0 days 00:00:00.098578</td>\n",
       "      <td>0</td>\n",
       "    </tr>\n",
       "    <tr>\n",
       "      <th>1418</th>\n",
       "      <td>hediet/vscode-drawio</td>\n",
       "      <td>1</td>\n",
       "      <td>v</td>\n",
       "      <td>10</td>\n",
       "      <td>4</td>\n",
       "      <td>2</td>\n",
       "      <td>13</td>\n",
       "      <td>23</td>\n",
       "      <td>0 days 00:00:00.027145</td>\n",
       "      <td>0</td>\n",
       "    </tr>\n",
       "    <tr>\n",
       "      <th>1350</th>\n",
       "      <td>giampaolo/psutil</td>\n",
       "      <td>1</td>\n",
       "      <td>release-</td>\n",
       "      <td>32</td>\n",
       "      <td>8</td>\n",
       "      <td>17</td>\n",
       "      <td>52</td>\n",
       "      <td>84</td>\n",
       "      <td>0 days 00:00:00.384450</td>\n",
       "      <td>0</td>\n",
       "    </tr>\n",
       "    <tr>\n",
       "      <th>2333</th>\n",
       "      <td>DapperLib/Dapper</td>\n",
       "      <td>1</td>\n",
       "      <td></td>\n",
       "      <td>31</td>\n",
       "      <td>4</td>\n",
       "      <td>6</td>\n",
       "      <td>13</td>\n",
       "      <td>44</td>\n",
       "      <td>0 days 00:00:00.069216</td>\n",
       "      <td>0</td>\n",
       "    </tr>\n",
       "    <tr>\n",
       "      <th>531</th>\n",
       "      <td>qemu/qemu</td>\n",
       "      <td>2</td>\n",
       "      <td>release_ v</td>\n",
       "      <td>48</td>\n",
       "      <td>2</td>\n",
       "      <td>42</td>\n",
       "      <td>86</td>\n",
       "      <td>134</td>\n",
       "      <td>0 days 00:00:05.838296</td>\n",
       "      <td>0</td>\n",
       "    </tr>\n",
       "    <tr>\n",
       "      <th>2474</th>\n",
       "      <td>tensorflow/models</td>\n",
       "      <td>2</td>\n",
       "      <td>v. v</td>\n",
       "      <td>19</td>\n",
       "      <td>3</td>\n",
       "      <td>9</td>\n",
       "      <td>6</td>\n",
       "      <td>25</td>\n",
       "      <td>0 days 00:00:00.733005</td>\n",
       "      <td>0</td>\n",
       "    </tr>\n",
       "    <tr>\n",
       "      <th>961</th>\n",
       "      <td>ffuf/ffuf</td>\n",
       "      <td>1</td>\n",
       "      <td>v</td>\n",
       "      <td>18</td>\n",
       "      <td>2</td>\n",
       "      <td>4</td>\n",
       "      <td>6</td>\n",
       "      <td>24</td>\n",
       "      <td>0 days 00:00:00.025843</td>\n",
       "      <td>0</td>\n",
       "    </tr>\n",
       "    <tr>\n",
       "      <th>2312</th>\n",
       "      <td>janl/mustache.js</td>\n",
       "      <td>2</td>\n",
       "      <td>v</td>\n",
       "      <td>20</td>\n",
       "      <td>3</td>\n",
       "      <td>8</td>\n",
       "      <td>23</td>\n",
       "      <td>43</td>\n",
       "      <td>0 days 00:00:00.051203</td>\n",
       "      <td>0</td>\n",
       "    </tr>\n",
       "    <tr>\n",
       "      <th>1539</th>\n",
       "      <td>wechaty/wechaty</td>\n",
       "      <td>1</td>\n",
       "      <td>v</td>\n",
       "      <td>15</td>\n",
       "      <td>4</td>\n",
       "      <td>7</td>\n",
       "      <td>8</td>\n",
       "      <td>23</td>\n",
       "      <td>0 days 00:00:00.373346</td>\n",
       "      <td>0</td>\n",
       "    </tr>\n",
       "    <tr>\n",
       "      <th>927</th>\n",
       "      <td>developit/microbundle</td>\n",
       "      <td>2</td>\n",
       "      <td>v</td>\n",
       "      <td>15</td>\n",
       "      <td>5</td>\n",
       "      <td>5</td>\n",
       "      <td>24</td>\n",
       "      <td>39</td>\n",
       "      <td>0 days 00:00:00.192207</td>\n",
       "      <td>0</td>\n",
       "    </tr>\n",
       "  </tbody>\n",
       "</table>\n",
       "</div>"
      ],
      "text/plain": [
       "                    project  prefixes prefixes_names  main_releases  \\\n",
       "447       PHPOffice/PHPWord         1                            12   \n",
       "1418   hediet/vscode-drawio         1              v             10   \n",
       "1350       giampaolo/psutil         1       release-             32   \n",
       "2333       DapperLib/Dapper         1                            31   \n",
       "531               qemu/qemu         2     release_ v             48   \n",
       "2474      tensorflow/models         2           v. v             19   \n",
       "961               ffuf/ffuf         1              v             18   \n",
       "2312       janl/mustache.js         2              v             20   \n",
       "1539        wechaty/wechaty         1              v             15   \n",
       "927   developit/microbundle         2              v             15   \n",
       "\n",
       "      rapid_releases  trad_releases  patches  releases                   time  \\\n",
       "447                3              7        8        20 0 days 00:00:00.098578   \n",
       "1418               4              2       13        23 0 days 00:00:00.027145   \n",
       "1350               8             17       52        84 0 days 00:00:00.384450   \n",
       "2333               4              6       13        44 0 days 00:00:00.069216   \n",
       "531                2             42       86       134 0 days 00:00:05.838296   \n",
       "2474               3              9        6        25 0 days 00:00:00.733005   \n",
       "961                2              4        6        24 0 days 00:00:00.025843   \n",
       "2312               3              8       23        43 0 days 00:00:00.051203   \n",
       "1539               4              7        8        23 0 days 00:00:00.373346   \n",
       "927                5              5       24        39 0 days 00:00:00.192207   \n",
       "\n",
       "      uncommon_prefixes  \n",
       "447                   0  \n",
       "1418                  0  \n",
       "1350                  0  \n",
       "2333                  0  \n",
       "531                   0  \n",
       "2474                  0  \n",
       "961                   0  \n",
       "2312                  0  \n",
       "1539                  0  \n",
       "927                   0  "
      ]
     },
     "execution_count": 16,
     "metadata": {},
     "output_type": "execute_result"
    }
   ],
   "source": [
    "selected_projects.sample(10)"
   ]
  },
  {
   "cell_type": "code",
   "execution_count": 17,
   "id": "7e248c6c-4da2-4557-8683-7df283e040b8",
   "metadata": {
    "tags": []
   },
   "outputs": [
    {
     "data": {
      "text/plain": [
       "1039"
      ]
     },
     "execution_count": 17,
     "metadata": {},
     "output_type": "execute_result"
    }
   ],
   "source": [
    "len(selected_projects)"
   ]
  },
  {
   "cell_type": "code",
   "execution_count": 18,
   "id": "099cdf2e-c0e9-426d-9de3-3c4843b47ff6",
   "metadata": {},
   "outputs": [],
   "source": [
    "selected_projects.to_csv(DATA_PATH / '10_projects_selected.csv', index=False)"
   ]
  },
  {
   "cell_type": "code",
   "execution_count": null,
   "id": "39590c9b-dcf9-4fd4-a4d6-db99a17157ec",
   "metadata": {},
   "outputs": [],
   "source": []
  }
 ],
 "metadata": {
  "kernelspec": {
   "display_name": "Python 3 (ipykernel)",
   "language": "python",
   "name": "python3"
  },
  "language_info": {
   "codemirror_mode": {
    "name": "ipython",
    "version": 3
   },
   "file_extension": ".py",
   "mimetype": "text/x-python",
   "name": "python",
   "nbconvert_exporter": "python",
   "pygments_lexer": "ipython3",
   "version": "3.11.2"
  }
 },
 "nbformat": 4,
 "nbformat_minor": 5
}
