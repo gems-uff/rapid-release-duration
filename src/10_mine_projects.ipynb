{
 "cells": [
  {
   "cell_type": "markdown",
   "id": "d7227d37-44b9-4e9b-ab78-59f09bffb985",
   "metadata": {},
   "source": [
    "# Mine and select projects\n",
    "\n",
    "This notebook mine the projects previous cloned using releasy"
   ]
  },
  {
   "cell_type": "code",
   "execution_count": 1,
   "id": "a304ccaa-d06d-402c-89dd-2412c732c2f7",
   "metadata": {},
   "outputs": [],
   "source": [
    "import os\n",
    "import datetime\n",
    "import json\n",
    "import re\n",
    "import traceback\n",
    "\n",
    "from multiprocessing import Pool\n",
    "import pandas as pd\n",
    "\n",
    "from ipywidgets import IntProgress\n",
    "from IPython.display import display\n",
    "\n",
    "import releasy"
   ]
  },
  {
   "cell_type": "code",
   "execution_count": 2,
   "id": "40cdeee0-c510-4517-85fc-538813f21816",
   "metadata": {},
   "outputs": [],
   "source": [
    "from util import (\n",
    "    DATA_PATH,\n",
    "    REPO_PATH,\n",
    "    TMP_PATH, \n",
    "    CPU,\n",
    "    CycleType,\n",
    "    RAPID_RELEASE_LIM,\n",
    "    TRAD_RELEASE_LIM,\n",
    "    delta2days,\n",
    "    is_rapid_release,\n",
    "    is_trad_release,\n",
    ")"
   ]
  },
  {
   "cell_type": "code",
   "execution_count": 3,
   "id": "d0324829-3266-454d-895c-88c9a718ae7f",
   "metadata": {},
   "outputs": [],
   "source": [
    "pd.set_option('display.max_rows', 1000)"
   ]
  },
  {
   "cell_type": "code",
   "execution_count": 4,
   "id": "f63025a7-662a-419e-a708-ac81549852ca",
   "metadata": {},
   "outputs": [
    {
     "name": "stdout",
     "output_type": "stream",
     "text": [
      "2772\n"
     ]
    }
   ],
   "source": [
    "with open(DATA_PATH / '01_github_project_results.json', 'r') as infile:\n",
    "    projects_data = json.loads(infile.read())\n",
    "\n",
    "print(len(projects_data))"
   ]
  },
  {
   "cell_type": "markdown",
   "id": "5bed686d-0b1a-49b2-b035-88f48e5ea910",
   "metadata": {},
   "source": [
    "## Mine Releases\n"
   ]
  },
  {
   "cell_type": "code",
   "execution_count": 5,
   "id": "9eacb421-acca-40e7-a25f-73a0b398952d",
   "metadata": {},
   "outputs": [],
   "source": [
    "def mine(name: str) -> releasy.Project:\n",
    "    elapsed_time = datetime.datetime.now()\n",
    "    \n",
    "    try:\n",
    "        repo_path = str(REPO_PATH / name)\n",
    "        project = releasy.Miner(repo_path, name).apply(\n",
    "            releasy.FinalReleaseMiner(),\n",
    "            releasy.HistoryCommitMiner(),\n",
    "            releasy.BaseReleaseMiner(),\n",
    "            releasy.ContributorMiner(),\n",
    "            releasy.SemanticReleaseMiner()\n",
    "        ).mine()\n",
    "\n",
    "        rapid_releases = [release for release in project.main_releases if is_rapid_release(release)]\n",
    "        trad_releases = [release for release in project.main_releases if is_trad_release(release)]\n",
    "\n",
    "\n",
    "        project_data = {\n",
    "            'project': project.name,\n",
    "            'prefixes': len(project.releases.prefixes()),\n",
    "            'prefixes_names': str(\" \".join(project.releases.prefixes())),\n",
    "            'main_releases': len(project.main_releases),\n",
    "            'rapid_releases': len(rapid_releases),\n",
    "            'trad_releases': len(trad_releases),\n",
    "            'patches': len(project.patches),\n",
    "            'releases': len(project.releases)\n",
    "        }\n",
    "\n",
    "        elapsed_time = datetime.datetime.now() - elapsed_time\n",
    "        project_data['time'] = elapsed_time\n",
    "    except Exception as err:\n",
    "        print(f\"{name:40} {err=}\")\n",
    "        traceback.print_exception(err)\n",
    "        project_data = {}\n",
    "        mreleases = [{}]\n",
    "    \n",
    "    return project_data"
   ]
  },
  {
   "cell_type": "code",
   "execution_count": 6,
   "id": "eb1e0463-4ef7-4fce-ac21-1f76fc70d4e9",
   "metadata": {
    "tags": []
   },
   "outputs": [],
   "source": [
    "project_names = list(map(lambda p: p['nameWithOwner'], projects_data))\n",
    "# project_names = project_names[:20]"
   ]
  },
  {
   "cell_type": "code",
   "execution_count": 7,
   "id": "cc5e63d9-8065-4207-81e8-e5efc21dcf6c",
   "metadata": {
    "tags": []
   },
   "outputs": [
    {
     "data": {
      "application/vnd.jupyter.widget-view+json": {
       "model_id": "4c0b70ec7ee64d2f84a5153c75e10a3d",
       "version_major": 2,
       "version_minor": 0
      },
      "text/plain": [
       "IntProgress(value=0, max=2772)"
      ]
     },
     "metadata": {},
     "output_type": "display_data"
    },
    {
     "data": {
      "text/html": [
       "<div>\n",
       "<style scoped>\n",
       "    .dataframe tbody tr th:only-of-type {\n",
       "        vertical-align: middle;\n",
       "    }\n",
       "\n",
       "    .dataframe tbody tr th {\n",
       "        vertical-align: top;\n",
       "    }\n",
       "\n",
       "    .dataframe thead th {\n",
       "        text-align: right;\n",
       "    }\n",
       "</style>\n",
       "<table border=\"1\" class=\"dataframe\">\n",
       "  <thead>\n",
       "    <tr style=\"text-align: right;\">\n",
       "      <th></th>\n",
       "      <th>project</th>\n",
       "      <th>prefixes</th>\n",
       "      <th>prefixes_names</th>\n",
       "      <th>main_releases</th>\n",
       "      <th>rapid_releases</th>\n",
       "      <th>trad_releases</th>\n",
       "      <th>patches</th>\n",
       "      <th>releases</th>\n",
       "      <th>time</th>\n",
       "    </tr>\n",
       "  </thead>\n",
       "  <tbody>\n",
       "    <tr>\n",
       "      <th>1508</th>\n",
       "      <td>python/mypy</td>\n",
       "      <td>1</td>\n",
       "      <td>v</td>\n",
       "      <td>59</td>\n",
       "      <td>38</td>\n",
       "      <td>8</td>\n",
       "      <td>7</td>\n",
       "      <td>66</td>\n",
       "      <td>0 days 00:00:00.624642</td>\n",
       "    </tr>\n",
       "    <tr>\n",
       "      <th>1630</th>\n",
       "      <td>oliver-moran/jimp</td>\n",
       "      <td>2</td>\n",
       "      <td>v</td>\n",
       "      <td>15</td>\n",
       "      <td>8</td>\n",
       "      <td>4</td>\n",
       "      <td>71</td>\n",
       "      <td>86</td>\n",
       "      <td>0 days 00:00:00.062354</td>\n",
       "    </tr>\n",
       "    <tr>\n",
       "      <th>550</th>\n",
       "      <td>filhodanuvem/gitql</td>\n",
       "      <td>2</td>\n",
       "      <td>v</td>\n",
       "      <td>10</td>\n",
       "      <td>2</td>\n",
       "      <td>6</td>\n",
       "      <td>8</td>\n",
       "      <td>18</td>\n",
       "      <td>0 days 00:00:00.024786</td>\n",
       "    </tr>\n",
       "    <tr>\n",
       "      <th>407</th>\n",
       "      <td>GrenderG/Toasty</td>\n",
       "      <td>1</td>\n",
       "      <td></td>\n",
       "      <td>5</td>\n",
       "      <td>0</td>\n",
       "      <td>4</td>\n",
       "      <td>14</td>\n",
       "      <td>19</td>\n",
       "      <td>0 days 00:00:00.021850</td>\n",
       "    </tr>\n",
       "    <tr>\n",
       "      <th>2610</th>\n",
       "      <td>gulpjs/gulp</td>\n",
       "      <td>2</td>\n",
       "      <td>v</td>\n",
       "      <td>6</td>\n",
       "      <td>2</td>\n",
       "      <td>3</td>\n",
       "      <td>13</td>\n",
       "      <td>19</td>\n",
       "      <td>0 days 00:00:00.073568</td>\n",
       "    </tr>\n",
       "    <tr>\n",
       "      <th>1277</th>\n",
       "      <td>aws/aws-cdk</td>\n",
       "      <td>1</td>\n",
       "      <td>v</td>\n",
       "      <td>217</td>\n",
       "      <td>216</td>\n",
       "      <td>0</td>\n",
       "      <td>46</td>\n",
       "      <td>263</td>\n",
       "      <td>0 days 00:00:00.814102</td>\n",
       "    </tr>\n",
       "    <tr>\n",
       "      <th>28</th>\n",
       "      <td>operator-framework/operator-sdk</td>\n",
       "      <td>2</td>\n",
       "      <td>v scorecard-kuttl/v</td>\n",
       "      <td>42</td>\n",
       "      <td>32</td>\n",
       "      <td>0</td>\n",
       "      <td>47</td>\n",
       "      <td>89</td>\n",
       "      <td>0 days 00:00:00.204215</td>\n",
       "    </tr>\n",
       "    <tr>\n",
       "      <th>2602</th>\n",
       "      <td>rclone/rclone</td>\n",
       "      <td>1</td>\n",
       "      <td>v</td>\n",
       "      <td>69</td>\n",
       "      <td>36</td>\n",
       "      <td>11</td>\n",
       "      <td>21</td>\n",
       "      <td>90</td>\n",
       "      <td>0 days 00:00:00.432667</td>\n",
       "    </tr>\n",
       "    <tr>\n",
       "      <th>1796</th>\n",
       "      <td>GoogleChromeLabs/ndb</td>\n",
       "      <td>1</td>\n",
       "      <td>v</td>\n",
       "      <td>2</td>\n",
       "      <td>0</td>\n",
       "      <td>1</td>\n",
       "      <td>57</td>\n",
       "      <td>59</td>\n",
       "      <td>0 days 00:00:00.028360</td>\n",
       "    </tr>\n",
       "    <tr>\n",
       "      <th>679</th>\n",
       "      <td>cortexlabs/cortex</td>\n",
       "      <td>1</td>\n",
       "      <td>v</td>\n",
       "      <td>42</td>\n",
       "      <td>36</td>\n",
       "      <td>1</td>\n",
       "      <td>20</td>\n",
       "      <td>62</td>\n",
       "      <td>0 days 00:00:00.133786</td>\n",
       "    </tr>\n",
       "  </tbody>\n",
       "</table>\n",
       "</div>"
      ],
      "text/plain": [
       "                              project  prefixes       prefixes_names  \\\n",
       "1508                      python/mypy         1                    v   \n",
       "1630                oliver-moran/jimp         2                    v   \n",
       "550                filhodanuvem/gitql         2                    v   \n",
       "407                   GrenderG/Toasty         1                        \n",
       "2610                      gulpjs/gulp         2                    v   \n",
       "1277                      aws/aws-cdk         1                    v   \n",
       "28    operator-framework/operator-sdk         2  v scorecard-kuttl/v   \n",
       "2602                    rclone/rclone         1                    v   \n",
       "1796             GoogleChromeLabs/ndb         1                    v   \n",
       "679                 cortexlabs/cortex         1                    v   \n",
       "\n",
       "      main_releases  rapid_releases  trad_releases  patches  releases  \\\n",
       "1508             59              38              8        7        66   \n",
       "1630             15               8              4       71        86   \n",
       "550              10               2              6        8        18   \n",
       "407               5               0              4       14        19   \n",
       "2610              6               2              3       13        19   \n",
       "1277            217             216              0       46       263   \n",
       "28               42              32              0       47        89   \n",
       "2602             69              36             11       21        90   \n",
       "1796              2               0              1       57        59   \n",
       "679              42              36              1       20        62   \n",
       "\n",
       "                       time  \n",
       "1508 0 days 00:00:00.624642  \n",
       "1630 0 days 00:00:00.062354  \n",
       "550  0 days 00:00:00.024786  \n",
       "407  0 days 00:00:00.021850  \n",
       "2610 0 days 00:00:00.073568  \n",
       "1277 0 days 00:00:00.814102  \n",
       "28   0 days 00:00:00.204215  \n",
       "2602 0 days 00:00:00.432667  \n",
       "1796 0 days 00:00:00.028360  \n",
       "679  0 days 00:00:00.133786  "
      ]
     },
     "execution_count": 7,
     "metadata": {},
     "output_type": "execute_result"
    }
   ],
   "source": [
    "with Pool(processes=CPU) as pool:\n",
    "    processed = 0\n",
    "    results = []\n",
    "    progress = IntProgress(min=0, max=len(project_names))\n",
    "    display(progress)\n",
    "    for result in pool.imap_unordered(mine, project_names):\n",
    "        results.append(result)\n",
    "        progress.value += 1\n",
    "        \n",
    "projects = pd.DataFrame(results)\n",
    "projects.sample(10)"
   ]
  },
  {
   "cell_type": "code",
   "execution_count": 8,
   "id": "cd58636e-efe3-46d4-84da-64914b2eccb7",
   "metadata": {
    "tags": []
   },
   "outputs": [
    {
     "data": {
      "text/plain": [
       "2772"
      ]
     },
     "execution_count": 8,
     "metadata": {},
     "output_type": "execute_result"
    }
   ],
   "source": [
    "len(projects)"
   ]
  },
  {
   "cell_type": "code",
   "execution_count": 9,
   "id": "f14679d6-ceb6-4d18-9327-77fe546333f9",
   "metadata": {
    "tags": []
   },
   "outputs": [],
   "source": [
    "projects.to_csv(DATA_PATH / '10_projects_all.csv')"
   ]
  },
  {
   "cell_type": "markdown",
   "id": "f8fc09ad-f603-4757-9a64-8ac07b73ed98",
   "metadata": {},
   "source": [
    "## Select Releases"
   ]
  },
  {
   "cell_type": "code",
   "execution_count": 41,
   "id": "a7115211-b54a-4f01-b7a6-948baaf1c8b1",
   "metadata": {
    "tags": []
   },
   "outputs": [],
   "source": [
    "selected_projects = projects.copy()"
   ]
  },
  {
   "cell_type": "markdown",
   "id": "23e9fd10-f693-4718-bece-2ef298fec4d6",
   "metadata": {},
   "source": [
    "### Remove projects without main releases\n",
    "\n",
    "These projects may contain releases, but releasy did not extracted any main release. Hence, we need to remove these projects from the analysis"
   ]
  },
  {
   "cell_type": "code",
   "execution_count": 42,
   "id": "5cf6a773-f393-445e-9275-37ef4027ed3b",
   "metadata": {
    "tags": []
   },
   "outputs": [],
   "source": [
    "# total = len(selected_projects)\n",
    "# selected_projects = selected_projects.query('main_releases > 0')\n",
    "# removed = total - len(selected_projects)\n",
    "# print(f\"Discarded {removed} projects\")\n",
    "# print(f\"Kept {len(selected_projects)} projects\")"
   ]
  },
  {
   "cell_type": "markdown",
   "id": "14002aad-8c5c-492b-9457-90d29846f439",
   "metadata": {
    "tags": []
   },
   "source": [
    "### Remove without few rapid and traditional releases\n",
    "\n",
    "The projects must have at least one rapid and one traditional release"
   ]
  },
  {
   "cell_type": "code",
   "execution_count": 43,
   "id": "c73d0f69-58ce-4f9b-8f52-70014ad05705",
   "metadata": {
    "tags": []
   },
   "outputs": [
    {
     "name": "stdout",
     "output_type": "stream",
     "text": [
      "Discarded 1121 projects\n",
      "Kept 1651 projects\n"
     ]
    }
   ],
   "source": [
    "total = len(selected_projects)\n",
    "selected_projects = selected_projects.query('rapid_releases >= 2 and trad_releases >= 2')\n",
    "removed = total - len(selected_projects)\n",
    "print(f\"Discarded {removed} projects\")\n",
    "print(f\"Kept {len(selected_projects)} projects\")"
   ]
  },
  {
   "cell_type": "markdown",
   "id": "9d3278dd-a1cc-4e27-b2f7-cd3318a8f385",
   "metadata": {
    "tags": []
   },
   "source": [
    "### Remove projecs with uncommon prefixes\n",
    "\n",
    "These projects usually represent mono repo, i.e., multiple software projects in the same git repository. Hence, we need to remove these projects from the analysis"
   ]
  },
  {
   "cell_type": "code",
   "execution_count": 44,
   "id": "da2fd5a2-97ec-419a-9a76-8c6e27778555",
   "metadata": {
    "tags": []
   },
   "outputs": [],
   "source": [
    "def uncommon_prefixes(qnt, names):\n",
    "    uncommon_prefixes = 0\n",
    "    if qnt <= 1:\n",
    "        return uncommon_prefixes\n",
    "    else:\n",
    "        names = str(names).split(' ')\n",
    "        uncommon_prefixes = [name for name in names if not re.match(\"^((|vv?|rel|l|rel/v|r|release)[/._-]?)$\", name, flags=re.IGNORECASE)]\n",
    "        return len(uncommon_prefixes)\n",
    "        \n",
    "selected_projects = selected_projects.assign(\n",
    "    uncommon_prefixes=selected_projects.apply(lambda row: uncommon_prefixes(row['prefixes'], row['prefixes_names']), axis = 1))"
   ]
  },
  {
   "cell_type": "code",
   "execution_count": 45,
   "id": "84f12842-acc3-4730-990e-d4cedbdc23e0",
   "metadata": {
    "tags": []
   },
   "outputs": [
    {
     "data": {
      "text/plain": [
       "342"
      ]
     },
     "execution_count": 45,
     "metadata": {},
     "output_type": "execute_result"
    }
   ],
   "source": [
    "len(selected_projects.query('uncommon_prefixes > 0'))"
   ]
  },
  {
   "cell_type": "code",
   "execution_count": 46,
   "id": "eb6f0bc5-e5b8-4898-a93c-5f2622757685",
   "metadata": {
    "tags": []
   },
   "outputs": [
    {
     "name": "stdout",
     "output_type": "stream",
     "text": [
      "Discarded 342 projects\n",
      "Kept 1309 projects\n"
     ]
    }
   ],
   "source": [
    "total = len(selected_projects)\n",
    "selected_projects = selected_projects.query('uncommon_prefixes == 0')\n",
    "removed = total - len(selected_projects)\n",
    "print(f\"Discarded {removed} projects\")\n",
    "print(f\"Kept {len(selected_projects)} projects\")"
   ]
  },
  {
   "cell_type": "code",
   "execution_count": 47,
   "id": "d611acc6-bea3-4a71-9b69-fde4ce3e693a",
   "metadata": {
    "tags": []
   },
   "outputs": [
    {
     "data": {
      "text/html": [
       "<div>\n",
       "<style scoped>\n",
       "    .dataframe tbody tr th:only-of-type {\n",
       "        vertical-align: middle;\n",
       "    }\n",
       "\n",
       "    .dataframe tbody tr th {\n",
       "        vertical-align: top;\n",
       "    }\n",
       "\n",
       "    .dataframe thead th {\n",
       "        text-align: right;\n",
       "    }\n",
       "</style>\n",
       "<table border=\"1\" class=\"dataframe\">\n",
       "  <thead>\n",
       "    <tr style=\"text-align: right;\">\n",
       "      <th></th>\n",
       "      <th>project</th>\n",
       "      <th>prefixes</th>\n",
       "      <th>prefixes_names</th>\n",
       "      <th>main_releases</th>\n",
       "      <th>rapid_releases</th>\n",
       "      <th>trad_releases</th>\n",
       "      <th>patches</th>\n",
       "      <th>releases</th>\n",
       "      <th>time</th>\n",
       "      <th>uncommon_prefixes</th>\n",
       "    </tr>\n",
       "  </thead>\n",
       "  <tbody>\n",
       "    <tr>\n",
       "      <th>1122</th>\n",
       "      <td>TarsCloud/Tars</td>\n",
       "      <td>2</td>\n",
       "      <td>v</td>\n",
       "      <td>15</td>\n",
       "      <td>6</td>\n",
       "      <td>4</td>\n",
       "      <td>32</td>\n",
       "      <td>47</td>\n",
       "      <td>0 days 00:00:00.059523</td>\n",
       "      <td>0</td>\n",
       "    </tr>\n",
       "    <tr>\n",
       "      <th>2050</th>\n",
       "      <td>petkaantonov/bluebird</td>\n",
       "      <td>1</td>\n",
       "      <td>v</td>\n",
       "      <td>24</td>\n",
       "      <td>11</td>\n",
       "      <td>7</td>\n",
       "      <td>115</td>\n",
       "      <td>139</td>\n",
       "      <td>0 days 00:00:00.165153</td>\n",
       "      <td>0</td>\n",
       "    </tr>\n",
       "    <tr>\n",
       "      <th>718</th>\n",
       "      <td>theonedev/onedev</td>\n",
       "      <td>2</td>\n",
       "      <td>v</td>\n",
       "      <td>26</td>\n",
       "      <td>17</td>\n",
       "      <td>2</td>\n",
       "      <td>131</td>\n",
       "      <td>157</td>\n",
       "      <td>0 days 00:00:00.233250</td>\n",
       "      <td>0</td>\n",
       "    </tr>\n",
       "    <tr>\n",
       "      <th>564</th>\n",
       "      <td>burnash/gspread</td>\n",
       "      <td>2</td>\n",
       "      <td>v</td>\n",
       "      <td>19</td>\n",
       "      <td>9</td>\n",
       "      <td>8</td>\n",
       "      <td>21</td>\n",
       "      <td>40</td>\n",
       "      <td>0 days 00:00:00.067311</td>\n",
       "      <td>0</td>\n",
       "    </tr>\n",
       "    <tr>\n",
       "      <th>962</th>\n",
       "      <td>ffuf/ffuf</td>\n",
       "      <td>1</td>\n",
       "      <td>v</td>\n",
       "      <td>18</td>\n",
       "      <td>8</td>\n",
       "      <td>5</td>\n",
       "      <td>6</td>\n",
       "      <td>24</td>\n",
       "      <td>0 days 00:00:00.028255</td>\n",
       "      <td>0</td>\n",
       "    </tr>\n",
       "    <tr>\n",
       "      <th>1738</th>\n",
       "      <td>micro/micro</td>\n",
       "      <td>2</td>\n",
       "      <td>v</td>\n",
       "      <td>62</td>\n",
       "      <td>48</td>\n",
       "      <td>2</td>\n",
       "      <td>37</td>\n",
       "      <td>99</td>\n",
       "      <td>0 days 00:00:00.244219</td>\n",
       "      <td>0</td>\n",
       "    </tr>\n",
       "    <tr>\n",
       "      <th>1381</th>\n",
       "      <td>uber/react-vis</td>\n",
       "      <td>2</td>\n",
       "      <td>v</td>\n",
       "      <td>22</td>\n",
       "      <td>14</td>\n",
       "      <td>3</td>\n",
       "      <td>77</td>\n",
       "      <td>99</td>\n",
       "      <td>0 days 00:00:00.065358</td>\n",
       "      <td>0</td>\n",
       "    </tr>\n",
       "    <tr>\n",
       "      <th>647</th>\n",
       "      <td>travist/jsencrypt</td>\n",
       "      <td>2</td>\n",
       "      <td>v</td>\n",
       "      <td>7</td>\n",
       "      <td>2</td>\n",
       "      <td>3</td>\n",
       "      <td>3</td>\n",
       "      <td>10</td>\n",
       "      <td>0 days 00:00:00.023553</td>\n",
       "      <td>0</td>\n",
       "    </tr>\n",
       "    <tr>\n",
       "      <th>629</th>\n",
       "      <td>davidjbradshaw/iframe-resizer</td>\n",
       "      <td>2</td>\n",
       "      <td>v</td>\n",
       "      <td>26</td>\n",
       "      <td>16</td>\n",
       "      <td>7</td>\n",
       "      <td>96</td>\n",
       "      <td>122</td>\n",
       "      <td>0 days 00:00:00.104132</td>\n",
       "      <td>0</td>\n",
       "    </tr>\n",
       "    <tr>\n",
       "      <th>686</th>\n",
       "      <td>remix-run/history</td>\n",
       "      <td>1</td>\n",
       "      <td>v</td>\n",
       "      <td>38</td>\n",
       "      <td>24</td>\n",
       "      <td>7</td>\n",
       "      <td>40</td>\n",
       "      <td>78</td>\n",
       "      <td>0 days 00:00:00.069134</td>\n",
       "      <td>0</td>\n",
       "    </tr>\n",
       "  </tbody>\n",
       "</table>\n",
       "</div>"
      ],
      "text/plain": [
       "                            project  prefixes prefixes_names  main_releases  \\\n",
       "1122                 TarsCloud/Tars         2              v             15   \n",
       "2050          petkaantonov/bluebird         1              v             24   \n",
       "718                theonedev/onedev         2              v             26   \n",
       "564                 burnash/gspread         2              v             19   \n",
       "962                       ffuf/ffuf         1              v             18   \n",
       "1738                    micro/micro         2              v             62   \n",
       "1381                 uber/react-vis         2              v             22   \n",
       "647               travist/jsencrypt         2              v              7   \n",
       "629   davidjbradshaw/iframe-resizer         2              v             26   \n",
       "686               remix-run/history         1              v             38   \n",
       "\n",
       "      rapid_releases  trad_releases  patches  releases                   time  \\\n",
       "1122               6              4       32        47 0 days 00:00:00.059523   \n",
       "2050              11              7      115       139 0 days 00:00:00.165153   \n",
       "718               17              2      131       157 0 days 00:00:00.233250   \n",
       "564                9              8       21        40 0 days 00:00:00.067311   \n",
       "962                8              5        6        24 0 days 00:00:00.028255   \n",
       "1738              48              2       37        99 0 days 00:00:00.244219   \n",
       "1381              14              3       77        99 0 days 00:00:00.065358   \n",
       "647                2              3        3        10 0 days 00:00:00.023553   \n",
       "629               16              7       96       122 0 days 00:00:00.104132   \n",
       "686               24              7       40        78 0 days 00:00:00.069134   \n",
       "\n",
       "      uncommon_prefixes  \n",
       "1122                  0  \n",
       "2050                  0  \n",
       "718                   0  \n",
       "564                   0  \n",
       "962                   0  \n",
       "1738                  0  \n",
       "1381                  0  \n",
       "647                   0  \n",
       "629                   0  \n",
       "686                   0  "
      ]
     },
     "execution_count": 47,
     "metadata": {},
     "output_type": "execute_result"
    }
   ],
   "source": [
    "selected_projects.sample(10)"
   ]
  },
  {
   "cell_type": "code",
   "execution_count": 48,
   "id": "7e248c6c-4da2-4557-8683-7df283e040b8",
   "metadata": {
    "tags": []
   },
   "outputs": [
    {
     "data": {
      "text/plain": [
       "1309"
      ]
     },
     "execution_count": 48,
     "metadata": {},
     "output_type": "execute_result"
    }
   ],
   "source": [
    "len(selected_projects)"
   ]
  },
  {
   "cell_type": "code",
   "execution_count": 49,
   "id": "099cdf2e-c0e9-426d-9de3-3c4843b47ff6",
   "metadata": {},
   "outputs": [],
   "source": [
    "selected_projects.to_csv(DATA_PATH / '10_projects_selected.csv', index=False)"
   ]
  },
  {
   "cell_type": "code",
   "execution_count": null,
   "id": "39590c9b-dcf9-4fd4-a4d6-db99a17157ec",
   "metadata": {},
   "outputs": [],
   "source": []
  }
 ],
 "metadata": {
  "kernelspec": {
   "display_name": "Python 3 (ipykernel)",
   "language": "python",
   "name": "python3"
  },
  "language_info": {
   "codemirror_mode": {
    "name": "ipython",
    "version": 3
   },
   "file_extension": ".py",
   "mimetype": "text/x-python",
   "name": "python",
   "nbconvert_exporter": "python",
   "pygments_lexer": "ipython3",
   "version": "3.11.2"
  }
 },
 "nbformat": 4,
 "nbformat_minor": 5
}
