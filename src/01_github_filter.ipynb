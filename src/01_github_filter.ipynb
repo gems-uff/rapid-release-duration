{
 "cells": [
  {
   "cell_type": "markdown",
   "id": "07519d91-cf7f-4e0e-bd7a-6888138f5e42",
   "metadata": {},
   "source": [
    "# GitHub Filter\n",
    "\n",
    "This notebook filter the projects based on GitHub metadata. \n",
    "\n",
    "This notebook filter the projects based on the following criteria:\n",
    "\n",
    " - developed using one of the top 10 languages from stackoverflow survey\n",
    " - had at least 10 tags\n",
    "\n",
    "The results are stored in the `data/01_github_project_results.json` and we cloned the projects using the `src/02_github_clone.sh`\n"
   ]
  },
  {
   "cell_type": "code",
   "execution_count": 1,
   "id": "23f277c8-dfc6-4be0-9686-2d504c03986b",
   "metadata": {},
   "outputs": [],
   "source": [
    "import json\n",
    "import os"
   ]
  },
  {
   "cell_type": "code",
   "execution_count": 2,
   "id": "9a54fff7-adb1-41ef-ba9a-17ce3a300545",
   "metadata": {},
   "outputs": [],
   "source": [
    "from util import DATA_PATH"
   ]
  },
  {
   "cell_type": "code",
   "execution_count": 3,
   "id": "90d3a932-9f64-48b2-b472-27c6bad9e086",
   "metadata": {},
   "outputs": [
    {
     "name": "stdout",
     "output_type": "stream",
     "text": [
      "GitHub Projects: 4,870\n"
     ]
    }
   ],
   "source": [
    "with open(DATA_PATH / '00_github_project_search-results.json', 'r') as infile:\n",
    "    projects = json.load(infile)\n",
    "    \n",
    "print(\"GitHub Projects: {:,}\".format(len(projects)))"
   ]
  },
  {
   "cell_type": "code",
   "execution_count": 4,
   "id": "56a28b23-d6a6-47e5-ae9c-8a820948dab3",
   "metadata": {},
   "outputs": [
    {
     "data": {
      "text/plain": [
       "{'c',\n",
       " 'c#',\n",
       " 'c++',\n",
       " 'go',\n",
       " 'java',\n",
       " 'javascript',\n",
       " 'kotlin',\n",
       " 'php',\n",
       " 'python',\n",
       " 'typescript'}"
      ]
     },
     "execution_count": 4,
     "metadata": {},
     "output_type": "execute_result"
    }
   ],
   "source": [
    "# define top languages\n",
    "top_langs = set(lang.lower() for lang in ['JavaScript', 'Python', 'Java', 'TypeScript', 'C#', 'C++', 'PHP', 'C', 'Go', 'Kotlin'])\n",
    "top_langs"
   ]
  },
  {
   "cell_type": "code",
   "execution_count": 5,
   "id": "4af0db7b-2cfd-417b-b99d-ee62fcebaa5b",
   "metadata": {},
   "outputs": [],
   "source": [
    "# Apply filters\n",
    "def project_criteria(project):\n",
    "    # fewer potential releases\n",
    "    if project['tags']['totalCount'] < 10:\n",
    "        return False\n",
    "    \n",
    "    # no language\n",
    "    if not project['topLanguage']['edges']:\n",
    "        return False\n",
    "    \n",
    "    # unselected language\n",
    "    if project['topLanguage']['edges'][0]['node']['name'].lower() not in top_langs:\n",
    "        return False\n",
    "    \n",
    "    return True\n",
    "        \n",
    "selected_projects = [project for project in filter(project_criteria, projects)]\n",
    "    \n",
    "# selected_projects = [project for project in projects\n",
    "#                      if project['tags']['totalCount'] >= 10\n",
    "#                  and projects[0]['topLanguage']['edges'][0]['node']['name'].lower() in set(lang.lower() for lang in ['JavaScript', 'Python', 'Java', 'TypeScript', 'C#', 'C++', 'PHP', 'C', 'Go', 'Kotlin'])]"
   ]
  },
  {
   "cell_type": "code",
   "execution_count": 6,
   "id": "778f2c9e-1a71-49c0-af22-610761467b9a",
   "metadata": {},
   "outputs": [
    {
     "name": "stdout",
     "output_type": "stream",
     "text": [
      "Selected projects: 2,772\n"
     ]
    }
   ],
   "source": [
    "print(\"Selected projects: {:,}\".format(len(selected_projects)))"
   ]
  },
  {
   "cell_type": "code",
   "execution_count": 7,
   "id": "5db3a301-b1d6-41f1-a070-99149805c847",
   "metadata": {},
   "outputs": [
    {
     "name": "stdout",
     "output_type": "stream",
     "text": [
      "Tags: 608,257\n"
     ]
    }
   ],
   "source": [
    "print(\"Tags: {:,}\".format(sum(map(lambda project: project['tags']['totalCount'], selected_projects))))"
   ]
  },
  {
   "cell_type": "code",
   "execution_count": 8,
   "id": "12974050-121a-4ae1-8d2b-0a94f16f0b55",
   "metadata": {},
   "outputs": [
    {
     "name": "stdout",
     "output_type": "stream",
     "text": [
      "HEAD commits: 21,317,678\n"
     ]
    }
   ],
   "source": [
    "print(\"HEAD commits: {:,}\".format(sum(map(lambda project: project['commits']['history']['totalCount'], selected_projects))))"
   ]
  },
  {
   "cell_type": "code",
   "execution_count": 9,
   "id": "ad988e67-5a7e-4c56-8eab-90fabcad474e",
   "metadata": {},
   "outputs": [],
   "source": [
    "with open(DATA_PATH / '01_github_project_results.json', 'w') as outfile:\n",
    "    json.dump(selected_projects, outfile)"
   ]
  },
  {
   "cell_type": "code",
   "execution_count": 10,
   "id": "0a67eb71-be84-4268-accc-e0a2b64e5440",
   "metadata": {},
   "outputs": [],
   "source": [
    "with open(DATA_PATH / '01_github_project_results.txt', 'w') as outfile:\n",
    "    outfile.write(\n",
    "        '\\n'.join(\n",
    "            map(lambda p: p['nameWithOwner'], selected_projects)))"
   ]
  }
 ],
 "metadata": {
  "kernelspec": {
   "display_name": "Python 3 (ipykernel)",
   "language": "python",
   "name": "python3"
  },
  "language_info": {
   "codemirror_mode": {
    "name": "ipython",
    "version": 3
   },
   "file_extension": ".py",
   "mimetype": "text/x-python",
   "name": "python",
   "nbconvert_exporter": "python",
   "pygments_lexer": "ipython3",
   "version": "3.11.2"
  },
  "vscode": {
   "interpreter": {
    "hash": "05625006a7d5fe1aaa9c13faa21f275f05599a0dad3423f71539d1e366a6e64f"
   }
  }
 },
 "nbformat": 4,
 "nbformat_minor": 5
}
