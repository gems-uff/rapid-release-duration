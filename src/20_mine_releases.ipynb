{
 "cells": [
  {
   "cell_type": "markdown",
   "id": "d7227d37-44b9-4e9b-ab78-59f09bffb985",
   "metadata": {},
   "source": [
    "# Mine releases from selected projects\n",
    "\n",
    "This notebook mine the releases"
   ]
  },
  {
   "cell_type": "code",
   "execution_count": 1,
   "id": "a304ccaa-d06d-402c-89dd-2412c732c2f7",
   "metadata": {},
   "outputs": [],
   "source": [
    "import os\n",
    "import datetime\n",
    "import json\n",
    "import re\n",
    "import traceback\n",
    "import math\n",
    "\n",
    "from multiprocessing import Pool\n",
    "import pandas as pd\n",
    "\n",
    "from ipywidgets import IntProgress\n",
    "from IPython.display import display\n",
    "\n",
    "import releasy"
   ]
  },
  {
   "cell_type": "code",
   "execution_count": 2,
   "id": "40cdeee0-c510-4517-85fc-538813f21816",
   "metadata": {},
   "outputs": [],
   "source": [
    "from util import (\n",
    "    DATA_PATH,\n",
    "    REPO_PATH,\n",
    "    TMP_PATH, \n",
    "    CPU,\n",
    "    CycleType,\n",
    "    RAPID_RELEASE_LIM,\n",
    "    TRAD_RELEASE_LIM,\n",
    "    delta2days,\n",
    "    is_rapid_release,\n",
    "    is_trad_release,\n",
    "    get_cycle,\n",
    "    get_duration,\n",
    "    get_start_delay,\n",
    "    get_commits_in_advance\n",
    ")"
   ]
  },
  {
   "cell_type": "code",
   "execution_count": 3,
   "id": "f63025a7-662a-419e-a708-ac81549852ca",
   "metadata": {},
   "outputs": [],
   "source": [
    "selected_projects = pd.read_csv(DATA_PATH / '10_projects_selected.csv')"
   ]
  },
  {
   "cell_type": "markdown",
   "id": "5bed686d-0b1a-49b2-b035-88f48e5ea910",
   "metadata": {},
   "source": [
    "## Mine Releases\n"
   ]
  },
  {
   "cell_type": "code",
   "execution_count": 4,
   "id": "9eacb421-acca-40e7-a25f-73a0b398952d",
   "metadata": {},
   "outputs": [],
   "source": [
    "def mine(name: str) -> releasy.Project:\n",
    "    elapsed_time = datetime.datetime.now()\n",
    "    \n",
    "    try:\n",
    "        repo_path = str(REPO_PATH / name)\n",
    "        project = releasy.Miner(repo_path, name).apply(\n",
    "            releasy.FinalReleaseMiner(),\n",
    "            releasy.HistoryCommitMiner(),\n",
    "            releasy.BaseReleaseMiner(),\n",
    "            releasy.ContributorMiner(),\n",
    "            releasy.SemanticReleaseMiner()\n",
    "        ).mine()\n",
    "\n",
    "        rapid_releases = [release for release in project.main_releases if is_rapid_release(release) and len(release.commits) >= 10]\n",
    "        trad_releases = [release for release in project.main_releases if is_trad_release(release) and len(release.commits) >= 10]\n",
    "        \n",
    "        project_data = {\n",
    "            'project': project.name,\n",
    "            'prefixes': len(project.releases.prefixes()),\n",
    "            'prefixes_names': str(\" \".join(project.releases.prefixes())),\n",
    "            'main_releases': len(project.main_releases),\n",
    "            'rapid_releases': len(rapid_releases),\n",
    "            'trad_releases': len(trad_releases),\n",
    "            'patches': len(project.patches),\n",
    "            'releases': len(project.releases)\n",
    "        }\n",
    "        \n",
    "        release_data = []\n",
    "        sreleases = [release for release in project.main_releases if len(release.commits) >= 10]\n",
    "        for srelease in sreleases:\n",
    "            # release = srelease.release\n",
    "            # cycle_days = delta2days(get_cycle(srelease))\n",
    "            # delay = delta2days(srelease.delay)\n",
    "            # prev_release = srelease.prev_main_release\n",
    "\n",
    "            if not srelease.commits or not srelease.prev_main_release:\n",
    "                continue\n",
    "                \n",
    "            cycle_days = delta2days(get_cycle(srelease))\n",
    "            duration = delta2days(get_duration(srelease))\n",
    "            start_delay = delta2days(get_start_delay(srelease))\n",
    "            commits_in_advance = get_commits_in_advance(srelease)\n",
    "            \n",
    "            release_data.append({\n",
    "                'project': project.name,\n",
    "                'release': srelease.name,\n",
    "                'previous_release': srelease.prev_main_release.name if srelease.prev_main_release else '',\n",
    "                'cycle_old': delta2days(srelease.cycle),\n",
    "                'cycle_days': cycle_days,\n",
    "                'rapid_release': is_rapid_release(srelease),\n",
    "                'trad_release': is_trad_release(srelease),\n",
    "                \n",
    "                'commits': len(srelease.commits),\n",
    "                'commits_in_advance': len(commits_in_advance),\n",
    "                'start_delay': start_delay,\n",
    "                'duration': duration,\n",
    "                'patches': len(srelease.patches)     \n",
    "            })\n",
    "        \n",
    "        elapsed_time = datetime.datetime.now() - elapsed_time\n",
    "        project_data['time'] = elapsed_time\n",
    "    except Exception as err:\n",
    "        print(f\"{name:40} {err=}\")\n",
    "        traceback.print_exception(err)\n",
    "        project_data = {}\n",
    "        release_data = []\n",
    "    \n",
    "    return project_data, release_data"
   ]
  },
  {
   "cell_type": "code",
   "execution_count": 5,
   "id": "eb1e0463-4ef7-4fce-ac21-1f76fc70d4e9",
   "metadata": {
    "tags": []
   },
   "outputs": [],
   "source": [
    "project_names = list(selected_projects['project'])\n",
    "# project_names = project_names[:1]"
   ]
  },
  {
   "cell_type": "code",
   "execution_count": 6,
   "id": "cc5e63d9-8065-4207-81e8-e5efc21dcf6c",
   "metadata": {
    "tags": []
   },
   "outputs": [
    {
     "data": {
      "application/vnd.jupyter.widget-view+json": {
       "model_id": "440fca1d5a8648b3850d8df1f498459e",
       "version_major": 2,
       "version_minor": 0
      },
      "text/plain": [
       "IntProgress(value=0, max=1039)"
      ]
     },
     "metadata": {},
     "output_type": "display_data"
    }
   ],
   "source": [
    "with Pool(processes=CPU) as pool:\n",
    "    processed = 0\n",
    "    project_results = []\n",
    "    release_results = []\n",
    "    progress = IntProgress(min=0, max=len(project_names))\n",
    "    display(progress)\n",
    "    for result in pool.imap_unordered(mine, project_names):\n",
    "        project_result, release_result = result\n",
    "        project_results.append(project_result)\n",
    "        release_results.extend(release_result)\n",
    "        progress.value += 1\n"
   ]
  },
  {
   "cell_type": "code",
   "execution_count": 7,
   "id": "50f38c5a-a34d-4886-ad0c-6fe0da60cb24",
   "metadata": {},
   "outputs": [
    {
     "data": {
      "text/html": [
       "<div>\n",
       "<style scoped>\n",
       "    .dataframe tbody tr th:only-of-type {\n",
       "        vertical-align: middle;\n",
       "    }\n",
       "\n",
       "    .dataframe tbody tr th {\n",
       "        vertical-align: top;\n",
       "    }\n",
       "\n",
       "    .dataframe thead th {\n",
       "        text-align: right;\n",
       "    }\n",
       "</style>\n",
       "<table border=\"1\" class=\"dataframe\">\n",
       "  <thead>\n",
       "    <tr style=\"text-align: right;\">\n",
       "      <th></th>\n",
       "      <th>project</th>\n",
       "      <th>prefixes</th>\n",
       "      <th>prefixes_names</th>\n",
       "      <th>main_releases</th>\n",
       "      <th>rapid_releases</th>\n",
       "      <th>trad_releases</th>\n",
       "      <th>patches</th>\n",
       "      <th>releases</th>\n",
       "      <th>time</th>\n",
       "    </tr>\n",
       "  </thead>\n",
       "  <tbody>\n",
       "    <tr>\n",
       "      <th>700</th>\n",
       "      <td>swagger-api/swagger-ui</td>\n",
       "      <td>3</td>\n",
       "      <td>v/ v</td>\n",
       "      <td>69</td>\n",
       "      <td>34</td>\n",
       "      <td>10</td>\n",
       "      <td>189</td>\n",
       "      <td>258</td>\n",
       "      <td>0 days 00:00:00.340142</td>\n",
       "    </tr>\n",
       "  </tbody>\n",
       "</table>\n",
       "</div>"
      ],
      "text/plain": [
       "                    project  prefixes prefixes_names  main_releases  \\\n",
       "700  swagger-api/swagger-ui         3           v/ v             69   \n",
       "\n",
       "     rapid_releases  trad_releases  patches  releases                   time  \n",
       "700              34             10      189       258 0 days 00:00:00.340142  "
      ]
     },
     "execution_count": 7,
     "metadata": {},
     "output_type": "execute_result"
    }
   ],
   "source": [
    "projects = pd.DataFrame(project_results)\n",
    "projects.sample(1)"
   ]
  },
  {
   "cell_type": "code",
   "execution_count": 8,
   "id": "246d5343-7834-42e8-8bde-690bbcd1a574",
   "metadata": {
    "tags": []
   },
   "outputs": [
    {
     "data": {
      "text/html": [
       "<div>\n",
       "<style scoped>\n",
       "    .dataframe tbody tr th:only-of-type {\n",
       "        vertical-align: middle;\n",
       "    }\n",
       "\n",
       "    .dataframe tbody tr th {\n",
       "        vertical-align: top;\n",
       "    }\n",
       "\n",
       "    .dataframe thead th {\n",
       "        text-align: right;\n",
       "    }\n",
       "</style>\n",
       "<table border=\"1\" class=\"dataframe\">\n",
       "  <thead>\n",
       "    <tr style=\"text-align: right;\">\n",
       "      <th></th>\n",
       "      <th>project</th>\n",
       "      <th>release</th>\n",
       "      <th>previous_release</th>\n",
       "      <th>cycle_old</th>\n",
       "      <th>cycle_days</th>\n",
       "      <th>rapid_release</th>\n",
       "      <th>trad_release</th>\n",
       "      <th>commits</th>\n",
       "      <th>commits_in_advance</th>\n",
       "      <th>start_delay</th>\n",
       "      <th>duration</th>\n",
       "      <th>patches</th>\n",
       "    </tr>\n",
       "  </thead>\n",
       "  <tbody>\n",
       "    <tr>\n",
       "      <th>13106</th>\n",
       "      <td>jonas/tig</td>\n",
       "      <td>tig-0.14</td>\n",
       "      <td>tig-0.13</td>\n",
       "      <td>22.925162</td>\n",
       "      <td>22.925382</td>\n",
       "      <td>True</td>\n",
       "      <td>False</td>\n",
       "      <td>78</td>\n",
       "      <td>1</td>\n",
       "      <td>-81.549421</td>\n",
       "      <td>104.474803</td>\n",
       "      <td>1</td>\n",
       "    </tr>\n",
       "    <tr>\n",
       "      <th>3146</th>\n",
       "      <td>garris/BackstopJS</td>\n",
       "      <td>v3.7.0</td>\n",
       "      <td>v3.6.0</td>\n",
       "      <td>9.431007</td>\n",
       "      <td>9.431007</td>\n",
       "      <td>True</td>\n",
       "      <td>False</td>\n",
       "      <td>13</td>\n",
       "      <td>0</td>\n",
       "      <td>2.736481</td>\n",
       "      <td>6.694525</td>\n",
       "      <td>5</td>\n",
       "    </tr>\n",
       "    <tr>\n",
       "      <th>1064</th>\n",
       "      <td>graphql-dotnet/graphql-dotnet</td>\n",
       "      <td>v0.8.0</td>\n",
       "      <td>v0.7.0</td>\n",
       "      <td>4.519282</td>\n",
       "      <td>4.519282</td>\n",
       "      <td>True</td>\n",
       "      <td>False</td>\n",
       "      <td>16</td>\n",
       "      <td>2</td>\n",
       "      <td>-258.214954</td>\n",
       "      <td>262.734236</td>\n",
       "      <td>2</td>\n",
       "    </tr>\n",
       "    <tr>\n",
       "      <th>25066</th>\n",
       "      <td>influxdata/influxdb</td>\n",
       "      <td>v0.10.0</td>\n",
       "      <td>v0.9.0</td>\n",
       "      <td>238.083947</td>\n",
       "      <td>238.083947</td>\n",
       "      <td>False</td>\n",
       "      <td>True</td>\n",
       "      <td>425</td>\n",
       "      <td>0</td>\n",
       "      <td>111.714132</td>\n",
       "      <td>126.369815</td>\n",
       "      <td>3</td>\n",
       "    </tr>\n",
       "    <tr>\n",
       "      <th>10271</th>\n",
       "      <td>HabitRPG/habitica</td>\n",
       "      <td>v4.28.0</td>\n",
       "      <td>v4.27.0</td>\n",
       "      <td>8.858310</td>\n",
       "      <td>8.858310</td>\n",
       "      <td>True</td>\n",
       "      <td>False</td>\n",
       "      <td>59</td>\n",
       "      <td>19</td>\n",
       "      <td>-4.572662</td>\n",
       "      <td>13.430972</td>\n",
       "      <td>2</td>\n",
       "    </tr>\n",
       "    <tr>\n",
       "      <th>16136</th>\n",
       "      <td>afollestad/material-dialogs</td>\n",
       "      <td>2.8.0</td>\n",
       "      <td>2.7.0</td>\n",
       "      <td>11.265058</td>\n",
       "      <td>11.265058</td>\n",
       "      <td>True</td>\n",
       "      <td>False</td>\n",
       "      <td>10</td>\n",
       "      <td>0</td>\n",
       "      <td>0.001181</td>\n",
       "      <td>11.263877</td>\n",
       "      <td>1</td>\n",
       "    </tr>\n",
       "    <tr>\n",
       "      <th>1071</th>\n",
       "      <td>graphql-dotnet/graphql-dotnet</td>\n",
       "      <td>3.0.0</td>\n",
       "      <td>v2.4.0</td>\n",
       "      <td>657.624167</td>\n",
       "      <td>657.624167</td>\n",
       "      <td>False</td>\n",
       "      <td>True</td>\n",
       "      <td>407</td>\n",
       "      <td>1</td>\n",
       "      <td>-10.042986</td>\n",
       "      <td>667.667153</td>\n",
       "      <td>0</td>\n",
       "    </tr>\n",
       "    <tr>\n",
       "      <th>20719</th>\n",
       "      <td>Genymobile/scrcpy</td>\n",
       "      <td>v1.23</td>\n",
       "      <td>v1.22</td>\n",
       "      <td>24.311597</td>\n",
       "      <td>24.220174</td>\n",
       "      <td>True</td>\n",
       "      <td>False</td>\n",
       "      <td>120</td>\n",
       "      <td>6</td>\n",
       "      <td>-649.197894</td>\n",
       "      <td>673.418067</td>\n",
       "      <td>0</td>\n",
       "    </tr>\n",
       "    <tr>\n",
       "      <th>13786</th>\n",
       "      <td>redis/redis-py</td>\n",
       "      <td>3.2.0</td>\n",
       "      <td>3.1.0</td>\n",
       "      <td>19.900336</td>\n",
       "      <td>19.900336</td>\n",
       "      <td>True</td>\n",
       "      <td>False</td>\n",
       "      <td>20</td>\n",
       "      <td>4</td>\n",
       "      <td>-40.438391</td>\n",
       "      <td>60.338727</td>\n",
       "      <td>1</td>\n",
       "    </tr>\n",
       "    <tr>\n",
       "      <th>5631</th>\n",
       "      <td>Zettlr/Zettlr</td>\n",
       "      <td>v1.4.0</td>\n",
       "      <td>v1.3.0</td>\n",
       "      <td>90.476238</td>\n",
       "      <td>90.476238</td>\n",
       "      <td>False</td>\n",
       "      <td>True</td>\n",
       "      <td>155</td>\n",
       "      <td>0</td>\n",
       "      <td>0.725694</td>\n",
       "      <td>89.750544</td>\n",
       "      <td>3</td>\n",
       "    </tr>\n",
       "  </tbody>\n",
       "</table>\n",
       "</div>"
      ],
      "text/plain": [
       "                             project   release previous_release   cycle_old  \\\n",
       "13106                      jonas/tig  tig-0.14         tig-0.13   22.925162   \n",
       "3146               garris/BackstopJS    v3.7.0           v3.6.0    9.431007   \n",
       "1064   graphql-dotnet/graphql-dotnet    v0.8.0           v0.7.0    4.519282   \n",
       "25066            influxdata/influxdb   v0.10.0           v0.9.0  238.083947   \n",
       "10271              HabitRPG/habitica   v4.28.0          v4.27.0    8.858310   \n",
       "16136    afollestad/material-dialogs     2.8.0            2.7.0   11.265058   \n",
       "1071   graphql-dotnet/graphql-dotnet     3.0.0           v2.4.0  657.624167   \n",
       "20719              Genymobile/scrcpy     v1.23            v1.22   24.311597   \n",
       "13786                 redis/redis-py     3.2.0            3.1.0   19.900336   \n",
       "5631                   Zettlr/Zettlr    v1.4.0           v1.3.0   90.476238   \n",
       "\n",
       "       cycle_days  rapid_release  trad_release  commits  commits_in_advance  \\\n",
       "13106   22.925382           True         False       78                   1   \n",
       "3146     9.431007           True         False       13                   0   \n",
       "1064     4.519282           True         False       16                   2   \n",
       "25066  238.083947          False          True      425                   0   \n",
       "10271    8.858310           True         False       59                  19   \n",
       "16136   11.265058           True         False       10                   0   \n",
       "1071   657.624167          False          True      407                   1   \n",
       "20719   24.220174           True         False      120                   6   \n",
       "13786   19.900336           True         False       20                   4   \n",
       "5631    90.476238          False          True      155                   0   \n",
       "\n",
       "       start_delay    duration  patches  \n",
       "13106   -81.549421  104.474803        1  \n",
       "3146      2.736481    6.694525        5  \n",
       "1064   -258.214954  262.734236        2  \n",
       "25066   111.714132  126.369815        3  \n",
       "10271    -4.572662   13.430972        2  \n",
       "16136     0.001181   11.263877        1  \n",
       "1071    -10.042986  667.667153        0  \n",
       "20719  -649.197894  673.418067        0  \n",
       "13786   -40.438391   60.338727        1  \n",
       "5631      0.725694   89.750544        3  "
      ]
     },
     "execution_count": 8,
     "metadata": {},
     "output_type": "execute_result"
    }
   ],
   "source": [
    "releases = pd.DataFrame(release_results)\n",
    "releases.sample(10)"
   ]
  },
  {
   "cell_type": "code",
   "execution_count": 9,
   "id": "a2a2184c-4e46-4cf9-a87d-658106bc818f",
   "metadata": {
    "tags": []
   },
   "outputs": [
    {
     "data": {
      "text/plain": [
       "1039"
      ]
     },
     "execution_count": 9,
     "metadata": {},
     "output_type": "execute_result"
    }
   ],
   "source": [
    "len(projects)"
   ]
  },
  {
   "cell_type": "code",
   "execution_count": 10,
   "id": "c019b95d-9599-4f19-bfa9-0680e7287e1c",
   "metadata": {
    "tags": []
   },
   "outputs": [
    {
     "data": {
      "text/plain": [
       "25149"
      ]
     },
     "execution_count": 10,
     "metadata": {},
     "output_type": "execute_result"
    }
   ],
   "source": [
    "len(releases)"
   ]
  },
  {
   "cell_type": "code",
   "execution_count": 11,
   "id": "30584c58-319b-4246-b38d-e6d0228f092f",
   "metadata": {
    "tags": []
   },
   "outputs": [
    {
     "data": {
      "text/plain": [
       "13102"
      ]
     },
     "execution_count": 11,
     "metadata": {},
     "output_type": "execute_result"
    }
   ],
   "source": [
    "len(releases.query(\"rapid_release == True\"))"
   ]
  },
  {
   "cell_type": "code",
   "execution_count": 12,
   "id": "bdaf5aec-f377-45ab-8923-5839b18e4959",
   "metadata": {
    "tags": []
   },
   "outputs": [
    {
     "data": {
      "text/plain": [
       "7071"
      ]
     },
     "execution_count": 12,
     "metadata": {},
     "output_type": "execute_result"
    }
   ],
   "source": [
    "len(releases.query(\"trad_release == True\"))"
   ]
  },
  {
   "cell_type": "code",
   "execution_count": 13,
   "id": "b2b01b4c-5678-4e1a-a36d-47cdb33bedef",
   "metadata": {
    "tags": []
   },
   "outputs": [
    {
     "data": {
      "text/plain": [
       "4976"
      ]
     },
     "execution_count": 13,
     "metadata": {},
     "output_type": "execute_result"
    }
   ],
   "source": [
    "len(releases.query(\"rapid_release == False and trad_release == False\"))"
   ]
  },
  {
   "cell_type": "code",
   "execution_count": 14,
   "id": "cec37ef4-8f57-42ea-9461-613ebe96ff4d",
   "metadata": {
    "tags": []
   },
   "outputs": [
    {
     "data": {
      "text/plain": [
       "3877182"
      ]
     },
     "execution_count": 14,
     "metadata": {},
     "output_type": "execute_result"
    }
   ],
   "source": [
    "releases['commits'].sum()"
   ]
  },
  {
   "cell_type": "code",
   "execution_count": 15,
   "id": "7f4a1199-470f-4a89-a491-0c7e06ce9af1",
   "metadata": {
    "tags": []
   },
   "outputs": [],
   "source": [
    "projects.to_csv(DATA_PATH / '20_projects.csv', index=False)"
   ]
  },
  {
   "cell_type": "code",
   "execution_count": 16,
   "id": "099cdf2e-c0e9-426d-9de3-3c4843b47ff6",
   "metadata": {},
   "outputs": [],
   "source": [
    "releases.to_csv(DATA_PATH / '20_releases.csv', index=False)"
   ]
  },
  {
   "cell_type": "code",
   "execution_count": null,
   "id": "14bd86a5-75b4-4afd-8a12-fb3b2dfea783",
   "metadata": {},
   "outputs": [],
   "source": []
  },
  {
   "cell_type": "code",
   "execution_count": null,
   "id": "1fbdaa5b-1d37-4f6f-b5cb-0ad8af980fd4",
   "metadata": {},
   "outputs": [],
   "source": []
  }
 ],
 "metadata": {
  "kernelspec": {
   "display_name": "Python 3 (ipykernel)",
   "language": "python",
   "name": "python3"
  },
  "language_info": {
   "codemirror_mode": {
    "name": "ipython",
    "version": 3
   },
   "file_extension": ".py",
   "mimetype": "text/x-python",
   "name": "python",
   "nbconvert_exporter": "python",
   "pygments_lexer": "ipython3",
   "version": "3.11.2"
  }
 },
 "nbformat": 4,
 "nbformat_minor": 5
}
