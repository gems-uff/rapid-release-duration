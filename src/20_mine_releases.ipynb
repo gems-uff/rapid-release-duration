{
 "cells": [
  {
   "cell_type": "markdown",
   "id": "d7227d37-44b9-4e9b-ab78-59f09bffb985",
   "metadata": {},
   "source": [
    "# Mine releases from selected projects\n",
    "\n",
    "This notebook mine the releases"
   ]
  },
  {
   "cell_type": "code",
   "execution_count": 1,
   "id": "a304ccaa-d06d-402c-89dd-2412c732c2f7",
   "metadata": {},
   "outputs": [],
   "source": [
    "import os\n",
    "import datetime\n",
    "import json\n",
    "import re\n",
    "import traceback\n",
    "import math\n",
    "\n",
    "from multiprocessing import Pool\n",
    "import pandas as pd\n",
    "\n",
    "from ipywidgets import IntProgress\n",
    "from IPython.display import display\n",
    "\n",
    "import releasy"
   ]
  },
  {
   "cell_type": "code",
   "execution_count": 2,
   "id": "40cdeee0-c510-4517-85fc-538813f21816",
   "metadata": {},
   "outputs": [],
   "source": [
    "from util import (\n",
    "    DATA_PATH,\n",
    "    REPO_PATH,\n",
    "    TMP_PATH, \n",
    "    CPU,\n",
    "    CycleType,\n",
    "    RAPID_RELEASE_LIM,\n",
    "    TRAD_RELEASE_LIM,\n",
    "    delta2days,\n",
    "    is_rapid_release,\n",
    "    is_trad_release,\n",
    ")"
   ]
  },
  {
   "cell_type": "code",
   "execution_count": 3,
   "id": "f63025a7-662a-419e-a708-ac81549852ca",
   "metadata": {},
   "outputs": [],
   "source": [
    "selected_projects = pd.read_csv(DATA_PATH / '10_projects_selected.csv')"
   ]
  },
  {
   "cell_type": "markdown",
   "id": "5bed686d-0b1a-49b2-b035-88f48e5ea910",
   "metadata": {},
   "source": [
    "## Mine Releases\n"
   ]
  },
  {
   "cell_type": "code",
   "execution_count": 4,
   "id": "9eacb421-acca-40e7-a25f-73a0b398952d",
   "metadata": {},
   "outputs": [],
   "source": [
    "def mine(name: str) -> releasy.Project:\n",
    "    elapsed_time = datetime.datetime.now()\n",
    "    \n",
    "    try:\n",
    "        repo_path = str(REPO_PATH / name)\n",
    "        project = releasy.Miner(repo_path, name).apply(\n",
    "            releasy.FinalReleaseMiner(),\n",
    "            releasy.HistoryCommitMiner(),\n",
    "            releasy.BaseReleaseMiner(),\n",
    "            releasy.ContributorMiner(),\n",
    "            releasy.SemanticReleaseMiner()\n",
    "        ).mine()\n",
    "\n",
    "        rapid_releases = [release for release in project.main_releases if is_rapid_release(release)]\n",
    "        trad_releases = [release for release in project.main_releases if is_trad_release(release)]\n",
    "\n",
    "        project_data = {\n",
    "            'project': project.name,\n",
    "            'prefixes': len(project.releases.prefixes()),\n",
    "            'prefixes_names': str(\" \".join(project.releases.prefixes())),\n",
    "            'main_releases': len(project.main_releases),\n",
    "            'rapid_releases': len(rapid_releases),\n",
    "            'trad_releases': len(trad_releases),\n",
    "            'patches': len(project.patches),\n",
    "            'releases': len(project.releases)\n",
    "        }\n",
    "        \n",
    "        release_data = []\n",
    "        for srelease in project.main_releases:\n",
    "            # release = srelease.release\n",
    "            cycle_days = delta2days(srelease.cycle)\n",
    "            delay = delta2days(srelease.delay)\n",
    "            prev_release = srelease.prev_main_release\n",
    "\n",
    "            if srelease.commits:\n",
    "                duration = delta2days(srelease.time - srelease.commits.first(lambda c: c.author_time).author_time)\n",
    "            else:\n",
    "                duration = 0\n",
    "                \n",
    "            if srelease.commits and prev_release:\n",
    "                commits_in_advance = [commit for commit in srelease.commits if commit.author_time < prev_release.time]\n",
    "            else: \n",
    "                commits_in_advance = []\n",
    "                \n",
    "            \n",
    "            release_data.append({\n",
    "                'project': project.name,\n",
    "                'release': srelease.name,\n",
    "                'previous_release': srelease.prev_main_release.name if srelease.prev_main_release else '',\n",
    "                'cycle': srelease.cycle,\n",
    "                'cycle_days': cycle_days,\n",
    "                'rapid_release': is_rapid_release(srelease),\n",
    "                'trad_release': is_trad_release(srelease),\n",
    "                \n",
    "                'commits': len(srelease.commits),\n",
    "                'commits_in_advance': len(commits_in_advance),\n",
    "                'start_delay': delay,\n",
    "                'duration': duration,\n",
    "                'patches': len(srelease.patches)     \n",
    "            })\n",
    "        \n",
    "        elapsed_time = datetime.datetime.now() - elapsed_time\n",
    "        project_data['time'] = elapsed_time\n",
    "    except Exception as err:\n",
    "        print(f\"{name:40} {err=}\")\n",
    "        traceback.print_exception(err)\n",
    "        project_data = {}\n",
    "        release_data = []\n",
    "    \n",
    "    return project_data, release_data"
   ]
  },
  {
   "cell_type": "code",
   "execution_count": 5,
   "id": "eb1e0463-4ef7-4fce-ac21-1f76fc70d4e9",
   "metadata": {
    "tags": []
   },
   "outputs": [],
   "source": [
    "project_names = list(selected_projects['project'])\n",
    "# project_names = project_names[:1]"
   ]
  },
  {
   "cell_type": "code",
   "execution_count": 6,
   "id": "cc5e63d9-8065-4207-81e8-e5efc21dcf6c",
   "metadata": {
    "tags": []
   },
   "outputs": [
    {
     "data": {
      "application/vnd.jupyter.widget-view+json": {
       "model_id": "59e42eba6c434079b8c7fe79211e4cb4",
       "version_major": 2,
       "version_minor": 0
      },
      "text/plain": [
       "IntProgress(value=0, max=1665)"
      ]
     },
     "metadata": {},
     "output_type": "display_data"
    }
   ],
   "source": [
    "with Pool(processes=CPU) as pool:\n",
    "    processed = 0\n",
    "    project_results = []\n",
    "    release_results = []\n",
    "    progress = IntProgress(min=0, max=len(project_names))\n",
    "    display(progress)\n",
    "    for result in pool.imap_unordered(mine, project_names):\n",
    "        project_result, release_result = result\n",
    "        project_results.append(project_result)\n",
    "        release_results.extend(release_result)\n",
    "        progress.value += 1\n"
   ]
  },
  {
   "cell_type": "code",
   "execution_count": 7,
   "id": "50f38c5a-a34d-4886-ad0c-6fe0da60cb24",
   "metadata": {},
   "outputs": [
    {
     "data": {
      "text/html": [
       "<div>\n",
       "<style scoped>\n",
       "    .dataframe tbody tr th:only-of-type {\n",
       "        vertical-align: middle;\n",
       "    }\n",
       "\n",
       "    .dataframe tbody tr th {\n",
       "        vertical-align: top;\n",
       "    }\n",
       "\n",
       "    .dataframe thead th {\n",
       "        text-align: right;\n",
       "    }\n",
       "</style>\n",
       "<table border=\"1\" class=\"dataframe\">\n",
       "  <thead>\n",
       "    <tr style=\"text-align: right;\">\n",
       "      <th></th>\n",
       "      <th>project</th>\n",
       "      <th>prefixes</th>\n",
       "      <th>prefixes_names</th>\n",
       "      <th>main_releases</th>\n",
       "      <th>rapid_releases</th>\n",
       "      <th>trad_releases</th>\n",
       "      <th>patches</th>\n",
       "      <th>releases</th>\n",
       "      <th>time</th>\n",
       "    </tr>\n",
       "  </thead>\n",
       "  <tbody>\n",
       "    <tr>\n",
       "      <th>1039</th>\n",
       "      <td>baidu/amis</td>\n",
       "      <td>1</td>\n",
       "      <td></td>\n",
       "      <td>9</td>\n",
       "      <td>5</td>\n",
       "      <td>2</td>\n",
       "      <td>37</td>\n",
       "      <td>46</td>\n",
       "      <td>0 days 00:00:00.414619</td>\n",
       "    </tr>\n",
       "  </tbody>\n",
       "</table>\n",
       "</div>"
      ],
      "text/plain": [
       "         project  prefixes prefixes_names  main_releases  rapid_releases  \\\n",
       "1039  baidu/amis         1                             9               5   \n",
       "\n",
       "      trad_releases  patches  releases                   time  \n",
       "1039              2       37        46 0 days 00:00:00.414619  "
      ]
     },
     "execution_count": 7,
     "metadata": {},
     "output_type": "execute_result"
    }
   ],
   "source": [
    "projects = pd.DataFrame(project_results)\n",
    "projects.sample(1)"
   ]
  },
  {
   "cell_type": "code",
   "execution_count": 8,
   "id": "246d5343-7834-42e8-8bde-690bbcd1a574",
   "metadata": {
    "tags": []
   },
   "outputs": [
    {
     "data": {
      "text/html": [
       "<div>\n",
       "<style scoped>\n",
       "    .dataframe tbody tr th:only-of-type {\n",
       "        vertical-align: middle;\n",
       "    }\n",
       "\n",
       "    .dataframe tbody tr th {\n",
       "        vertical-align: top;\n",
       "    }\n",
       "\n",
       "    .dataframe thead th {\n",
       "        text-align: right;\n",
       "    }\n",
       "</style>\n",
       "<table border=\"1\" class=\"dataframe\">\n",
       "  <thead>\n",
       "    <tr style=\"text-align: right;\">\n",
       "      <th></th>\n",
       "      <th>project</th>\n",
       "      <th>release</th>\n",
       "      <th>previous_release</th>\n",
       "      <th>cycle</th>\n",
       "      <th>cycle_days</th>\n",
       "      <th>rapid_release</th>\n",
       "      <th>trad_release</th>\n",
       "      <th>commits</th>\n",
       "      <th>commits_in_advance</th>\n",
       "      <th>start_delay</th>\n",
       "      <th>duration</th>\n",
       "      <th>patches</th>\n",
       "    </tr>\n",
       "  </thead>\n",
       "  <tbody>\n",
       "    <tr>\n",
       "      <th>17934</th>\n",
       "      <td>hashicorp/terraform-provider-aws</td>\n",
       "      <td>v2.35.0</td>\n",
       "      <td>v2.34.0</td>\n",
       "      <td>7 days 02:07:12</td>\n",
       "      <td>7.088333</td>\n",
       "      <td>True</td>\n",
       "      <td>False</td>\n",
       "      <td>120</td>\n",
       "      <td>20</td>\n",
       "      <td>-23.927211</td>\n",
       "      <td>31.015544</td>\n",
       "      <td>0</td>\n",
       "    </tr>\n",
       "    <tr>\n",
       "      <th>20467</th>\n",
       "      <td>electron/fiddle</td>\n",
       "      <td>v0.27.0</td>\n",
       "      <td>v0.26.0</td>\n",
       "      <td>109 days 04:05:21</td>\n",
       "      <td>109.170382</td>\n",
       "      <td>False</td>\n",
       "      <td>True</td>\n",
       "      <td>59</td>\n",
       "      <td>0</td>\n",
       "      <td>5.159352</td>\n",
       "      <td>104.011030</td>\n",
       "      <td>3</td>\n",
       "    </tr>\n",
       "    <tr>\n",
       "      <th>14231</th>\n",
       "      <td>wix/react-native-calendars</td>\n",
       "      <td>1.394.0</td>\n",
       "      <td>1.393.0</td>\n",
       "      <td>0 days 00:13:18</td>\n",
       "      <td>0.009236</td>\n",
       "      <td>False</td>\n",
       "      <td>False</td>\n",
       "      <td>0</td>\n",
       "      <td>0</td>\n",
       "      <td>0.000000</td>\n",
       "      <td>0.000000</td>\n",
       "      <td>0</td>\n",
       "    </tr>\n",
       "    <tr>\n",
       "      <th>1875</th>\n",
       "      <td>kaorun343/vue-property-decorator</td>\n",
       "      <td>v8.3.0</td>\n",
       "      <td>v8.2.0</td>\n",
       "      <td>51 days 03:36:18</td>\n",
       "      <td>51.150208</td>\n",
       "      <td>False</td>\n",
       "      <td>False</td>\n",
       "      <td>9</td>\n",
       "      <td>0</td>\n",
       "      <td>28.700509</td>\n",
       "      <td>22.449699</td>\n",
       "      <td>3</td>\n",
       "    </tr>\n",
       "    <tr>\n",
       "      <th>33793</th>\n",
       "      <td>netbox-community/netbox</td>\n",
       "      <td>v2.4.0</td>\n",
       "      <td>v2.3.0</td>\n",
       "      <td>160 days 21:16:57</td>\n",
       "      <td>160.886771</td>\n",
       "      <td>False</td>\n",
       "      <td>True</td>\n",
       "      <td>193</td>\n",
       "      <td>0</td>\n",
       "      <td>31.802998</td>\n",
       "      <td>129.083773</td>\n",
       "      <td>9</td>\n",
       "    </tr>\n",
       "    <tr>\n",
       "      <th>41345</th>\n",
       "      <td>gchq/CyberChef</td>\n",
       "      <td>v7.4.0</td>\n",
       "      <td>v7.3.0</td>\n",
       "      <td>0 days 21:43:18</td>\n",
       "      <td>0.905069</td>\n",
       "      <td>True</td>\n",
       "      <td>False</td>\n",
       "      <td>7</td>\n",
       "      <td>0</td>\n",
       "      <td>0.066701</td>\n",
       "      <td>0.838368</td>\n",
       "      <td>0</td>\n",
       "    </tr>\n",
       "    <tr>\n",
       "      <th>3865</th>\n",
       "      <td>microsoft/Windows-driver-samples</td>\n",
       "      <td>85524</td>\n",
       "      <td>85523</td>\n",
       "      <td>0 days 00:00:00</td>\n",
       "      <td>0.000000</td>\n",
       "      <td>False</td>\n",
       "      <td>False</td>\n",
       "      <td>0</td>\n",
       "      <td>0</td>\n",
       "      <td>0.000000</td>\n",
       "      <td>0.000000</td>\n",
       "      <td>0</td>\n",
       "    </tr>\n",
       "    <tr>\n",
       "      <th>49240</th>\n",
       "      <td>airbnb/lottie-android</td>\n",
       "      <td>v2.5.0</td>\n",
       "      <td>v2.3.0</td>\n",
       "      <td>94 days 22:25:30</td>\n",
       "      <td>94.934375</td>\n",
       "      <td>False</td>\n",
       "      <td>True</td>\n",
       "      <td>75</td>\n",
       "      <td>0</td>\n",
       "      <td>19.919502</td>\n",
       "      <td>75.014873</td>\n",
       "      <td>6</td>\n",
       "    </tr>\n",
       "    <tr>\n",
       "      <th>48723</th>\n",
       "      <td>grafana/grafana</td>\n",
       "      <td>v1.7.0</td>\n",
       "      <td>v1.6.0</td>\n",
       "      <td>55 days 22:37:24</td>\n",
       "      <td>55.942639</td>\n",
       "      <td>False</td>\n",
       "      <td>False</td>\n",
       "      <td>190</td>\n",
       "      <td>20</td>\n",
       "      <td>-8.706551</td>\n",
       "      <td>64.649190</td>\n",
       "      <td>0</td>\n",
       "    </tr>\n",
       "    <tr>\n",
       "      <th>49464</th>\n",
       "      <td>rclone/rclone</td>\n",
       "      <td>v1.30</td>\n",
       "      <td>v1.29</td>\n",
       "      <td>60 days 22:11:17</td>\n",
       "      <td>60.924502</td>\n",
       "      <td>False</td>\n",
       "      <td>False</td>\n",
       "      <td>72</td>\n",
       "      <td>2</td>\n",
       "      <td>-20.457072</td>\n",
       "      <td>81.381574</td>\n",
       "      <td>0</td>\n",
       "    </tr>\n",
       "  </tbody>\n",
       "</table>\n",
       "</div>"
      ],
      "text/plain": [
       "                                project  release previous_release  \\\n",
       "17934  hashicorp/terraform-provider-aws  v2.35.0          v2.34.0   \n",
       "20467                   electron/fiddle  v0.27.0          v0.26.0   \n",
       "14231        wix/react-native-calendars  1.394.0          1.393.0   \n",
       "1875   kaorun343/vue-property-decorator   v8.3.0           v8.2.0   \n",
       "33793           netbox-community/netbox   v2.4.0           v2.3.0   \n",
       "41345                    gchq/CyberChef   v7.4.0           v7.3.0   \n",
       "3865   microsoft/Windows-driver-samples    85524            85523   \n",
       "49240             airbnb/lottie-android   v2.5.0           v2.3.0   \n",
       "48723                   grafana/grafana   v1.7.0           v1.6.0   \n",
       "49464                     rclone/rclone    v1.30            v1.29   \n",
       "\n",
       "                  cycle  cycle_days  rapid_release  trad_release  commits  \\\n",
       "17934   7 days 02:07:12    7.088333           True         False      120   \n",
       "20467 109 days 04:05:21  109.170382          False          True       59   \n",
       "14231   0 days 00:13:18    0.009236          False         False        0   \n",
       "1875   51 days 03:36:18   51.150208          False         False        9   \n",
       "33793 160 days 21:16:57  160.886771          False          True      193   \n",
       "41345   0 days 21:43:18    0.905069           True         False        7   \n",
       "3865    0 days 00:00:00    0.000000          False         False        0   \n",
       "49240  94 days 22:25:30   94.934375          False          True       75   \n",
       "48723  55 days 22:37:24   55.942639          False         False      190   \n",
       "49464  60 days 22:11:17   60.924502          False         False       72   \n",
       "\n",
       "       commits_in_advance  start_delay    duration  patches  \n",
       "17934                  20   -23.927211   31.015544        0  \n",
       "20467                   0     5.159352  104.011030        3  \n",
       "14231                   0     0.000000    0.000000        0  \n",
       "1875                    0    28.700509   22.449699        3  \n",
       "33793                   0    31.802998  129.083773        9  \n",
       "41345                   0     0.066701    0.838368        0  \n",
       "3865                    0     0.000000    0.000000        0  \n",
       "49240                   0    19.919502   75.014873        6  \n",
       "48723                  20    -8.706551   64.649190        0  \n",
       "49464                   2   -20.457072   81.381574        0  "
      ]
     },
     "execution_count": 8,
     "metadata": {},
     "output_type": "execute_result"
    }
   ],
   "source": [
    "releases = pd.DataFrame(release_results)\n",
    "releases.sample(10)"
   ]
  },
  {
   "cell_type": "code",
   "execution_count": 9,
   "id": "a2a2184c-4e46-4cf9-a87d-658106bc818f",
   "metadata": {
    "tags": []
   },
   "outputs": [
    {
     "data": {
      "text/plain": [
       "1665"
      ]
     },
     "execution_count": 9,
     "metadata": {},
     "output_type": "execute_result"
    }
   ],
   "source": [
    "len(projects)"
   ]
  },
  {
   "cell_type": "code",
   "execution_count": 10,
   "id": "c019b95d-9599-4f19-bfa9-0680e7287e1c",
   "metadata": {
    "tags": []
   },
   "outputs": [
    {
     "data": {
      "text/plain": [
       "52836"
      ]
     },
     "execution_count": 10,
     "metadata": {},
     "output_type": "execute_result"
    }
   ],
   "source": [
    "len(releases)"
   ]
  },
  {
   "cell_type": "code",
   "execution_count": 11,
   "id": "30584c58-319b-4246-b38d-e6d0228f092f",
   "metadata": {
    "tags": []
   },
   "outputs": [
    {
     "data": {
      "text/plain": [
       "29306"
      ]
     },
     "execution_count": 11,
     "metadata": {},
     "output_type": "execute_result"
    }
   ],
   "source": [
    "len(releases.query(\"rapid_release == True\"))"
   ]
  },
  {
   "cell_type": "code",
   "execution_count": 12,
   "id": "bdaf5aec-f377-45ab-8923-5839b18e4959",
   "metadata": {
    "tags": []
   },
   "outputs": [
    {
     "data": {
      "text/plain": [
       "11296"
      ]
     },
     "execution_count": 12,
     "metadata": {},
     "output_type": "execute_result"
    }
   ],
   "source": [
    "len(releases.query(\"trad_release == True\"))"
   ]
  },
  {
   "cell_type": "code",
   "execution_count": 13,
   "id": "b2b01b4c-5678-4e1a-a36d-47cdb33bedef",
   "metadata": {
    "tags": []
   },
   "outputs": [
    {
     "data": {
      "text/plain": [
       "12234"
      ]
     },
     "execution_count": 13,
     "metadata": {},
     "output_type": "execute_result"
    }
   ],
   "source": [
    "len(releases.query(\"rapid_release == False and trad_release == False\"))"
   ]
  },
  {
   "cell_type": "code",
   "execution_count": 14,
   "id": "cec37ef4-8f57-42ea-9461-613ebe96ff4d",
   "metadata": {
    "tags": []
   },
   "outputs": [
    {
     "data": {
      "text/plain": [
       "5520217"
      ]
     },
     "execution_count": 14,
     "metadata": {},
     "output_type": "execute_result"
    }
   ],
   "source": [
    "releases['commits'].sum()"
   ]
  },
  {
   "cell_type": "code",
   "execution_count": 15,
   "id": "7f4a1199-470f-4a89-a491-0c7e06ce9af1",
   "metadata": {
    "tags": []
   },
   "outputs": [],
   "source": [
    "projects.to_csv(DATA_PATH / '20_projects.csv', index=False)"
   ]
  },
  {
   "cell_type": "code",
   "execution_count": 16,
   "id": "099cdf2e-c0e9-426d-9de3-3c4843b47ff6",
   "metadata": {},
   "outputs": [],
   "source": [
    "releases.to_csv(DATA_PATH / '20_releases.csv', index=False)"
   ]
  },
  {
   "cell_type": "code",
   "execution_count": null,
   "id": "14bd86a5-75b4-4afd-8a12-fb3b2dfea783",
   "metadata": {},
   "outputs": [],
   "source": []
  }
 ],
 "metadata": {
  "kernelspec": {
   "display_name": "Python 3 (ipykernel)",
   "language": "python",
   "name": "python3"
  },
  "language_info": {
   "codemirror_mode": {
    "name": "ipython",
    "version": 3
   },
   "file_extension": ".py",
   "mimetype": "text/x-python",
   "name": "python",
   "nbconvert_exporter": "python",
   "pygments_lexer": "ipython3",
   "version": "3.11.2"
  }
 },
 "nbformat": 4,
 "nbformat_minor": 5
}
