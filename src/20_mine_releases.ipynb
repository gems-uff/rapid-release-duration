{
 "cells": [
  {
   "cell_type": "markdown",
   "id": "d7227d37-44b9-4e9b-ab78-59f09bffb985",
   "metadata": {},
   "source": [
    "# Mine releases from selected projects\n",
    "\n",
    "This notebook mine the releases"
   ]
  },
  {
   "cell_type": "code",
   "execution_count": 1,
   "id": "a304ccaa-d06d-402c-89dd-2412c732c2f7",
   "metadata": {},
   "outputs": [],
   "source": [
    "import os\n",
    "import datetime\n",
    "import json\n",
    "import re\n",
    "import traceback\n",
    "import math\n",
    "\n",
    "from multiprocessing import Pool\n",
    "import pandas as pd\n",
    "\n",
    "from ipywidgets import IntProgress\n",
    "from IPython.display import display\n",
    "\n",
    "import releasy"
   ]
  },
  {
   "cell_type": "code",
   "execution_count": 2,
   "id": "40cdeee0-c510-4517-85fc-538813f21816",
   "metadata": {},
   "outputs": [],
   "source": [
    "from util import (\n",
    "    DATA_PATH,\n",
    "    REPO_PATH,\n",
    "    TMP_PATH, \n",
    "    CPU,\n",
    "    CycleType,\n",
    "    RAPID_RELEASE_LIM,\n",
    "    TRAD_RELEASE_LIM,\n",
    "    delta2days,\n",
    "    # is_rapid_release,\n",
    "    # is_trad_release,\n",
    ")"
   ]
  },
  {
   "cell_type": "code",
   "execution_count": 3,
   "id": "f63025a7-662a-419e-a708-ac81549852ca",
   "metadata": {},
   "outputs": [],
   "source": [
    "selected_projects = pd.read_csv(DATA_PATH / '10_projects_selected.csv')"
   ]
  },
  {
   "cell_type": "markdown",
   "id": "5bed686d-0b1a-49b2-b035-88f48e5ea910",
   "metadata": {},
   "source": [
    "## Mine Releases\n"
   ]
  },
  {
   "cell_type": "code",
   "execution_count": 4,
   "id": "b14cf91a-4297-4a65-bf74-181639b8bfaa",
   "metadata": {
    "tags": []
   },
   "outputs": [],
   "source": [
    "def get_release_time(srelease):\n",
    "    ''' Calculate when the release was ready to delivery '''\n",
    "    if srelease.commits:\n",
    "        return srelease.release.tag.commit.committer_time\n",
    "        # return srelease.commits.last(lambda c: c.committer_time).committer_time\n",
    "    else:\n",
    "        return srelease.time\n",
    "    \n",
    "def get_cycle(srelease):\n",
    "    ''' Calculate the time elapsed from previous release '''\n",
    "    if srelease.prev_main_release:\n",
    "        prev_release_time = get_release_time(srelease.prev_main_release)\n",
    "        release_time = get_release_time(srelease)\n",
    "        return release_time - prev_release_time\n",
    "    else:\n",
    "        return datetime.timedelta(0)\n",
    "\n",
    "def get_start(srelease):\n",
    "    ''' Calculate the time the release development started ''' \n",
    "    if srelease.commits:\n",
    "        return srelease.commits.first(lambda c: c.author_time).author_time\n",
    "    else:\n",
    "        return get_release_time(srelease)\n",
    "        \n",
    "def get_duration(srelease):\n",
    "    ''' Calculate the development duration '''\n",
    "    return get_release_time(srelease) - get_start(srelease)\n",
    "        \n",
    "def get_start_delay(srelease):\n",
    "    ''' Calculate the time the development started in relation of the previous release '''\n",
    "    if srelease.prev_main_release:\n",
    "        prev_release = srelease.prev_main_release\n",
    "        return get_start(srelease) - get_release_time(prev_release)\n",
    "    else:\n",
    "        return datetime.timedelta(0)\n",
    "\n",
    "def get_commits_in_advance(srelease):\n",
    "    if not srelease.commits or not srelease.prev_main_release:\n",
    "        return 0\n",
    "    \n",
    "    prev_release = srelease.prev_main_release\n",
    "    return [commit for commit in srelease.commits if commit.author_time < get_release_time(prev_release)]"
   ]
  },
  {
   "cell_type": "code",
   "execution_count": 5,
   "id": "9d211a46-953d-491e-accf-073eb67a331b",
   "metadata": {
    "tags": []
   },
   "outputs": [],
   "source": [
    "def is_rapid_release(release):    \n",
    "    if not release.commits:\n",
    "        return False\n",
    "    if not release.prev_main_release:\n",
    "        return False\n",
    "    days = delta2days(get_cycle(release))\n",
    "    if days <= 0:\n",
    "        return False\n",
    "    if days > RAPID_RELEASE_LIM:\n",
    "        return False\n",
    "    return True\n",
    "\n",
    "def is_trad_release(release):\n",
    "    if not release.commits:\n",
    "        return False\n",
    "    if not release.prev_main_release:\n",
    "        return False\n",
    "    days = delta2days(get_cycle(release))\n",
    "    if days <= 0:\n",
    "        return False\n",
    "    if days < TRAD_RELEASE_LIM:\n",
    "        return False\n",
    "    return True"
   ]
  },
  {
   "cell_type": "code",
   "execution_count": 6,
   "id": "9eacb421-acca-40e7-a25f-73a0b398952d",
   "metadata": {},
   "outputs": [],
   "source": [
    "def mine(name: str) -> releasy.Project:\n",
    "    elapsed_time = datetime.datetime.now()\n",
    "    \n",
    "    try:\n",
    "        repo_path = str(REPO_PATH / name)\n",
    "        project = releasy.Miner(repo_path, name).apply(\n",
    "            releasy.FinalReleaseMiner(),\n",
    "            releasy.HistoryCommitMiner(),\n",
    "            releasy.BaseReleaseMiner(),\n",
    "            releasy.ContributorMiner(),\n",
    "            releasy.SemanticReleaseMiner()\n",
    "        ).mine()\n",
    "\n",
    "        rapid_releases = [release for release in project.main_releases if is_rapid_release(release)]\n",
    "        trad_releases = [release for release in project.main_releases if is_trad_release(release)]\n",
    "\n",
    "        project_data = {\n",
    "            'project': project.name,\n",
    "            'prefixes': len(project.releases.prefixes()),\n",
    "            'prefixes_names': str(\" \".join(project.releases.prefixes())),\n",
    "            'main_releases': len(project.main_releases),\n",
    "            'rapid_releases': len(rapid_releases),\n",
    "            'trad_releases': len(trad_releases),\n",
    "            'patches': len(project.patches),\n",
    "            'releases': len(project.releases)\n",
    "        }\n",
    "        \n",
    "        release_data = []\n",
    "        for srelease in project.main_releases:\n",
    "            # release = srelease.release\n",
    "            # cycle_days = delta2days(get_cycle(srelease))\n",
    "            # delay = delta2days(srelease.delay)\n",
    "            # prev_release = srelease.prev_main_release\n",
    "\n",
    "            if not srelease.commits or not srelease.prev_main_release:\n",
    "                continue\n",
    "                \n",
    "            cycle_days = delta2days(get_cycle(srelease))\n",
    "            duration = delta2days(get_duration(srelease))\n",
    "            start_delay = delta2days(get_start_delay(srelease))\n",
    "            commits_in_advance = get_commits_in_advance(srelease)\n",
    "            \n",
    "            release_data.append({\n",
    "                'project': project.name,\n",
    "                'release': srelease.name,\n",
    "                'previous_release': srelease.prev_main_release.name if srelease.prev_main_release else '',\n",
    "                'cycle_old': delta2days(srelease.cycle),\n",
    "                'cycle_days': cycle_days,\n",
    "                'rapid_release': is_rapid_release(srelease),\n",
    "                'trad_release': is_trad_release(srelease),\n",
    "                \n",
    "                'commits': len(srelease.commits),\n",
    "                'commits_in_advance': len(commits_in_advance),\n",
    "                'start_delay': start_delay,\n",
    "                'duration': duration,\n",
    "                'patches': len(srelease.patches)     \n",
    "            })\n",
    "        \n",
    "        elapsed_time = datetime.datetime.now() - elapsed_time\n",
    "        project_data['time'] = elapsed_time\n",
    "    except Exception as err:\n",
    "        print(f\"{name:40} {err=}\")\n",
    "        traceback.print_exception(err)\n",
    "        project_data = {}\n",
    "        release_data = []\n",
    "    \n",
    "    return project_data, release_data"
   ]
  },
  {
   "cell_type": "code",
   "execution_count": 7,
   "id": "eb1e0463-4ef7-4fce-ac21-1f76fc70d4e9",
   "metadata": {
    "tags": []
   },
   "outputs": [],
   "source": [
    "project_names = list(selected_projects['project'])\n",
    "# project_names = project_names[:1]"
   ]
  },
  {
   "cell_type": "code",
   "execution_count": 8,
   "id": "cc5e63d9-8065-4207-81e8-e5efc21dcf6c",
   "metadata": {
    "tags": []
   },
   "outputs": [
    {
     "data": {
      "application/vnd.jupyter.widget-view+json": {
       "model_id": "daae3119ccde4db28fe0aa3963627c4c",
       "version_major": 2,
       "version_minor": 0
      },
      "text/plain": [
       "IntProgress(value=0, max=1665)"
      ]
     },
     "metadata": {},
     "output_type": "display_data"
    }
   ],
   "source": [
    "with Pool(processes=CPU) as pool:\n",
    "    processed = 0\n",
    "    project_results = []\n",
    "    release_results = []\n",
    "    progress = IntProgress(min=0, max=len(project_names))\n",
    "    display(progress)\n",
    "    for result in pool.imap_unordered(mine, project_names):\n",
    "        project_result, release_result = result\n",
    "        project_results.append(project_result)\n",
    "        release_results.extend(release_result)\n",
    "        progress.value += 1\n"
   ]
  },
  {
   "cell_type": "code",
   "execution_count": 9,
   "id": "50f38c5a-a34d-4886-ad0c-6fe0da60cb24",
   "metadata": {},
   "outputs": [
    {
     "data": {
      "text/html": [
       "<div>\n",
       "<style scoped>\n",
       "    .dataframe tbody tr th:only-of-type {\n",
       "        vertical-align: middle;\n",
       "    }\n",
       "\n",
       "    .dataframe tbody tr th {\n",
       "        vertical-align: top;\n",
       "    }\n",
       "\n",
       "    .dataframe thead th {\n",
       "        text-align: right;\n",
       "    }\n",
       "</style>\n",
       "<table border=\"1\" class=\"dataframe\">\n",
       "  <thead>\n",
       "    <tr style=\"text-align: right;\">\n",
       "      <th></th>\n",
       "      <th>project</th>\n",
       "      <th>prefixes</th>\n",
       "      <th>prefixes_names</th>\n",
       "      <th>main_releases</th>\n",
       "      <th>rapid_releases</th>\n",
       "      <th>trad_releases</th>\n",
       "      <th>patches</th>\n",
       "      <th>releases</th>\n",
       "      <th>time</th>\n",
       "    </tr>\n",
       "  </thead>\n",
       "  <tbody>\n",
       "    <tr>\n",
       "      <th>417</th>\n",
       "      <td>chromedp/chromedp</td>\n",
       "      <td>1</td>\n",
       "      <td>v</td>\n",
       "      <td>8</td>\n",
       "      <td>1</td>\n",
       "      <td>5</td>\n",
       "      <td>33</td>\n",
       "      <td>41</td>\n",
       "      <td>0 days 00:00:00.047259</td>\n",
       "    </tr>\n",
       "  </tbody>\n",
       "</table>\n",
       "</div>"
      ],
      "text/plain": [
       "               project  prefixes prefixes_names  main_releases  \\\n",
       "417  chromedp/chromedp         1              v              8   \n",
       "\n",
       "     rapid_releases  trad_releases  patches  releases                   time  \n",
       "417               1              5       33        41 0 days 00:00:00.047259  "
      ]
     },
     "execution_count": 9,
     "metadata": {},
     "output_type": "execute_result"
    }
   ],
   "source": [
    "projects = pd.DataFrame(project_results)\n",
    "projects.sample(1)"
   ]
  },
  {
   "cell_type": "code",
   "execution_count": 10,
   "id": "246d5343-7834-42e8-8bde-690bbcd1a574",
   "metadata": {
    "tags": []
   },
   "outputs": [
    {
     "data": {
      "text/html": [
       "<div>\n",
       "<style scoped>\n",
       "    .dataframe tbody tr th:only-of-type {\n",
       "        vertical-align: middle;\n",
       "    }\n",
       "\n",
       "    .dataframe tbody tr th {\n",
       "        vertical-align: top;\n",
       "    }\n",
       "\n",
       "    .dataframe thead th {\n",
       "        text-align: right;\n",
       "    }\n",
       "</style>\n",
       "<table border=\"1\" class=\"dataframe\">\n",
       "  <thead>\n",
       "    <tr style=\"text-align: right;\">\n",
       "      <th></th>\n",
       "      <th>project</th>\n",
       "      <th>release</th>\n",
       "      <th>previous_release</th>\n",
       "      <th>cycle_old</th>\n",
       "      <th>cycle_days</th>\n",
       "      <th>rapid_release</th>\n",
       "      <th>trad_release</th>\n",
       "      <th>commits</th>\n",
       "      <th>commits_in_advance</th>\n",
       "      <th>start_delay</th>\n",
       "      <th>duration</th>\n",
       "      <th>patches</th>\n",
       "    </tr>\n",
       "  </thead>\n",
       "  <tbody>\n",
       "    <tr>\n",
       "      <th>32283</th>\n",
       "      <td>localForage/localForage</td>\n",
       "      <td>1.2.0</td>\n",
       "      <td>1.1.0</td>\n",
       "      <td>27.908576</td>\n",
       "      <td>27.908576</td>\n",
       "      <td>True</td>\n",
       "      <td>False</td>\n",
       "      <td>21</td>\n",
       "      <td>0</td>\n",
       "      <td>1.151146</td>\n",
       "      <td>26.757431</td>\n",
       "      <td>9</td>\n",
       "    </tr>\n",
       "    <tr>\n",
       "      <th>4320</th>\n",
       "      <td>aws/aws-sdk-php</td>\n",
       "      <td>3.63.0</td>\n",
       "      <td>3.62.0</td>\n",
       "      <td>21.024236</td>\n",
       "      <td>21.024236</td>\n",
       "      <td>True</td>\n",
       "      <td>False</td>\n",
       "      <td>2</td>\n",
       "      <td>0</td>\n",
       "      <td>21.024236</td>\n",
       "      <td>0.000000</td>\n",
       "      <td>7</td>\n",
       "    </tr>\n",
       "    <tr>\n",
       "      <th>1911</th>\n",
       "      <td>go-acme/lego</td>\n",
       "      <td>v1.1.0</td>\n",
       "      <td>v1.0.0</td>\n",
       "      <td>139.855359</td>\n",
       "      <td>139.855359</td>\n",
       "      <td>False</td>\n",
       "      <td>True</td>\n",
       "      <td>72</td>\n",
       "      <td>0</td>\n",
       "      <td>3.763808</td>\n",
       "      <td>136.091551</td>\n",
       "      <td>0</td>\n",
       "    </tr>\n",
       "    <tr>\n",
       "      <th>18717</th>\n",
       "      <td>deepmind/sonnet</td>\n",
       "      <td>v1.14</td>\n",
       "      <td>v1.13</td>\n",
       "      <td>45.068414</td>\n",
       "      <td>45.068414</td>\n",
       "      <td>False</td>\n",
       "      <td>False</td>\n",
       "      <td>35</td>\n",
       "      <td>0</td>\n",
       "      <td>0.133935</td>\n",
       "      <td>44.934479</td>\n",
       "      <td>0</td>\n",
       "    </tr>\n",
       "    <tr>\n",
       "      <th>45156</th>\n",
       "      <td>nativefier/nativefier</td>\n",
       "      <td>v7.7.0</td>\n",
       "      <td>v7.6.0</td>\n",
       "      <td>510.627488</td>\n",
       "      <td>510.627488</td>\n",
       "      <td>False</td>\n",
       "      <td>True</td>\n",
       "      <td>7</td>\n",
       "      <td>0</td>\n",
       "      <td>385.520451</td>\n",
       "      <td>125.107037</td>\n",
       "      <td>1</td>\n",
       "    </tr>\n",
       "    <tr>\n",
       "      <th>23320</th>\n",
       "      <td>Pikaday/Pikaday</td>\n",
       "      <td>1.2.0</td>\n",
       "      <td>1.1.0</td>\n",
       "      <td>304.788762</td>\n",
       "      <td>304.789294</td>\n",
       "      <td>False</td>\n",
       "      <td>True</td>\n",
       "      <td>62</td>\n",
       "      <td>6</td>\n",
       "      <td>-149.224664</td>\n",
       "      <td>454.013958</td>\n",
       "      <td>0</td>\n",
       "    </tr>\n",
       "    <tr>\n",
       "      <th>10243</th>\n",
       "      <td>dropwizard/metrics</td>\n",
       "      <td>v4.1.0</td>\n",
       "      <td>v4.0.0</td>\n",
       "      <td>497.082650</td>\n",
       "      <td>497.082639</td>\n",
       "      <td>False</td>\n",
       "      <td>True</td>\n",
       "      <td>180</td>\n",
       "      <td>0</td>\n",
       "      <td>0.000081</td>\n",
       "      <td>497.082558</td>\n",
       "      <td>23</td>\n",
       "    </tr>\n",
       "    <tr>\n",
       "      <th>25764</th>\n",
       "      <td>josdejong/mathjs</td>\n",
       "      <td>v5.3.0</td>\n",
       "      <td>v5.2.0</td>\n",
       "      <td>54.993275</td>\n",
       "      <td>54.993275</td>\n",
       "      <td>False</td>\n",
       "      <td>False</td>\n",
       "      <td>19</td>\n",
       "      <td>0</td>\n",
       "      <td>28.571806</td>\n",
       "      <td>26.421470</td>\n",
       "      <td>1</td>\n",
       "    </tr>\n",
       "    <tr>\n",
       "      <th>26598</th>\n",
       "      <td>segmentio/evergreen</td>\n",
       "      <td>v4.8.0</td>\n",
       "      <td>v4.7.0</td>\n",
       "      <td>14.287650</td>\n",
       "      <td>14.287639</td>\n",
       "      <td>True</td>\n",
       "      <td>False</td>\n",
       "      <td>2</td>\n",
       "      <td>0</td>\n",
       "      <td>14.286620</td>\n",
       "      <td>0.001019</td>\n",
       "      <td>0</td>\n",
       "    </tr>\n",
       "    <tr>\n",
       "      <th>2674</th>\n",
       "      <td>graphql-dotnet/graphql-dotnet</td>\n",
       "      <td>v0.6.0</td>\n",
       "      <td>v0.5.0</td>\n",
       "      <td>19.679688</td>\n",
       "      <td>19.679688</td>\n",
       "      <td>True</td>\n",
       "      <td>False</td>\n",
       "      <td>8</td>\n",
       "      <td>1</td>\n",
       "      <td>-0.706725</td>\n",
       "      <td>20.386412</td>\n",
       "      <td>6</td>\n",
       "    </tr>\n",
       "  </tbody>\n",
       "</table>\n",
       "</div>"
      ],
      "text/plain": [
       "                             project release previous_release   cycle_old  \\\n",
       "32283        localForage/localForage   1.2.0            1.1.0   27.908576   \n",
       "4320                 aws/aws-sdk-php  3.63.0           3.62.0   21.024236   \n",
       "1911                    go-acme/lego  v1.1.0           v1.0.0  139.855359   \n",
       "18717                deepmind/sonnet   v1.14            v1.13   45.068414   \n",
       "45156          nativefier/nativefier  v7.7.0           v7.6.0  510.627488   \n",
       "23320                Pikaday/Pikaday   1.2.0            1.1.0  304.788762   \n",
       "10243             dropwizard/metrics  v4.1.0           v4.0.0  497.082650   \n",
       "25764               josdejong/mathjs  v5.3.0           v5.2.0   54.993275   \n",
       "26598            segmentio/evergreen  v4.8.0           v4.7.0   14.287650   \n",
       "2674   graphql-dotnet/graphql-dotnet  v0.6.0           v0.5.0   19.679688   \n",
       "\n",
       "       cycle_days  rapid_release  trad_release  commits  commits_in_advance  \\\n",
       "32283   27.908576           True         False       21                   0   \n",
       "4320    21.024236           True         False        2                   0   \n",
       "1911   139.855359          False          True       72                   0   \n",
       "18717   45.068414          False         False       35                   0   \n",
       "45156  510.627488          False          True        7                   0   \n",
       "23320  304.789294          False          True       62                   6   \n",
       "10243  497.082639          False          True      180                   0   \n",
       "25764   54.993275          False         False       19                   0   \n",
       "26598   14.287639           True         False        2                   0   \n",
       "2674    19.679688           True         False        8                   1   \n",
       "\n",
       "       start_delay    duration  patches  \n",
       "32283     1.151146   26.757431        9  \n",
       "4320     21.024236    0.000000        7  \n",
       "1911      3.763808  136.091551        0  \n",
       "18717     0.133935   44.934479        0  \n",
       "45156   385.520451  125.107037        1  \n",
       "23320  -149.224664  454.013958        0  \n",
       "10243     0.000081  497.082558       23  \n",
       "25764    28.571806   26.421470        1  \n",
       "26598    14.286620    0.001019        0  \n",
       "2674     -0.706725   20.386412        6  "
      ]
     },
     "execution_count": 10,
     "metadata": {},
     "output_type": "execute_result"
    }
   ],
   "source": [
    "releases = pd.DataFrame(release_results)\n",
    "releases.sample(10)"
   ]
  },
  {
   "cell_type": "code",
   "execution_count": 11,
   "id": "a2a2184c-4e46-4cf9-a87d-658106bc818f",
   "metadata": {
    "tags": []
   },
   "outputs": [
    {
     "data": {
      "text/plain": [
       "1665"
      ]
     },
     "execution_count": 11,
     "metadata": {},
     "output_type": "execute_result"
    }
   ],
   "source": [
    "len(projects)"
   ]
  },
  {
   "cell_type": "code",
   "execution_count": 12,
   "id": "c019b95d-9599-4f19-bfa9-0680e7287e1c",
   "metadata": {
    "tags": []
   },
   "outputs": [
    {
     "data": {
      "text/plain": [
       "48067"
      ]
     },
     "execution_count": 12,
     "metadata": {},
     "output_type": "execute_result"
    }
   ],
   "source": [
    "len(releases)"
   ]
  },
  {
   "cell_type": "code",
   "execution_count": 13,
   "id": "30584c58-319b-4246-b38d-e6d0228f092f",
   "metadata": {
    "tags": []
   },
   "outputs": [
    {
     "data": {
      "text/plain": [
       "29203"
      ]
     },
     "execution_count": 13,
     "metadata": {},
     "output_type": "execute_result"
    }
   ],
   "source": [
    "len(releases.query(\"rapid_release == True\"))"
   ]
  },
  {
   "cell_type": "code",
   "execution_count": 14,
   "id": "bdaf5aec-f377-45ab-8923-5839b18e4959",
   "metadata": {
    "tags": []
   },
   "outputs": [
    {
     "data": {
      "text/plain": [
       "11342"
      ]
     },
     "execution_count": 14,
     "metadata": {},
     "output_type": "execute_result"
    }
   ],
   "source": [
    "len(releases.query(\"trad_release == True\"))"
   ]
  },
  {
   "cell_type": "code",
   "execution_count": 15,
   "id": "b2b01b4c-5678-4e1a-a36d-47cdb33bedef",
   "metadata": {
    "tags": []
   },
   "outputs": [
    {
     "data": {
      "text/plain": [
       "7522"
      ]
     },
     "execution_count": 15,
     "metadata": {},
     "output_type": "execute_result"
    }
   ],
   "source": [
    "len(releases.query(\"rapid_release == False and trad_release == False\"))"
   ]
  },
  {
   "cell_type": "code",
   "execution_count": 16,
   "id": "cec37ef4-8f57-42ea-9461-613ebe96ff4d",
   "metadata": {
    "tags": []
   },
   "outputs": [
    {
     "data": {
      "text/plain": [
       "4952463"
      ]
     },
     "execution_count": 16,
     "metadata": {},
     "output_type": "execute_result"
    }
   ],
   "source": [
    "releases['commits'].sum()"
   ]
  },
  {
   "cell_type": "code",
   "execution_count": 17,
   "id": "7f4a1199-470f-4a89-a491-0c7e06ce9af1",
   "metadata": {
    "tags": []
   },
   "outputs": [],
   "source": [
    "projects.to_csv(DATA_PATH / '20_projects.csv', index=False)"
   ]
  },
  {
   "cell_type": "code",
   "execution_count": 18,
   "id": "099cdf2e-c0e9-426d-9de3-3c4843b47ff6",
   "metadata": {},
   "outputs": [],
   "source": [
    "releases.to_csv(DATA_PATH / '20_releases.csv', index=False)"
   ]
  },
  {
   "cell_type": "code",
   "execution_count": null,
   "id": "14bd86a5-75b4-4afd-8a12-fb3b2dfea783",
   "metadata": {},
   "outputs": [],
   "source": []
  },
  {
   "cell_type": "code",
   "execution_count": 19,
   "id": "adba715d-35c6-49bb-bad8-2b37d05ece0d",
   "metadata": {
    "tags": []
   },
   "outputs": [],
   "source": [
    "# releases.query('rapid_release == True or trad_release == True').sort_values(['cycle_days']).head(50)"
   ]
  },
  {
   "cell_type": "code",
   "execution_count": 22,
   "id": "a7debef7-801a-4cce-af16-ea8d9b379451",
   "metadata": {
    "tags": []
   },
   "outputs": [
    {
     "data": {
      "text/html": [
       "<div>\n",
       "<style scoped>\n",
       "    .dataframe tbody tr th:only-of-type {\n",
       "        vertical-align: middle;\n",
       "    }\n",
       "\n",
       "    .dataframe tbody tr th {\n",
       "        vertical-align: top;\n",
       "    }\n",
       "\n",
       "    .dataframe thead th {\n",
       "        text-align: right;\n",
       "    }\n",
       "</style>\n",
       "<table border=\"1\" class=\"dataframe\">\n",
       "  <thead>\n",
       "    <tr style=\"text-align: right;\">\n",
       "      <th></th>\n",
       "      <th>project</th>\n",
       "      <th>release</th>\n",
       "      <th>previous_release</th>\n",
       "      <th>cycle_old</th>\n",
       "      <th>cycle_days</th>\n",
       "      <th>rapid_release</th>\n",
       "      <th>trad_release</th>\n",
       "      <th>commits</th>\n",
       "      <th>commits_in_advance</th>\n",
       "      <th>start_delay</th>\n",
       "      <th>duration</th>\n",
       "      <th>patches</th>\n",
       "    </tr>\n",
       "  </thead>\n",
       "  <tbody>\n",
       "    <tr>\n",
       "      <th>355</th>\n",
       "      <td>go-yaml/yaml</td>\n",
       "      <td>v2.1.0</td>\n",
       "      <td>v2.0.0</td>\n",
       "      <td>0.006157</td>\n",
       "      <td>45.303993</td>\n",
       "      <td>False</td>\n",
       "      <td>False</td>\n",
       "      <td>27</td>\n",
       "      <td>24</td>\n",
       "      <td>-881.579271</td>\n",
       "      <td>926.883264</td>\n",
       "      <td>1</td>\n",
       "    </tr>\n",
       "    <tr>\n",
       "      <th>595</th>\n",
       "      <td>kickstarter/android-oss</td>\n",
       "      <td>v2.0.0</td>\n",
       "      <td>v1.18.0</td>\n",
       "      <td>68.127164</td>\n",
       "      <td>49.180405</td>\n",
       "      <td>False</td>\n",
       "      <td>False</td>\n",
       "      <td>54</td>\n",
       "      <td>0</td>\n",
       "      <td>1.076007</td>\n",
       "      <td>48.104398</td>\n",
       "      <td>2</td>\n",
       "    </tr>\n",
       "    <tr>\n",
       "      <th>596</th>\n",
       "      <td>kickstarter/android-oss</td>\n",
       "      <td>v2.2.0</td>\n",
       "      <td>v2.0.0</td>\n",
       "      <td>65.072778</td>\n",
       "      <td>84.014687</td>\n",
       "      <td>False</td>\n",
       "      <td>True</td>\n",
       "      <td>36</td>\n",
       "      <td>0</td>\n",
       "      <td>44.143310</td>\n",
       "      <td>39.871377</td>\n",
       "      <td>0</td>\n",
       "    </tr>\n",
       "    <tr>\n",
       "      <th>657</th>\n",
       "      <td>tijsverkoyen/CssToInlineStyles</td>\n",
       "      <td>1.1.0</td>\n",
       "      <td>1.0.0</td>\n",
       "      <td>678.173530</td>\n",
       "      <td>718.893322</td>\n",
       "      <td>False</td>\n",
       "      <td>True</td>\n",
       "      <td>2</td>\n",
       "      <td>0</td>\n",
       "      <td>718.874965</td>\n",
       "      <td>0.018356</td>\n",
       "      <td>0</td>\n",
       "    </tr>\n",
       "    <tr>\n",
       "      <th>763</th>\n",
       "      <td>lebab/lebab</td>\n",
       "      <td>v1.1.0</td>\n",
       "      <td>v1.0.0</td>\n",
       "      <td>1.026620</td>\n",
       "      <td>25.988310</td>\n",
       "      <td>True</td>\n",
       "      <td>False</td>\n",
       "      <td>105</td>\n",
       "      <td>0</td>\n",
       "      <td>0.045775</td>\n",
       "      <td>25.942535</td>\n",
       "      <td>1</td>\n",
       "    </tr>\n",
       "    <tr>\n",
       "      <th>...</th>\n",
       "      <td>...</td>\n",
       "      <td>...</td>\n",
       "      <td>...</td>\n",
       "      <td>...</td>\n",
       "      <td>...</td>\n",
       "      <td>...</td>\n",
       "      <td>...</td>\n",
       "      <td>...</td>\n",
       "      <td>...</td>\n",
       "      <td>...</td>\n",
       "      <td>...</td>\n",
       "      <td>...</td>\n",
       "    </tr>\n",
       "    <tr>\n",
       "      <th>47025</th>\n",
       "      <td>GoogleChrome/lighthouse</td>\n",
       "      <td>v2.6.0</td>\n",
       "      <td>v2.5.0</td>\n",
       "      <td>27.371019</td>\n",
       "      <td>44.139676</td>\n",
       "      <td>False</td>\n",
       "      <td>False</td>\n",
       "      <td>77</td>\n",
       "      <td>1</td>\n",
       "      <td>-6.044201</td>\n",
       "      <td>50.183877</td>\n",
       "      <td>0</td>\n",
       "    </tr>\n",
       "    <tr>\n",
       "      <th>47027</th>\n",
       "      <td>GoogleChrome/lighthouse</td>\n",
       "      <td>v2.8.0</td>\n",
       "      <td>v2.7.0</td>\n",
       "      <td>55.086968</td>\n",
       "      <td>28.938646</td>\n",
       "      <td>True</td>\n",
       "      <td>False</td>\n",
       "      <td>53</td>\n",
       "      <td>0</td>\n",
       "      <td>3.788542</td>\n",
       "      <td>25.150104</td>\n",
       "      <td>0</td>\n",
       "    </tr>\n",
       "    <tr>\n",
       "      <th>47028</th>\n",
       "      <td>GoogleChrome/lighthouse</td>\n",
       "      <td>v2.9.0</td>\n",
       "      <td>v2.8.0</td>\n",
       "      <td>0.009583</td>\n",
       "      <td>26.157454</td>\n",
       "      <td>True</td>\n",
       "      <td>False</td>\n",
       "      <td>28</td>\n",
       "      <td>0</td>\n",
       "      <td>0.002280</td>\n",
       "      <td>26.155174</td>\n",
       "      <td>4</td>\n",
       "    </tr>\n",
       "    <tr>\n",
       "      <th>47138</th>\n",
       "      <td>tmux/tmux</td>\n",
       "      <td>2.0</td>\n",
       "      <td>1.9</td>\n",
       "      <td>438.949676</td>\n",
       "      <td>374.009294</td>\n",
       "      <td>False</td>\n",
       "      <td>True</td>\n",
       "      <td>291</td>\n",
       "      <td>2</td>\n",
       "      <td>-6.316701</td>\n",
       "      <td>380.325995</td>\n",
       "      <td>0</td>\n",
       "    </tr>\n",
       "    <tr>\n",
       "      <th>47139</th>\n",
       "      <td>tmux/tmux</td>\n",
       "      <td>2.1</td>\n",
       "      <td>2.0</td>\n",
       "      <td>165.868356</td>\n",
       "      <td>230.808773</td>\n",
       "      <td>False</td>\n",
       "      <td>True</td>\n",
       "      <td>365</td>\n",
       "      <td>0</td>\n",
       "      <td>9.438565</td>\n",
       "      <td>221.370208</td>\n",
       "      <td>0</td>\n",
       "    </tr>\n",
       "  </tbody>\n",
       "</table>\n",
       "<p>508 rows × 12 columns</p>\n",
       "</div>"
      ],
      "text/plain": [
       "                              project release previous_release   cycle_old  \\\n",
       "355                      go-yaml/yaml  v2.1.0           v2.0.0    0.006157   \n",
       "595           kickstarter/android-oss  v2.0.0          v1.18.0   68.127164   \n",
       "596           kickstarter/android-oss  v2.2.0           v2.0.0   65.072778   \n",
       "657    tijsverkoyen/CssToInlineStyles   1.1.0            1.0.0  678.173530   \n",
       "763                       lebab/lebab  v1.1.0           v1.0.0    1.026620   \n",
       "...                               ...     ...              ...         ...   \n",
       "47025         GoogleChrome/lighthouse  v2.6.0           v2.5.0   27.371019   \n",
       "47027         GoogleChrome/lighthouse  v2.8.0           v2.7.0   55.086968   \n",
       "47028         GoogleChrome/lighthouse  v2.9.0           v2.8.0    0.009583   \n",
       "47138                       tmux/tmux     2.0              1.9  438.949676   \n",
       "47139                       tmux/tmux     2.1              2.0  165.868356   \n",
       "\n",
       "       cycle_days  rapid_release  trad_release  commits  commits_in_advance  \\\n",
       "355     45.303993          False         False       27                  24   \n",
       "595     49.180405          False         False       54                   0   \n",
       "596     84.014687          False          True       36                   0   \n",
       "657    718.893322          False          True        2                   0   \n",
       "763     25.988310           True         False      105                   0   \n",
       "...           ...            ...           ...      ...                 ...   \n",
       "47025   44.139676          False         False       77                   1   \n",
       "47027   28.938646           True         False       53                   0   \n",
       "47028   26.157454           True         False       28                   0   \n",
       "47138  374.009294          False          True      291                   2   \n",
       "47139  230.808773          False          True      365                   0   \n",
       "\n",
       "       start_delay    duration  patches  \n",
       "355    -881.579271  926.883264        1  \n",
       "595       1.076007   48.104398        2  \n",
       "596      44.143310   39.871377        0  \n",
       "657     718.874965    0.018356        0  \n",
       "763       0.045775   25.942535        1  \n",
       "...            ...         ...      ...  \n",
       "47025    -6.044201   50.183877        0  \n",
       "47027     3.788542   25.150104        0  \n",
       "47028     0.002280   26.155174        4  \n",
       "47138    -6.316701  380.325995        0  \n",
       "47139     9.438565  221.370208        0  \n",
       "\n",
       "[508 rows x 12 columns]"
      ]
     },
     "execution_count": 22,
     "metadata": {},
     "output_type": "execute_result"
    }
   ],
   "source": [
    "releases.query('abs(cycle_old - cycle_days) > 10')"
   ]
  },
  {
   "cell_type": "code",
   "execution_count": null,
   "id": "1eef67f7-375b-4854-84ec-4c922422f69f",
   "metadata": {},
   "outputs": [],
   "source": []
  }
 ],
 "metadata": {
  "kernelspec": {
   "display_name": "Python 3 (ipykernel)",
   "language": "python",
   "name": "python3"
  },
  "language_info": {
   "codemirror_mode": {
    "name": "ipython",
    "version": 3
   },
   "file_extension": ".py",
   "mimetype": "text/x-python",
   "name": "python",
   "nbconvert_exporter": "python",
   "pygments_lexer": "ipython3",
   "version": "3.11.2"
  }
 },
 "nbformat": 4,
 "nbformat_minor": 5
}
