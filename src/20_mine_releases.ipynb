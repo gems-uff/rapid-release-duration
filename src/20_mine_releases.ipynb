{
 "cells": [
  {
   "cell_type": "markdown",
   "id": "d7227d37-44b9-4e9b-ab78-59f09bffb985",
   "metadata": {},
   "source": [
    "# Mine releases from selected projects\n",
    "\n",
    "This notebook mine the releases"
   ]
  },
  {
   "cell_type": "code",
   "execution_count": 1,
   "id": "a304ccaa-d06d-402c-89dd-2412c732c2f7",
   "metadata": {},
   "outputs": [],
   "source": [
    "import os\n",
    "import datetime\n",
    "import json\n",
    "import re\n",
    "import traceback\n",
    "import math\n",
    "\n",
    "from multiprocessing import Pool\n",
    "import pandas as pd\n",
    "\n",
    "from ipywidgets import IntProgress\n",
    "from IPython.display import display\n",
    "\n",
    "import releasy"
   ]
  },
  {
   "cell_type": "code",
   "execution_count": 2,
   "id": "40cdeee0-c510-4517-85fc-538813f21816",
   "metadata": {},
   "outputs": [],
   "source": [
    "from util import (\n",
    "    DATA_PATH,\n",
    "    REPO_PATH,\n",
    "    TMP_PATH, \n",
    "    CPU,\n",
    "    CycleType,\n",
    "    RAPID_RELEASE_LIM,\n",
    "    TRAD_RELEASE_LIM,\n",
    "    delta2days,\n",
    "    is_rapid_release,\n",
    "    is_trad_release,\n",
    ")"
   ]
  },
  {
   "cell_type": "code",
   "execution_count": 3,
   "id": "f63025a7-662a-419e-a708-ac81549852ca",
   "metadata": {},
   "outputs": [],
   "source": [
    "selected_projects = pd.read_csv(DATA_PATH / '10_projects_selected.csv')"
   ]
  },
  {
   "cell_type": "markdown",
   "id": "5bed686d-0b1a-49b2-b035-88f48e5ea910",
   "metadata": {},
   "source": [
    "## Mine Releases\n"
   ]
  },
  {
   "cell_type": "code",
   "execution_count": 17,
   "id": "9eacb421-acca-40e7-a25f-73a0b398952d",
   "metadata": {},
   "outputs": [],
   "source": [
    "def mine(name: str) -> releasy.Project:\n",
    "    elapsed_time = datetime.datetime.now()\n",
    "    \n",
    "    try:\n",
    "        repo_path = str(REPO_PATH / name)\n",
    "        project = releasy.Miner(repo_path, name).apply(\n",
    "            releasy.FinalReleaseMiner(),\n",
    "            releasy.HistoryCommitMiner(),\n",
    "            releasy.BaseReleaseMiner(),\n",
    "            releasy.ContributorMiner(),\n",
    "            releasy.SemanticReleaseMiner()\n",
    "        ).mine()\n",
    "\n",
    "        rapid_releases = [release for release in project.main_releases if is_rapid_release(release)]\n",
    "        trad_releases = [release for release in project.main_releases if is_trad_release(release)]\n",
    "\n",
    "        project_data = {\n",
    "            'project': project.name,\n",
    "            'prefixes': len(project.releases.prefixes()),\n",
    "            'prefixes_names': str(\" \".join(project.releases.prefixes())),\n",
    "            'main_releases': len(project.main_releases),\n",
    "            'rapid_releases': len(rapid_releases),\n",
    "            'trad_releases': len(trad_releases),\n",
    "            'patches': len(project.patches),\n",
    "            'releases': len(project.releases)\n",
    "        }\n",
    "        \n",
    "        release_data = []\n",
    "        for srelease in project.main_releases:\n",
    "            # release = srelease.release\n",
    "            cycle_days = delta2days(srelease.cycle)\n",
    "            delay = delta2days(srelease.delay)\n",
    "            prev_release = srelease.prev_main_release\n",
    "\n",
    "            if srelease.commits:\n",
    "                last_commit_time = srelease.commits.last(lambda c: c.committer_time).committer_time\n",
    "                first_commit_time = srelease.commits.first(lambda c: c.author_time).author_time\n",
    "                duration = delta2days(last_commit_time - first_commit_time)\n",
    "                # duration = delta2days(srelease.time - srelease.commits.first(lambda c: c.author_time).author_time)\n",
    "            else:\n",
    "                duration = 0\n",
    "                \n",
    "            if srelease.commits and prev_release:\n",
    "                if prev_release.commits:\n",
    "                    prev_release_time = prev_release.commits.last(lambda c: c.committer_time).committer_time\n",
    "                else:\n",
    "                    prev_release_time = prev_release.time\n",
    "                    \n",
    "                commits_in_advance = [commit for commit in srelease.commits if commit.author_time < prev_release_time]\n",
    "            else: \n",
    "                commits_in_advance = []\n",
    "                \n",
    "            \n",
    "            release_data.append({\n",
    "                'project': project.name,\n",
    "                'release': srelease.name,\n",
    "                'previous_release': srelease.prev_main_release.name if srelease.prev_main_release else '',\n",
    "                'cycle': srelease.cycle,\n",
    "                'cycle_days': cycle_days,\n",
    "                'rapid_release': is_rapid_release(srelease),\n",
    "                'trad_release': is_trad_release(srelease),\n",
    "                \n",
    "                'commits': len(srelease.commits),\n",
    "                'commits_in_advance': len(commits_in_advance),\n",
    "                'start_delay': delay,\n",
    "                'duration': duration,\n",
    "                'patches': len(srelease.patches)     \n",
    "            })\n",
    "        \n",
    "        elapsed_time = datetime.datetime.now() - elapsed_time\n",
    "        project_data['time'] = elapsed_time\n",
    "    except Exception as err:\n",
    "        print(f\"{name:40} {err=}\")\n",
    "        traceback.print_exception(err)\n",
    "        project_data = {}\n",
    "        release_data = []\n",
    "    \n",
    "    return project_data, release_data"
   ]
  },
  {
   "cell_type": "code",
   "execution_count": 19,
   "id": "eb1e0463-4ef7-4fce-ac21-1f76fc70d4e9",
   "metadata": {
    "tags": []
   },
   "outputs": [],
   "source": [
    "project_names = list(selected_projects['project'])\n",
    "# project_names = project_names[:1]"
   ]
  },
  {
   "cell_type": "code",
   "execution_count": 20,
   "id": "cc5e63d9-8065-4207-81e8-e5efc21dcf6c",
   "metadata": {
    "tags": []
   },
   "outputs": [
    {
     "data": {
      "application/vnd.jupyter.widget-view+json": {
       "model_id": "5850176a7cb64beeb2d49b8823af4eac",
       "version_major": 2,
       "version_minor": 0
      },
      "text/plain": [
       "IntProgress(value=0, max=1)"
      ]
     },
     "metadata": {},
     "output_type": "display_data"
    }
   ],
   "source": [
    "with Pool(processes=CPU) as pool:\n",
    "    processed = 0\n",
    "    project_results = []\n",
    "    release_results = []\n",
    "    progress = IntProgress(min=0, max=len(project_names))\n",
    "    display(progress)\n",
    "    for result in pool.imap_unordered(mine, project_names):\n",
    "        project_result, release_result = result\n",
    "        project_results.append(project_result)\n",
    "        release_results.extend(release_result)\n",
    "        progress.value += 1\n"
   ]
  },
  {
   "cell_type": "code",
   "execution_count": 21,
   "id": "50f38c5a-a34d-4886-ad0c-6fe0da60cb24",
   "metadata": {},
   "outputs": [
    {
     "data": {
      "text/html": [
       "<div>\n",
       "<style scoped>\n",
       "    .dataframe tbody tr th:only-of-type {\n",
       "        vertical-align: middle;\n",
       "    }\n",
       "\n",
       "    .dataframe tbody tr th {\n",
       "        vertical-align: top;\n",
       "    }\n",
       "\n",
       "    .dataframe thead th {\n",
       "        text-align: right;\n",
       "    }\n",
       "</style>\n",
       "<table border=\"1\" class=\"dataframe\">\n",
       "  <thead>\n",
       "    <tr style=\"text-align: right;\">\n",
       "      <th></th>\n",
       "      <th>project</th>\n",
       "      <th>prefixes</th>\n",
       "      <th>prefixes_names</th>\n",
       "      <th>main_releases</th>\n",
       "      <th>rapid_releases</th>\n",
       "      <th>trad_releases</th>\n",
       "      <th>patches</th>\n",
       "      <th>releases</th>\n",
       "      <th>time</th>\n",
       "    </tr>\n",
       "  </thead>\n",
       "  <tbody>\n",
       "    <tr>\n",
       "      <th>0</th>\n",
       "      <td>robinvdvleuten/vuex-persistedstate</td>\n",
       "      <td>1</td>\n",
       "      <td>v</td>\n",
       "      <td>21</td>\n",
       "      <td>9</td>\n",
       "      <td>7</td>\n",
       "      <td>14</td>\n",
       "      <td>35</td>\n",
       "      <td>0 days 00:00:00.041606</td>\n",
       "    </tr>\n",
       "  </tbody>\n",
       "</table>\n",
       "</div>"
      ],
      "text/plain": [
       "                              project  prefixes prefixes_names  main_releases  \\\n",
       "0  robinvdvleuten/vuex-persistedstate         1              v             21   \n",
       "\n",
       "   rapid_releases  trad_releases  patches  releases                   time  \n",
       "0               9              7       14        35 0 days 00:00:00.041606  "
      ]
     },
     "execution_count": 21,
     "metadata": {},
     "output_type": "execute_result"
    }
   ],
   "source": [
    "projects = pd.DataFrame(project_results)\n",
    "projects.sample(1)"
   ]
  },
  {
   "cell_type": "code",
   "execution_count": 22,
   "id": "246d5343-7834-42e8-8bde-690bbcd1a574",
   "metadata": {
    "tags": []
   },
   "outputs": [
    {
     "data": {
      "text/html": [
       "<div>\n",
       "<style scoped>\n",
       "    .dataframe tbody tr th:only-of-type {\n",
       "        vertical-align: middle;\n",
       "    }\n",
       "\n",
       "    .dataframe tbody tr th {\n",
       "        vertical-align: top;\n",
       "    }\n",
       "\n",
       "    .dataframe thead th {\n",
       "        text-align: right;\n",
       "    }\n",
       "</style>\n",
       "<table border=\"1\" class=\"dataframe\">\n",
       "  <thead>\n",
       "    <tr style=\"text-align: right;\">\n",
       "      <th></th>\n",
       "      <th>project</th>\n",
       "      <th>release</th>\n",
       "      <th>previous_release</th>\n",
       "      <th>cycle</th>\n",
       "      <th>cycle_days</th>\n",
       "      <th>rapid_release</th>\n",
       "      <th>trad_release</th>\n",
       "      <th>commits</th>\n",
       "      <th>commits_in_advance</th>\n",
       "      <th>start_delay</th>\n",
       "      <th>duration</th>\n",
       "      <th>patches</th>\n",
       "    </tr>\n",
       "  </thead>\n",
       "  <tbody>\n",
       "    <tr>\n",
       "      <th>2</th>\n",
       "      <td>robinvdvleuten/vuex-persistedstate</td>\n",
       "      <td>v0.3.0</td>\n",
       "      <td>v0.2.0</td>\n",
       "      <td>0 days 05:44:56</td>\n",
       "      <td>0.239537</td>\n",
       "      <td>True</td>\n",
       "      <td>False</td>\n",
       "      <td>9</td>\n",
       "      <td>0</td>\n",
       "      <td>0.001794</td>\n",
       "      <td>0.237488</td>\n",
       "      <td>0</td>\n",
       "    </tr>\n",
       "    <tr>\n",
       "      <th>15</th>\n",
       "      <td>robinvdvleuten/vuex-persistedstate</td>\n",
       "      <td>v2.7.0</td>\n",
       "      <td>v2.6.0</td>\n",
       "      <td>2 days 20:11:41</td>\n",
       "      <td>2.841447</td>\n",
       "      <td>True</td>\n",
       "      <td>False</td>\n",
       "      <td>11</td>\n",
       "      <td>0</td>\n",
       "      <td>2.796389</td>\n",
       "      <td>0.045058</td>\n",
       "      <td>1</td>\n",
       "    </tr>\n",
       "    <tr>\n",
       "      <th>7</th>\n",
       "      <td>robinvdvleuten/vuex-persistedstate</td>\n",
       "      <td>v1.4.0</td>\n",
       "      <td>v1.3.0</td>\n",
       "      <td>40 days 22:26:50</td>\n",
       "      <td>40.935301</td>\n",
       "      <td>True</td>\n",
       "      <td>False</td>\n",
       "      <td>4</td>\n",
       "      <td>0</td>\n",
       "      <td>6.482280</td>\n",
       "      <td>34.452755</td>\n",
       "      <td>1</td>\n",
       "    </tr>\n",
       "    <tr>\n",
       "      <th>1</th>\n",
       "      <td>robinvdvleuten/vuex-persistedstate</td>\n",
       "      <td>v0.2.0</td>\n",
       "      <td>v0.1.0</td>\n",
       "      <td>0 days 17:24:28</td>\n",
       "      <td>0.725324</td>\n",
       "      <td>True</td>\n",
       "      <td>False</td>\n",
       "      <td>4</td>\n",
       "      <td>0</td>\n",
       "      <td>-0.003275</td>\n",
       "      <td>0.728368</td>\n",
       "      <td>0</td>\n",
       "    </tr>\n",
       "    <tr>\n",
       "      <th>12</th>\n",
       "      <td>robinvdvleuten/vuex-persistedstate</td>\n",
       "      <td>v2.4.0</td>\n",
       "      <td>v2.3.0</td>\n",
       "      <td>17 days 14:43:39</td>\n",
       "      <td>17.613646</td>\n",
       "      <td>True</td>\n",
       "      <td>False</td>\n",
       "      <td>7</td>\n",
       "      <td>0</td>\n",
       "      <td>15.544097</td>\n",
       "      <td>2.069502</td>\n",
       "      <td>2</td>\n",
       "    </tr>\n",
       "    <tr>\n",
       "      <th>16</th>\n",
       "      <td>robinvdvleuten/vuex-persistedstate</td>\n",
       "      <td>v3.0.0</td>\n",
       "      <td>v2.7.0</td>\n",
       "      <td>146 days 20:46:34</td>\n",
       "      <td>146.865671</td>\n",
       "      <td>False</td>\n",
       "      <td>True</td>\n",
       "      <td>14</td>\n",
       "      <td>0</td>\n",
       "      <td>97.916586</td>\n",
       "      <td>48.949086</td>\n",
       "      <td>1</td>\n",
       "    </tr>\n",
       "    <tr>\n",
       "      <th>5</th>\n",
       "      <td>robinvdvleuten/vuex-persistedstate</td>\n",
       "      <td>v1.2.0</td>\n",
       "      <td>v1.1.0</td>\n",
       "      <td>80 days 23:23:11</td>\n",
       "      <td>80.974433</td>\n",
       "      <td>False</td>\n",
       "      <td>False</td>\n",
       "      <td>5</td>\n",
       "      <td>0</td>\n",
       "      <td>4.941725</td>\n",
       "      <td>76.032384</td>\n",
       "      <td>0</td>\n",
       "    </tr>\n",
       "    <tr>\n",
       "      <th>3</th>\n",
       "      <td>robinvdvleuten/vuex-persistedstate</td>\n",
       "      <td>v1.0.0</td>\n",
       "      <td>v0.3.0</td>\n",
       "      <td>56 days 19:05:59</td>\n",
       "      <td>56.795822</td>\n",
       "      <td>False</td>\n",
       "      <td>False</td>\n",
       "      <td>5</td>\n",
       "      <td>0</td>\n",
       "      <td>56.773715</td>\n",
       "      <td>0.021979</td>\n",
       "      <td>0</td>\n",
       "    </tr>\n",
       "    <tr>\n",
       "      <th>13</th>\n",
       "      <td>robinvdvleuten/vuex-persistedstate</td>\n",
       "      <td>v2.5.0</td>\n",
       "      <td>v2.4.0</td>\n",
       "      <td>111 days 09:24:16</td>\n",
       "      <td>111.391852</td>\n",
       "      <td>False</td>\n",
       "      <td>True</td>\n",
       "      <td>8</td>\n",
       "      <td>0</td>\n",
       "      <td>3.153750</td>\n",
       "      <td>108.238102</td>\n",
       "      <td>4</td>\n",
       "    </tr>\n",
       "    <tr>\n",
       "      <th>20</th>\n",
       "      <td>robinvdvleuten/vuex-persistedstate</td>\n",
       "      <td>v4.1.0</td>\n",
       "      <td>v4.0.0</td>\n",
       "      <td>64 days 01:27:23</td>\n",
       "      <td>64.060683</td>\n",
       "      <td>False</td>\n",
       "      <td>False</td>\n",
       "      <td>5</td>\n",
       "      <td>0</td>\n",
       "      <td>0.008368</td>\n",
       "      <td>64.052315</td>\n",
       "      <td>0</td>\n",
       "    </tr>\n",
       "  </tbody>\n",
       "</table>\n",
       "</div>"
      ],
      "text/plain": [
       "                               project release previous_release  \\\n",
       "2   robinvdvleuten/vuex-persistedstate  v0.3.0           v0.2.0   \n",
       "15  robinvdvleuten/vuex-persistedstate  v2.7.0           v2.6.0   \n",
       "7   robinvdvleuten/vuex-persistedstate  v1.4.0           v1.3.0   \n",
       "1   robinvdvleuten/vuex-persistedstate  v0.2.0           v0.1.0   \n",
       "12  robinvdvleuten/vuex-persistedstate  v2.4.0           v2.3.0   \n",
       "16  robinvdvleuten/vuex-persistedstate  v3.0.0           v2.7.0   \n",
       "5   robinvdvleuten/vuex-persistedstate  v1.2.0           v1.1.0   \n",
       "3   robinvdvleuten/vuex-persistedstate  v1.0.0           v0.3.0   \n",
       "13  robinvdvleuten/vuex-persistedstate  v2.5.0           v2.4.0   \n",
       "20  robinvdvleuten/vuex-persistedstate  v4.1.0           v4.0.0   \n",
       "\n",
       "               cycle  cycle_days  rapid_release  trad_release  commits  \\\n",
       "2    0 days 05:44:56    0.239537           True         False        9   \n",
       "15   2 days 20:11:41    2.841447           True         False       11   \n",
       "7   40 days 22:26:50   40.935301           True         False        4   \n",
       "1    0 days 17:24:28    0.725324           True         False        4   \n",
       "12  17 days 14:43:39   17.613646           True         False        7   \n",
       "16 146 days 20:46:34  146.865671          False          True       14   \n",
       "5   80 days 23:23:11   80.974433          False         False        5   \n",
       "3   56 days 19:05:59   56.795822          False         False        5   \n",
       "13 111 days 09:24:16  111.391852          False          True        8   \n",
       "20  64 days 01:27:23   64.060683          False         False        5   \n",
       "\n",
       "    commits_in_advance  start_delay    duration  patches  \n",
       "2                    0     0.001794    0.237488        0  \n",
       "15                   0     2.796389    0.045058        1  \n",
       "7                    0     6.482280   34.452755        1  \n",
       "1                    0    -0.003275    0.728368        0  \n",
       "12                   0    15.544097    2.069502        2  \n",
       "16                   0    97.916586   48.949086        1  \n",
       "5                    0     4.941725   76.032384        0  \n",
       "3                    0    56.773715    0.021979        0  \n",
       "13                   0     3.153750  108.238102        4  \n",
       "20                   0     0.008368   64.052315        0  "
      ]
     },
     "execution_count": 22,
     "metadata": {},
     "output_type": "execute_result"
    }
   ],
   "source": [
    "releases = pd.DataFrame(release_results)\n",
    "releases.sample(10)"
   ]
  },
  {
   "cell_type": "code",
   "execution_count": 9,
   "id": "a2a2184c-4e46-4cf9-a87d-658106bc818f",
   "metadata": {
    "tags": []
   },
   "outputs": [
    {
     "data": {
      "text/plain": [
       "1665"
      ]
     },
     "execution_count": 9,
     "metadata": {},
     "output_type": "execute_result"
    }
   ],
   "source": [
    "len(projects)"
   ]
  },
  {
   "cell_type": "code",
   "execution_count": 10,
   "id": "c019b95d-9599-4f19-bfa9-0680e7287e1c",
   "metadata": {
    "tags": []
   },
   "outputs": [
    {
     "data": {
      "text/plain": [
       "52836"
      ]
     },
     "execution_count": 10,
     "metadata": {},
     "output_type": "execute_result"
    }
   ],
   "source": [
    "len(releases)"
   ]
  },
  {
   "cell_type": "code",
   "execution_count": 11,
   "id": "30584c58-319b-4246-b38d-e6d0228f092f",
   "metadata": {
    "tags": []
   },
   "outputs": [
    {
     "data": {
      "text/plain": [
       "29306"
      ]
     },
     "execution_count": 11,
     "metadata": {},
     "output_type": "execute_result"
    }
   ],
   "source": [
    "len(releases.query(\"rapid_release == True\"))"
   ]
  },
  {
   "cell_type": "code",
   "execution_count": 12,
   "id": "bdaf5aec-f377-45ab-8923-5839b18e4959",
   "metadata": {
    "tags": []
   },
   "outputs": [
    {
     "data": {
      "text/plain": [
       "11296"
      ]
     },
     "execution_count": 12,
     "metadata": {},
     "output_type": "execute_result"
    }
   ],
   "source": [
    "len(releases.query(\"trad_release == True\"))"
   ]
  },
  {
   "cell_type": "code",
   "execution_count": 13,
   "id": "b2b01b4c-5678-4e1a-a36d-47cdb33bedef",
   "metadata": {
    "tags": []
   },
   "outputs": [
    {
     "data": {
      "text/plain": [
       "12234"
      ]
     },
     "execution_count": 13,
     "metadata": {},
     "output_type": "execute_result"
    }
   ],
   "source": [
    "len(releases.query(\"rapid_release == False and trad_release == False\"))"
   ]
  },
  {
   "cell_type": "code",
   "execution_count": 14,
   "id": "cec37ef4-8f57-42ea-9461-613ebe96ff4d",
   "metadata": {
    "tags": []
   },
   "outputs": [
    {
     "data": {
      "text/plain": [
       "5520217"
      ]
     },
     "execution_count": 14,
     "metadata": {},
     "output_type": "execute_result"
    }
   ],
   "source": [
    "releases['commits'].sum()"
   ]
  },
  {
   "cell_type": "code",
   "execution_count": 15,
   "id": "7f4a1199-470f-4a89-a491-0c7e06ce9af1",
   "metadata": {
    "tags": []
   },
   "outputs": [],
   "source": [
    "projects.to_csv(DATA_PATH / '20_projects.csv', index=False)"
   ]
  },
  {
   "cell_type": "code",
   "execution_count": 16,
   "id": "099cdf2e-c0e9-426d-9de3-3c4843b47ff6",
   "metadata": {},
   "outputs": [],
   "source": [
    "releases.to_csv(DATA_PATH / '20_releases.csv', index=False)"
   ]
  },
  {
   "cell_type": "code",
   "execution_count": null,
   "id": "14bd86a5-75b4-4afd-8a12-fb3b2dfea783",
   "metadata": {},
   "outputs": [],
   "source": []
  }
 ],
 "metadata": {
  "kernelspec": {
   "display_name": "Python 3 (ipykernel)",
   "language": "python",
   "name": "python3"
  },
  "language_info": {
   "codemirror_mode": {
    "name": "ipython",
    "version": 3
   },
   "file_extension": ".py",
   "mimetype": "text/x-python",
   "name": "python",
   "nbconvert_exporter": "python",
   "pygments_lexer": "ipython3",
   "version": "3.11.2"
  }
 },
 "nbformat": 4,
 "nbformat_minor": 5
}
