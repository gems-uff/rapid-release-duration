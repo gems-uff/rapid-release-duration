{
 "cells": [
  {
   "cell_type": "markdown",
   "id": "d7227d37-44b9-4e9b-ab78-59f09bffb985",
   "metadata": {},
   "source": [
    "# Mine releases from selected projects\n",
    "\n",
    "This notebook mine the releases"
   ]
  },
  {
   "cell_type": "code",
   "execution_count": 1,
   "id": "a304ccaa-d06d-402c-89dd-2412c732c2f7",
   "metadata": {},
   "outputs": [],
   "source": [
    "import os\n",
    "import datetime\n",
    "import json\n",
    "import re\n",
    "import traceback\n",
    "import math\n",
    "\n",
    "from multiprocessing import Pool\n",
    "import pandas as pd\n",
    "\n",
    "from ipywidgets import IntProgress\n",
    "from IPython.display import display\n",
    "\n",
    "import releasy"
   ]
  },
  {
   "cell_type": "code",
   "execution_count": 2,
   "id": "40cdeee0-c510-4517-85fc-538813f21816",
   "metadata": {},
   "outputs": [],
   "source": [
    "from util import (\n",
    "    DATA_PATH,\n",
    "    REPO_PATH,\n",
    "    TMP_PATH, \n",
    "    CPU,\n",
    "    CycleType,\n",
    "    RAPID_RELEASE_LIM,\n",
    "    TRAD_RELEASE_LIM,\n",
    "    delta2days,\n",
    "    is_rapid_release,\n",
    "    is_trad_release,\n",
    ")"
   ]
  },
  {
   "cell_type": "code",
   "execution_count": 3,
   "id": "f63025a7-662a-419e-a708-ac81549852ca",
   "metadata": {},
   "outputs": [],
   "source": [
    "selected_projects = pd.read_csv(DATA_PATH / '10_projects_selected.csv')"
   ]
  },
  {
   "cell_type": "markdown",
   "id": "5bed686d-0b1a-49b2-b035-88f48e5ea910",
   "metadata": {},
   "source": [
    "## Mine Releases\n"
   ]
  },
  {
   "cell_type": "code",
   "execution_count": 4,
   "id": "9eacb421-acca-40e7-a25f-73a0b398952d",
   "metadata": {},
   "outputs": [],
   "source": [
    "def mine(name: str) -> releasy.Project:\n",
    "    elapsed_time = datetime.datetime.now()\n",
    "    \n",
    "    try:\n",
    "        repo_path = str(REPO_PATH / name)\n",
    "        project = releasy.Miner(repo_path, name).apply(\n",
    "            releasy.FinalReleaseMiner(),\n",
    "            releasy.HistoryCommitMiner(),\n",
    "            releasy.BaseReleaseMiner(),\n",
    "            releasy.ContributorMiner(),\n",
    "            releasy.SemanticReleaseMiner()\n",
    "        ).mine()\n",
    "\n",
    "        rapid_releases = [release for release in project.main_releases if is_rapid_release(release)]\n",
    "        trad_releases = [release for release in project.main_releases if is_trad_release(release)]\n",
    "\n",
    "        project_data = {\n",
    "            'project': project.name,\n",
    "            'prefixes': len(project.releases.prefixes()),\n",
    "            'prefixes_names': str(\" \".join(project.releases.prefixes())),\n",
    "            'main_releases': len(project.main_releases),\n",
    "            'rapid_releases': len(rapid_releases),\n",
    "            'trad_releases': len(trad_releases),\n",
    "            'patches': len(project.patches),\n",
    "            'releases': len(project.releases)\n",
    "        }\n",
    "        \n",
    "        release_data = []\n",
    "        for srelease in project.main_releases:\n",
    "            # release = srelease.release\n",
    "            cycle_days = delta2days(srelease.cycle)\n",
    "            delay = delta2days(srelease.delay)\n",
    "            prev_release = srelease.prev_main_release\n",
    "\n",
    "            if srelease.commits:\n",
    "                duration = delta2days(srelease.time - srelease.commits.first(lambda c: c.author_time).author_time)\n",
    "            else:\n",
    "                duration = 0\n",
    "                \n",
    "            if srelease.commits and prev_release:\n",
    "                commits_in_advance = [commit for commit in srelease.commits if commit.author_time < prev_release.time]\n",
    "            else: \n",
    "                commits_in_advance = []\n",
    "                \n",
    "            \n",
    "            release_data.append({\n",
    "                'project': project.name,\n",
    "                'release': srelease.name,\n",
    "                'previous_release': srelease.prev_main_release.name if srelease.prev_main_release else '',\n",
    "                'cycle': srelease.cycle,\n",
    "                'cycle_days': cycle_days,\n",
    "                # 'cycle_rdays': math.ceil(cycle_days),\n",
    "                'rapid_release': is_rapid_release(srelease),\n",
    "                'trad_release': is_trad_release(srelease),\n",
    "                \n",
    "                'commits': len(srelease.commits),\n",
    "                'commits_in_advance': len(commits_in_advance),\n",
    "                'start_delay': delay,\n",
    "                'start_delay_rdays': math.ceil(delay),\n",
    "                'duration': duration,\n",
    "                # 'duration_rdays': math.ceil(duration),\n",
    "                'patches': len(srelease.patches)     \n",
    "            })\n",
    "        \n",
    "        elapsed_time = datetime.datetime.now() - elapsed_time\n",
    "        project_data['time'] = elapsed_time\n",
    "    except Exception as err:\n",
    "        print(f\"{name:40} {err=}\")\n",
    "        traceback.print_exception(err)\n",
    "        project_data = {}\n",
    "        release_data = []\n",
    "    \n",
    "    return project_data, release_data"
   ]
  },
  {
   "cell_type": "code",
   "execution_count": 5,
   "id": "eb1e0463-4ef7-4fce-ac21-1f76fc70d4e9",
   "metadata": {
    "tags": []
   },
   "outputs": [],
   "source": [
    "project_names = list(selected_projects['project'])\n",
    "# project_names = project_names[:1]"
   ]
  },
  {
   "cell_type": "code",
   "execution_count": 6,
   "id": "cc5e63d9-8065-4207-81e8-e5efc21dcf6c",
   "metadata": {
    "tags": []
   },
   "outputs": [
    {
     "data": {
      "application/vnd.jupyter.widget-view+json": {
       "model_id": "72bca16b7ff84674a3473925e9daa337",
       "version_major": 2,
       "version_minor": 0
      },
      "text/plain": [
       "IntProgress(value=0, max=1665)"
      ]
     },
     "metadata": {},
     "output_type": "display_data"
    }
   ],
   "source": [
    "with Pool(processes=CPU) as pool:\n",
    "    processed = 0\n",
    "    project_results = []\n",
    "    release_results = []\n",
    "    progress = IntProgress(min=0, max=len(project_names))\n",
    "    display(progress)\n",
    "    for result in pool.imap_unordered(mine, project_names):\n",
    "        project_result, release_result = result\n",
    "        project_results.append(project_result)\n",
    "        release_results.extend(release_result)\n",
    "        progress.value += 1\n"
   ]
  },
  {
   "cell_type": "code",
   "execution_count": 7,
   "id": "50f38c5a-a34d-4886-ad0c-6fe0da60cb24",
   "metadata": {},
   "outputs": [
    {
     "data": {
      "text/html": [
       "<div>\n",
       "<style scoped>\n",
       "    .dataframe tbody tr th:only-of-type {\n",
       "        vertical-align: middle;\n",
       "    }\n",
       "\n",
       "    .dataframe tbody tr th {\n",
       "        vertical-align: top;\n",
       "    }\n",
       "\n",
       "    .dataframe thead th {\n",
       "        text-align: right;\n",
       "    }\n",
       "</style>\n",
       "<table border=\"1\" class=\"dataframe\">\n",
       "  <thead>\n",
       "    <tr style=\"text-align: right;\">\n",
       "      <th></th>\n",
       "      <th>project</th>\n",
       "      <th>prefixes</th>\n",
       "      <th>prefixes_names</th>\n",
       "      <th>main_releases</th>\n",
       "      <th>rapid_releases</th>\n",
       "      <th>trad_releases</th>\n",
       "      <th>patches</th>\n",
       "      <th>releases</th>\n",
       "      <th>time</th>\n",
       "    </tr>\n",
       "  </thead>\n",
       "  <tbody>\n",
       "    <tr>\n",
       "      <th>142</th>\n",
       "      <td>chainer/chainer</td>\n",
       "      <td>1</td>\n",
       "      <td>v</td>\n",
       "      <td>60</td>\n",
       "      <td>47</td>\n",
       "      <td>3</td>\n",
       "      <td>18</td>\n",
       "      <td>78</td>\n",
       "      <td>0 days 00:00:02.274215</td>\n",
       "    </tr>\n",
       "  </tbody>\n",
       "</table>\n",
       "</div>"
      ],
      "text/plain": [
       "             project  prefixes prefixes_names  main_releases  rapid_releases  \\\n",
       "142  chainer/chainer         1              v             60              47   \n",
       "\n",
       "     trad_releases  patches  releases                   time  \n",
       "142              3       18        78 0 days 00:00:02.274215  "
      ]
     },
     "execution_count": 7,
     "metadata": {},
     "output_type": "execute_result"
    }
   ],
   "source": [
    "projects = pd.DataFrame(project_results)\n",
    "projects.sample(1)"
   ]
  },
  {
   "cell_type": "code",
   "execution_count": 8,
   "id": "246d5343-7834-42e8-8bde-690bbcd1a574",
   "metadata": {
    "tags": []
   },
   "outputs": [
    {
     "data": {
      "text/html": [
       "<div>\n",
       "<style scoped>\n",
       "    .dataframe tbody tr th:only-of-type {\n",
       "        vertical-align: middle;\n",
       "    }\n",
       "\n",
       "    .dataframe tbody tr th {\n",
       "        vertical-align: top;\n",
       "    }\n",
       "\n",
       "    .dataframe thead th {\n",
       "        text-align: right;\n",
       "    }\n",
       "</style>\n",
       "<table border=\"1\" class=\"dataframe\">\n",
       "  <thead>\n",
       "    <tr style=\"text-align: right;\">\n",
       "      <th></th>\n",
       "      <th>project</th>\n",
       "      <th>release</th>\n",
       "      <th>previous_release</th>\n",
       "      <th>cycle</th>\n",
       "      <th>cycle_days</th>\n",
       "      <th>rapid_release</th>\n",
       "      <th>trad_release</th>\n",
       "      <th>commits</th>\n",
       "      <th>commits_in_advance</th>\n",
       "      <th>start_delay</th>\n",
       "      <th>start_delay_rdays</th>\n",
       "      <th>duration</th>\n",
       "      <th>patches</th>\n",
       "    </tr>\n",
       "  </thead>\n",
       "  <tbody>\n",
       "    <tr>\n",
       "      <th>24019</th>\n",
       "      <td>microsoft/Windows-universal-samples</td>\n",
       "      <td>108515</td>\n",
       "      <td>108514</td>\n",
       "      <td>0 days 00:00:00</td>\n",
       "      <td>0.000000</td>\n",
       "      <td>False</td>\n",
       "      <td>False</td>\n",
       "      <td>0</td>\n",
       "      <td>0</td>\n",
       "      <td>0.000000</td>\n",
       "      <td>0</td>\n",
       "      <td>0.000000</td>\n",
       "      <td>0</td>\n",
       "    </tr>\n",
       "    <tr>\n",
       "      <th>32967</th>\n",
       "      <td>abseil/abseil-cpp</td>\n",
       "      <td>20200225.2</td>\n",
       "      <td>20200225.1</td>\n",
       "      <td>48 days 22:45:31</td>\n",
       "      <td>48.948275</td>\n",
       "      <td>False</td>\n",
       "      <td>False</td>\n",
       "      <td>1</td>\n",
       "      <td>0</td>\n",
       "      <td>48.948275</td>\n",
       "      <td>49</td>\n",
       "      <td>0.000000</td>\n",
       "      <td>0</td>\n",
       "    </tr>\n",
       "    <tr>\n",
       "      <th>47422</th>\n",
       "      <td>psf/requests</td>\n",
       "      <td>v2.11.0</td>\n",
       "      <td>v2.10.0</td>\n",
       "      <td>100 days 16:55:09</td>\n",
       "      <td>100.704965</td>\n",
       "      <td>False</td>\n",
       "      <td>True</td>\n",
       "      <td>74</td>\n",
       "      <td>0</td>\n",
       "      <td>0.003843</td>\n",
       "      <td>1</td>\n",
       "      <td>100.701123</td>\n",
       "      <td>1</td>\n",
       "    </tr>\n",
       "    <tr>\n",
       "      <th>44124</th>\n",
       "      <td>chrislusf/seaweedfs</td>\n",
       "      <td>2.50</td>\n",
       "      <td>2.49</td>\n",
       "      <td>7 days 19:48:43</td>\n",
       "      <td>7.825498</td>\n",
       "      <td>True</td>\n",
       "      <td>False</td>\n",
       "      <td>34</td>\n",
       "      <td>4</td>\n",
       "      <td>-3.046134</td>\n",
       "      <td>-3</td>\n",
       "      <td>10.871632</td>\n",
       "      <td>0</td>\n",
       "    </tr>\n",
       "    <tr>\n",
       "      <th>13975</th>\n",
       "      <td>wix/react-native-calendars</td>\n",
       "      <td>1.151.0</td>\n",
       "      <td>1.150.0</td>\n",
       "      <td>0 days 15:13:02</td>\n",
       "      <td>0.634051</td>\n",
       "      <td>True</td>\n",
       "      <td>False</td>\n",
       "      <td>1</td>\n",
       "      <td>0</td>\n",
       "      <td>0.633252</td>\n",
       "      <td>1</td>\n",
       "      <td>0.000799</td>\n",
       "      <td>0</td>\n",
       "    </tr>\n",
       "    <tr>\n",
       "      <th>8435</th>\n",
       "      <td>concourse/concourse</td>\n",
       "      <td>v1.4.0</td>\n",
       "      <td>v1.3.0</td>\n",
       "      <td>23 days 02:02:25</td>\n",
       "      <td>23.085012</td>\n",
       "      <td>True</td>\n",
       "      <td>False</td>\n",
       "      <td>80</td>\n",
       "      <td>0</td>\n",
       "      <td>2.870891</td>\n",
       "      <td>3</td>\n",
       "      <td>20.214120</td>\n",
       "      <td>1</td>\n",
       "    </tr>\n",
       "    <tr>\n",
       "      <th>12825</th>\n",
       "      <td>QuantConnect/Lean</td>\n",
       "      <td>13365</td>\n",
       "      <td>13364</td>\n",
       "      <td>0 days 00:00:00</td>\n",
       "      <td>0.000000</td>\n",
       "      <td>False</td>\n",
       "      <td>False</td>\n",
       "      <td>0</td>\n",
       "      <td>0</td>\n",
       "      <td>0.000000</td>\n",
       "      <td>0</td>\n",
       "      <td>0.000000</td>\n",
       "      <td>0</td>\n",
       "    </tr>\n",
       "    <tr>\n",
       "      <th>46948</th>\n",
       "      <td>webpack/webpack</td>\n",
       "      <td>v5.51.0</td>\n",
       "      <td>v5.50.0</td>\n",
       "      <td>8 days 14:32:41</td>\n",
       "      <td>8.606030</td>\n",
       "      <td>True</td>\n",
       "      <td>False</td>\n",
       "      <td>14</td>\n",
       "      <td>0</td>\n",
       "      <td>3.664653</td>\n",
       "      <td>4</td>\n",
       "      <td>4.941377</td>\n",
       "      <td>2</td>\n",
       "    </tr>\n",
       "    <tr>\n",
       "      <th>42253</th>\n",
       "      <td>simdjson/simdjson</td>\n",
       "      <td>v0.9.0</td>\n",
       "      <td>v0.8.0</td>\n",
       "      <td>53 days 22:04:36</td>\n",
       "      <td>53.919861</td>\n",
       "      <td>False</td>\n",
       "      <td>False</td>\n",
       "      <td>101</td>\n",
       "      <td>0</td>\n",
       "      <td>2.389884</td>\n",
       "      <td>3</td>\n",
       "      <td>51.529977</td>\n",
       "      <td>7</td>\n",
       "    </tr>\n",
       "    <tr>\n",
       "      <th>25329</th>\n",
       "      <td>HabitRPG/habitica</td>\n",
       "      <td>v3.17.0</td>\n",
       "      <td>v3.16.0</td>\n",
       "      <td>4 days 19:04:09</td>\n",
       "      <td>4.794549</td>\n",
       "      <td>True</td>\n",
       "      <td>False</td>\n",
       "      <td>15</td>\n",
       "      <td>0</td>\n",
       "      <td>0.529479</td>\n",
       "      <td>1</td>\n",
       "      <td>4.265069</td>\n",
       "      <td>0</td>\n",
       "    </tr>\n",
       "  </tbody>\n",
       "</table>\n",
       "</div>"
      ],
      "text/plain": [
       "                                   project     release previous_release  \\\n",
       "24019  microsoft/Windows-universal-samples      108515           108514   \n",
       "32967                    abseil/abseil-cpp  20200225.2       20200225.1   \n",
       "47422                         psf/requests     v2.11.0          v2.10.0   \n",
       "44124                  chrislusf/seaweedfs        2.50             2.49   \n",
       "13975           wix/react-native-calendars     1.151.0          1.150.0   \n",
       "8435                   concourse/concourse      v1.4.0           v1.3.0   \n",
       "12825                    QuantConnect/Lean       13365            13364   \n",
       "46948                      webpack/webpack     v5.51.0          v5.50.0   \n",
       "42253                    simdjson/simdjson      v0.9.0           v0.8.0   \n",
       "25329                    HabitRPG/habitica     v3.17.0          v3.16.0   \n",
       "\n",
       "                  cycle  cycle_days  rapid_release  trad_release  commits  \\\n",
       "24019   0 days 00:00:00    0.000000          False         False        0   \n",
       "32967  48 days 22:45:31   48.948275          False         False        1   \n",
       "47422 100 days 16:55:09  100.704965          False          True       74   \n",
       "44124   7 days 19:48:43    7.825498           True         False       34   \n",
       "13975   0 days 15:13:02    0.634051           True         False        1   \n",
       "8435   23 days 02:02:25   23.085012           True         False       80   \n",
       "12825   0 days 00:00:00    0.000000          False         False        0   \n",
       "46948   8 days 14:32:41    8.606030           True         False       14   \n",
       "42253  53 days 22:04:36   53.919861          False         False      101   \n",
       "25329   4 days 19:04:09    4.794549           True         False       15   \n",
       "\n",
       "       commits_in_advance  start_delay  start_delay_rdays    duration  patches  \n",
       "24019                   0     0.000000                  0    0.000000        0  \n",
       "32967                   0    48.948275                 49    0.000000        0  \n",
       "47422                   0     0.003843                  1  100.701123        1  \n",
       "44124                   4    -3.046134                 -3   10.871632        0  \n",
       "13975                   0     0.633252                  1    0.000799        0  \n",
       "8435                    0     2.870891                  3   20.214120        1  \n",
       "12825                   0     0.000000                  0    0.000000        0  \n",
       "46948                   0     3.664653                  4    4.941377        2  \n",
       "42253                   0     2.389884                  3   51.529977        7  \n",
       "25329                   0     0.529479                  1    4.265069        0  "
      ]
     },
     "execution_count": 8,
     "metadata": {},
     "output_type": "execute_result"
    }
   ],
   "source": [
    "releases = pd.DataFrame(release_results)\n",
    "releases.sample(10)"
   ]
  },
  {
   "cell_type": "code",
   "execution_count": 9,
   "id": "a2a2184c-4e46-4cf9-a87d-658106bc818f",
   "metadata": {
    "tags": []
   },
   "outputs": [
    {
     "data": {
      "text/plain": [
       "1665"
      ]
     },
     "execution_count": 9,
     "metadata": {},
     "output_type": "execute_result"
    }
   ],
   "source": [
    "len(projects)"
   ]
  },
  {
   "cell_type": "code",
   "execution_count": 10,
   "id": "c019b95d-9599-4f19-bfa9-0680e7287e1c",
   "metadata": {
    "tags": []
   },
   "outputs": [
    {
     "data": {
      "text/plain": [
       "52836"
      ]
     },
     "execution_count": 10,
     "metadata": {},
     "output_type": "execute_result"
    }
   ],
   "source": [
    "len(releases)"
   ]
  },
  {
   "cell_type": "code",
   "execution_count": 11,
   "id": "30584c58-319b-4246-b38d-e6d0228f092f",
   "metadata": {
    "tags": []
   },
   "outputs": [
    {
     "data": {
      "text/plain": [
       "29306"
      ]
     },
     "execution_count": 11,
     "metadata": {},
     "output_type": "execute_result"
    }
   ],
   "source": [
    "len(releases.query(\"rapid_release == True\"))"
   ]
  },
  {
   "cell_type": "code",
   "execution_count": 12,
   "id": "bdaf5aec-f377-45ab-8923-5839b18e4959",
   "metadata": {
    "tags": []
   },
   "outputs": [
    {
     "data": {
      "text/plain": [
       "11296"
      ]
     },
     "execution_count": 12,
     "metadata": {},
     "output_type": "execute_result"
    }
   ],
   "source": [
    "len(releases.query(\"trad_release == True\"))"
   ]
  },
  {
   "cell_type": "code",
   "execution_count": 13,
   "id": "b2b01b4c-5678-4e1a-a36d-47cdb33bedef",
   "metadata": {
    "tags": []
   },
   "outputs": [
    {
     "data": {
      "text/plain": [
       "12234"
      ]
     },
     "execution_count": 13,
     "metadata": {},
     "output_type": "execute_result"
    }
   ],
   "source": [
    "len(releases.query(\"rapid_release == False and trad_release == False\"))"
   ]
  },
  {
   "cell_type": "code",
   "execution_count": 14,
   "id": "cec37ef4-8f57-42ea-9461-613ebe96ff4d",
   "metadata": {
    "tags": []
   },
   "outputs": [
    {
     "data": {
      "text/plain": [
       "5520108"
      ]
     },
     "execution_count": 14,
     "metadata": {},
     "output_type": "execute_result"
    }
   ],
   "source": [
    "releases['commits'].sum()"
   ]
  },
  {
   "cell_type": "code",
   "execution_count": 15,
   "id": "7f4a1199-470f-4a89-a491-0c7e06ce9af1",
   "metadata": {
    "tags": []
   },
   "outputs": [],
   "source": [
    "projects.to_csv(DATA_PATH / '20_projects.csv', index=False)"
   ]
  },
  {
   "cell_type": "code",
   "execution_count": 16,
   "id": "099cdf2e-c0e9-426d-9de3-3c4843b47ff6",
   "metadata": {},
   "outputs": [],
   "source": [
    "releases.to_csv(DATA_PATH / '20_releases.csv', index=False)"
   ]
  },
  {
   "cell_type": "code",
   "execution_count": null,
   "id": "14bd86a5-75b4-4afd-8a12-fb3b2dfea783",
   "metadata": {},
   "outputs": [],
   "source": []
  }
 ],
 "metadata": {
  "kernelspec": {
   "display_name": "Python 3 (ipykernel)",
   "language": "python",
   "name": "python3"
  },
  "language_info": {
   "codemirror_mode": {
    "name": "ipython",
    "version": 3
   },
   "file_extension": ".py",
   "mimetype": "text/x-python",
   "name": "python",
   "nbconvert_exporter": "python",
   "pygments_lexer": "ipython3",
   "version": "3.11.2"
  }
 },
 "nbformat": 4,
 "nbformat_minor": 5
}
