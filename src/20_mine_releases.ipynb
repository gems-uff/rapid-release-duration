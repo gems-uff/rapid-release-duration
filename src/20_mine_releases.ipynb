{
 "cells": [
  {
   "cell_type": "markdown",
   "id": "d7227d37-44b9-4e9b-ab78-59f09bffb985",
   "metadata": {},
   "source": [
    "# Mine releases from selected projects\n",
    "\n",
    "This notebook mine the releases"
   ]
  },
  {
   "cell_type": "code",
   "execution_count": 1,
   "id": "a304ccaa-d06d-402c-89dd-2412c732c2f7",
   "metadata": {},
   "outputs": [],
   "source": [
    "import os\n",
    "import datetime\n",
    "import json\n",
    "import re\n",
    "import traceback\n",
    "import math\n",
    "\n",
    "from multiprocessing import Pool\n",
    "import pandas as pd\n",
    "\n",
    "from ipywidgets import IntProgress\n",
    "from IPython.display import display\n",
    "\n",
    "import releasy"
   ]
  },
  {
   "cell_type": "code",
   "execution_count": 2,
   "id": "40cdeee0-c510-4517-85fc-538813f21816",
   "metadata": {},
   "outputs": [],
   "source": [
    "from util import (\n",
    "    DATA_PATH,\n",
    "    REPO_PATH,\n",
    "    TMP_PATH, \n",
    "    CPU,\n",
    "    CycleType,\n",
    "    RAPID_RELEASE_LIM,\n",
    "    TRAD_RELEASE_LIM,\n",
    "    delta2days,\n",
    "    is_rapid_release,\n",
    "    is_trad_release,\n",
    ")"
   ]
  },
  {
   "cell_type": "code",
   "execution_count": 3,
   "id": "f63025a7-662a-419e-a708-ac81549852ca",
   "metadata": {},
   "outputs": [],
   "source": [
    "selected_projects = pd.read_csv(DATA_PATH / '10_projects_selected.csv')"
   ]
  },
  {
   "cell_type": "markdown",
   "id": "5bed686d-0b1a-49b2-b035-88f48e5ea910",
   "metadata": {},
   "source": [
    "## Mine Releases\n"
   ]
  },
  {
   "cell_type": "code",
   "execution_count": 4,
   "id": "9eacb421-acca-40e7-a25f-73a0b398952d",
   "metadata": {},
   "outputs": [],
   "source": [
    "def mine(name: str) -> releasy.Project:\n",
    "    elapsed_time = datetime.datetime.now()\n",
    "    \n",
    "    try:\n",
    "        repo_path = str(REPO_PATH / name)\n",
    "        project = releasy.Miner(repo_path, name).apply(\n",
    "            releasy.FinalReleaseMiner(),\n",
    "            releasy.HistoryCommitMiner(),\n",
    "            releasy.BaseReleaseMiner(),\n",
    "            releasy.ContributorMiner(),\n",
    "            releasy.SemanticReleaseMiner()\n",
    "        ).mine()\n",
    "\n",
    "        rapid_releases = [release for release in project.main_releases if is_rapid_release(release)]\n",
    "        trad_releases = [release for release in project.main_releases if is_trad_release(release)]\n",
    "\n",
    "        project_data = {\n",
    "            'project': project.name,\n",
    "            'prefixes': len(project.releases.prefixes()),\n",
    "            'prefixes_names': str(\" \".join(project.releases.prefixes())),\n",
    "            'main_releases': len(project.main_releases),\n",
    "            'rapid_releases': len(rapid_releases),\n",
    "            'trad_releases': len(trad_releases),\n",
    "            'patches': len(project.patches),\n",
    "            'releases': len(project.releases)\n",
    "        }\n",
    "        \n",
    "        release_data = []\n",
    "        for srelease in project.main_releases:\n",
    "            # release = srelease.release\n",
    "            cycle_days = delta2days(srelease.cycle)\n",
    "            delay = delta2days(srelease.delay)\n",
    "\n",
    "            if srelease.commits:\n",
    "                duration = delta2days(srelease.time - srelease.commits.first(lambda c: c.author_time).author_time)\n",
    "            else:\n",
    "                duration = 0 \n",
    "            \n",
    "            release_data.append({\n",
    "                'project': project.name,\n",
    "                'release': srelease.name,\n",
    "                'previous_release': srelease.prev_main_release.name if srelease.prev_main_release else '',\n",
    "                'cycle': srelease.cycle,\n",
    "                'cycle_days': cycle_days,\n",
    "                'cycle_rdays': math.ceil(cycle_days),\n",
    "                'rapid_release': is_rapid_release(srelease),\n",
    "                'trad_release': is_trad_release(srelease),\n",
    "                \n",
    "                'commits': len(srelease.commits),\n",
    "                'start_delay': delay,\n",
    "                'start_delay_rdays': math.ceil(delay),\n",
    "                'duration': duration,\n",
    "                'duration_rdays': math.ceil(duration),\n",
    "                'patches': len(srelease.patches)     \n",
    "            })\n",
    "        \n",
    "        elapsed_time = datetime.datetime.now() - elapsed_time\n",
    "        project_data['time'] = elapsed_time\n",
    "    except Exception as err:\n",
    "        print(f\"{name:40} {err=}\")\n",
    "        traceback.print_exception(err)\n",
    "        project_data = {}\n",
    "        release_data = []\n",
    "    \n",
    "    return project_data, release_data"
   ]
  },
  {
   "cell_type": "code",
   "execution_count": 5,
   "id": "eb1e0463-4ef7-4fce-ac21-1f76fc70d4e9",
   "metadata": {
    "tags": []
   },
   "outputs": [],
   "source": [
    "project_names = list(selected_projects['project'])\n",
    "# project_names = project_names[:1]"
   ]
  },
  {
   "cell_type": "code",
   "execution_count": 6,
   "id": "cc5e63d9-8065-4207-81e8-e5efc21dcf6c",
   "metadata": {
    "tags": []
   },
   "outputs": [
    {
     "data": {
      "application/vnd.jupyter.widget-view+json": {
       "model_id": "a2864e2ebfb5473daa9b494e8514a330",
       "version_major": 2,
       "version_minor": 0
      },
      "text/plain": [
       "IntProgress(value=0, max=1665)"
      ]
     },
     "metadata": {},
     "output_type": "display_data"
    }
   ],
   "source": [
    "with Pool(processes=CPU) as pool:\n",
    "    processed = 0\n",
    "    project_results = []\n",
    "    release_results = []\n",
    "    progress = IntProgress(min=0, max=len(project_names))\n",
    "    display(progress)\n",
    "    for result in pool.imap_unordered(mine, project_names):\n",
    "        project_result, release_result = result\n",
    "        project_results.append(project_result)\n",
    "        release_results.extend(release_result)\n",
    "        progress.value += 1\n"
   ]
  },
  {
   "cell_type": "code",
   "execution_count": 7,
   "id": "50f38c5a-a34d-4886-ad0c-6fe0da60cb24",
   "metadata": {},
   "outputs": [
    {
     "data": {
      "text/html": [
       "<div>\n",
       "<style scoped>\n",
       "    .dataframe tbody tr th:only-of-type {\n",
       "        vertical-align: middle;\n",
       "    }\n",
       "\n",
       "    .dataframe tbody tr th {\n",
       "        vertical-align: top;\n",
       "    }\n",
       "\n",
       "    .dataframe thead th {\n",
       "        text-align: right;\n",
       "    }\n",
       "</style>\n",
       "<table border=\"1\" class=\"dataframe\">\n",
       "  <thead>\n",
       "    <tr style=\"text-align: right;\">\n",
       "      <th></th>\n",
       "      <th>project</th>\n",
       "      <th>prefixes</th>\n",
       "      <th>prefixes_names</th>\n",
       "      <th>main_releases</th>\n",
       "      <th>rapid_releases</th>\n",
       "      <th>trad_releases</th>\n",
       "      <th>patches</th>\n",
       "      <th>releases</th>\n",
       "      <th>time</th>\n",
       "    </tr>\n",
       "  </thead>\n",
       "  <tbody>\n",
       "    <tr>\n",
       "      <th>561</th>\n",
       "      <td>reactjs/react-modal</td>\n",
       "      <td>1</td>\n",
       "      <td>v</td>\n",
       "      <td>19</td>\n",
       "      <td>7</td>\n",
       "      <td>6</td>\n",
       "      <td>91</td>\n",
       "      <td>110</td>\n",
       "      <td>0 days 00:00:00.078163</td>\n",
       "    </tr>\n",
       "    <tr>\n",
       "      <th>677</th>\n",
       "      <td>oblador/react-native-animatable</td>\n",
       "      <td>1</td>\n",
       "      <td>v</td>\n",
       "      <td>10</td>\n",
       "      <td>4</td>\n",
       "      <td>4</td>\n",
       "      <td>13</td>\n",
       "      <td>23</td>\n",
       "      <td>0 days 00:00:00.023313</td>\n",
       "    </tr>\n",
       "    <tr>\n",
       "      <th>1439</th>\n",
       "      <td>Kr328/ClashForAndroid</td>\n",
       "      <td>2</td>\n",
       "      <td>v</td>\n",
       "      <td>18</td>\n",
       "      <td>10</td>\n",
       "      <td>1</td>\n",
       "      <td>94</td>\n",
       "      <td>112</td>\n",
       "      <td>0 days 00:00:00.089820</td>\n",
       "    </tr>\n",
       "    <tr>\n",
       "      <th>1466</th>\n",
       "      <td>thomaspark/bootswatch</td>\n",
       "      <td>1</td>\n",
       "      <td>v</td>\n",
       "      <td>15</td>\n",
       "      <td>1</td>\n",
       "      <td>11</td>\n",
       "      <td>34</td>\n",
       "      <td>49</td>\n",
       "      <td>0 days 00:00:00.136185</td>\n",
       "    </tr>\n",
       "    <tr>\n",
       "      <th>116</th>\n",
       "      <td>PyGithub/PyGithub</td>\n",
       "      <td>2</td>\n",
       "      <td>v</td>\n",
       "      <td>62</td>\n",
       "      <td>40</td>\n",
       "      <td>9</td>\n",
       "      <td>23</td>\n",
       "      <td>85</td>\n",
       "      <td>0 days 00:00:00.123948</td>\n",
       "    </tr>\n",
       "    <tr>\n",
       "      <th>269</th>\n",
       "      <td>doccano/doccano</td>\n",
       "      <td>1</td>\n",
       "      <td>v</td>\n",
       "      <td>8</td>\n",
       "      <td>2</td>\n",
       "      <td>3</td>\n",
       "      <td>19</td>\n",
       "      <td>27</td>\n",
       "      <td>0 days 00:00:00.179169</td>\n",
       "    </tr>\n",
       "    <tr>\n",
       "      <th>852</th>\n",
       "      <td>symfony/finder</td>\n",
       "      <td>1</td>\n",
       "      <td>v</td>\n",
       "      <td>26</td>\n",
       "      <td>4</td>\n",
       "      <td>20</td>\n",
       "      <td>440</td>\n",
       "      <td>466</td>\n",
       "      <td>0 days 00:00:00.336742</td>\n",
       "    </tr>\n",
       "    <tr>\n",
       "      <th>1237</th>\n",
       "      <td>segmentio/nightmare</td>\n",
       "      <td>1</td>\n",
       "      <td></td>\n",
       "      <td>21</td>\n",
       "      <td>9</td>\n",
       "      <td>4</td>\n",
       "      <td>67</td>\n",
       "      <td>88</td>\n",
       "      <td>0 days 00:00:00.093118</td>\n",
       "    </tr>\n",
       "    <tr>\n",
       "      <th>703</th>\n",
       "      <td>didi/cube-ui</td>\n",
       "      <td>2</td>\n",
       "      <td>v</td>\n",
       "      <td>13</td>\n",
       "      <td>10</td>\n",
       "      <td>1</td>\n",
       "      <td>69</td>\n",
       "      <td>82</td>\n",
       "      <td>0 days 00:00:00.126630</td>\n",
       "    </tr>\n",
       "    <tr>\n",
       "      <th>1040</th>\n",
       "      <td>tomnomnom/gron</td>\n",
       "      <td>2</td>\n",
       "      <td>v</td>\n",
       "      <td>7</td>\n",
       "      <td>2</td>\n",
       "      <td>2</td>\n",
       "      <td>27</td>\n",
       "      <td>34</td>\n",
       "      <td>0 days 00:00:00.023040</td>\n",
       "    </tr>\n",
       "  </tbody>\n",
       "</table>\n",
       "</div>"
      ],
      "text/plain": [
       "                              project  prefixes prefixes_names  main_releases   \n",
       "561               reactjs/react-modal         1              v             19  \\\n",
       "677   oblador/react-native-animatable         1              v             10   \n",
       "1439            Kr328/ClashForAndroid         2              v             18   \n",
       "1466            thomaspark/bootswatch         1              v             15   \n",
       "116                 PyGithub/PyGithub         2              v             62   \n",
       "269                   doccano/doccano         1              v              8   \n",
       "852                    symfony/finder         1              v             26   \n",
       "1237              segmentio/nightmare         1                            21   \n",
       "703                      didi/cube-ui         2              v             13   \n",
       "1040                   tomnomnom/gron         2              v              7   \n",
       "\n",
       "      rapid_releases  trad_releases  patches  releases                   time  \n",
       "561                7              6       91       110 0 days 00:00:00.078163  \n",
       "677                4              4       13        23 0 days 00:00:00.023313  \n",
       "1439              10              1       94       112 0 days 00:00:00.089820  \n",
       "1466               1             11       34        49 0 days 00:00:00.136185  \n",
       "116               40              9       23        85 0 days 00:00:00.123948  \n",
       "269                2              3       19        27 0 days 00:00:00.179169  \n",
       "852                4             20      440       466 0 days 00:00:00.336742  \n",
       "1237               9              4       67        88 0 days 00:00:00.093118  \n",
       "703               10              1       69        82 0 days 00:00:00.126630  \n",
       "1040               2              2       27        34 0 days 00:00:00.023040  "
      ]
     },
     "execution_count": 7,
     "metadata": {},
     "output_type": "execute_result"
    }
   ],
   "source": [
    "projects = pd.DataFrame(project_results)\n",
    "projects.sample(10)"
   ]
  },
  {
   "cell_type": "code",
   "execution_count": 8,
   "id": "246d5343-7834-42e8-8bde-690bbcd1a574",
   "metadata": {
    "tags": []
   },
   "outputs": [
    {
     "data": {
      "text/html": [
       "<div>\n",
       "<style scoped>\n",
       "    .dataframe tbody tr th:only-of-type {\n",
       "        vertical-align: middle;\n",
       "    }\n",
       "\n",
       "    .dataframe tbody tr th {\n",
       "        vertical-align: top;\n",
       "    }\n",
       "\n",
       "    .dataframe thead th {\n",
       "        text-align: right;\n",
       "    }\n",
       "</style>\n",
       "<table border=\"1\" class=\"dataframe\">\n",
       "  <thead>\n",
       "    <tr style=\"text-align: right;\">\n",
       "      <th></th>\n",
       "      <th>project</th>\n",
       "      <th>release</th>\n",
       "      <th>previous_release</th>\n",
       "      <th>cycle</th>\n",
       "      <th>cycle_days</th>\n",
       "      <th>cycle_rdays</th>\n",
       "      <th>rapid_release</th>\n",
       "      <th>trad_release</th>\n",
       "      <th>commits</th>\n",
       "      <th>start_delay</th>\n",
       "      <th>start_delay_rdays</th>\n",
       "      <th>duration</th>\n",
       "      <th>duration_rdays</th>\n",
       "      <th>patches</th>\n",
       "    </tr>\n",
       "  </thead>\n",
       "  <tbody>\n",
       "    <tr>\n",
       "      <th>51636</th>\n",
       "      <td>harness/drone</td>\n",
       "      <td>v2.6.0</td>\n",
       "      <td>v2.5.0</td>\n",
       "      <td>12 days 20:53:33</td>\n",
       "      <td>12.870521</td>\n",
       "      <td>13</td>\n",
       "      <td>True</td>\n",
       "      <td>False</td>\n",
       "      <td>2</td>\n",
       "      <td>8.020984</td>\n",
       "      <td>9</td>\n",
       "      <td>4.849537</td>\n",
       "      <td>5</td>\n",
       "      <td>0</td>\n",
       "    </tr>\n",
       "    <tr>\n",
       "      <th>10072</th>\n",
       "      <td>jsx-eslint/eslint-plugin-react</td>\n",
       "      <td>v6.10.0</td>\n",
       "      <td>v6.9.0</td>\n",
       "      <td>38 days 04:03:20</td>\n",
       "      <td>38.168981</td>\n",
       "      <td>39</td>\n",
       "      <td>True</td>\n",
       "      <td>False</td>\n",
       "      <td>49</td>\n",
       "      <td>-96.630556</td>\n",
       "      <td>-96</td>\n",
       "      <td>134.799537</td>\n",
       "      <td>135</td>\n",
       "      <td>3</td>\n",
       "    </tr>\n",
       "    <tr>\n",
       "      <th>6778</th>\n",
       "      <td>Radarr/Radarr</td>\n",
       "      <td>v2.0.0.4472</td>\n",
       "      <td>v2.0.0.4427</td>\n",
       "      <td>19 days 13:28:27</td>\n",
       "      <td>19.561424</td>\n",
       "      <td>20</td>\n",
       "      <td>True</td>\n",
       "      <td>False</td>\n",
       "      <td>23</td>\n",
       "      <td>0.285440</td>\n",
       "      <td>1</td>\n",
       "      <td>19.275984</td>\n",
       "      <td>20</td>\n",
       "      <td>0</td>\n",
       "    </tr>\n",
       "    <tr>\n",
       "      <th>6361</th>\n",
       "      <td>isomorphic-git/isomorphic-git</td>\n",
       "      <td>v0.43.0</td>\n",
       "      <td>v0.42.0</td>\n",
       "      <td>0 days 04:40:46</td>\n",
       "      <td>0.194977</td>\n",
       "      <td>1</td>\n",
       "      <td>True</td>\n",
       "      <td>False</td>\n",
       "      <td>1</td>\n",
       "      <td>0.194977</td>\n",
       "      <td>1</td>\n",
       "      <td>0.000000</td>\n",
       "      <td>0</td>\n",
       "      <td>2</td>\n",
       "    </tr>\n",
       "    <tr>\n",
       "      <th>12063</th>\n",
       "      <td>QuantConnect/Lean</td>\n",
       "      <td>11024</td>\n",
       "      <td>11023</td>\n",
       "      <td>0 days 00:00:00</td>\n",
       "      <td>0.000000</td>\n",
       "      <td>0</td>\n",
       "      <td>False</td>\n",
       "      <td>False</td>\n",
       "      <td>0</td>\n",
       "      <td>0.000000</td>\n",
       "      <td>0</td>\n",
       "      <td>0.000000</td>\n",
       "      <td>0</td>\n",
       "      <td>0</td>\n",
       "    </tr>\n",
       "    <tr>\n",
       "      <th>45635</th>\n",
       "      <td>puppeteer/puppeteer</td>\n",
       "      <td>v0.12.0</td>\n",
       "      <td>v0.11.0</td>\n",
       "      <td>23 days 10:57:45</td>\n",
       "      <td>23.456771</td>\n",
       "      <td>24</td>\n",
       "      <td>True</td>\n",
       "      <td>False</td>\n",
       "      <td>68</td>\n",
       "      <td>0.017569</td>\n",
       "      <td>1</td>\n",
       "      <td>23.439201</td>\n",
       "      <td>24</td>\n",
       "      <td>0</td>\n",
       "    </tr>\n",
       "    <tr>\n",
       "      <th>16873</th>\n",
       "      <td>raineorshine/npm-check-updates</td>\n",
       "      <td>1.2.0</td>\n",
       "      <td>1.1.0</td>\n",
       "      <td>52 days 03:33:59</td>\n",
       "      <td>52.148600</td>\n",
       "      <td>53</td>\n",
       "      <td>False</td>\n",
       "      <td>False</td>\n",
       "      <td>5</td>\n",
       "      <td>0.003900</td>\n",
       "      <td>1</td>\n",
       "      <td>52.144699</td>\n",
       "      <td>53</td>\n",
       "      <td>0</td>\n",
       "    </tr>\n",
       "    <tr>\n",
       "      <th>41327</th>\n",
       "      <td>gchq/CyberChef</td>\n",
       "      <td>v6.4.0</td>\n",
       "      <td>v6.3.0</td>\n",
       "      <td>6 days 02:35:22</td>\n",
       "      <td>6.107894</td>\n",
       "      <td>7</td>\n",
       "      <td>True</td>\n",
       "      <td>False</td>\n",
       "      <td>5</td>\n",
       "      <td>5.849884</td>\n",
       "      <td>6</td>\n",
       "      <td>0.258009</td>\n",
       "      <td>1</td>\n",
       "      <td>6</td>\n",
       "    </tr>\n",
       "    <tr>\n",
       "      <th>15475</th>\n",
       "      <td>i18next/react-i18next</td>\n",
       "      <td>v1.3.0</td>\n",
       "      <td>v1.2.0</td>\n",
       "      <td>22 days 17:34:07</td>\n",
       "      <td>22.732025</td>\n",
       "      <td>23</td>\n",
       "      <td>True</td>\n",
       "      <td>False</td>\n",
       "      <td>17</td>\n",
       "      <td>-4.707419</td>\n",
       "      <td>-4</td>\n",
       "      <td>27.439444</td>\n",
       "      <td>28</td>\n",
       "      <td>1</td>\n",
       "    </tr>\n",
       "    <tr>\n",
       "      <th>28349</th>\n",
       "      <td>xtaci/kcptun</td>\n",
       "      <td>v20181226</td>\n",
       "      <td>v20181224</td>\n",
       "      <td>0 days 00:00:00</td>\n",
       "      <td>0.000000</td>\n",
       "      <td>0</td>\n",
       "      <td>False</td>\n",
       "      <td>False</td>\n",
       "      <td>0</td>\n",
       "      <td>0.000000</td>\n",
       "      <td>0</td>\n",
       "      <td>0.000000</td>\n",
       "      <td>0</td>\n",
       "      <td>0</td>\n",
       "    </tr>\n",
       "  </tbody>\n",
       "</table>\n",
       "</div>"
      ],
      "text/plain": [
       "                              project      release previous_release   \n",
       "51636                   harness/drone       v2.6.0           v2.5.0  \\\n",
       "10072  jsx-eslint/eslint-plugin-react      v6.10.0           v6.9.0   \n",
       "6778                    Radarr/Radarr  v2.0.0.4472      v2.0.0.4427   \n",
       "6361    isomorphic-git/isomorphic-git      v0.43.0          v0.42.0   \n",
       "12063               QuantConnect/Lean        11024            11023   \n",
       "45635             puppeteer/puppeteer      v0.12.0          v0.11.0   \n",
       "16873  raineorshine/npm-check-updates        1.2.0            1.1.0   \n",
       "41327                  gchq/CyberChef       v6.4.0           v6.3.0   \n",
       "15475           i18next/react-i18next       v1.3.0           v1.2.0   \n",
       "28349                    xtaci/kcptun    v20181226        v20181224   \n",
       "\n",
       "                 cycle  cycle_days  cycle_rdays  rapid_release  trad_release   \n",
       "51636 12 days 20:53:33   12.870521           13           True         False  \\\n",
       "10072 38 days 04:03:20   38.168981           39           True         False   \n",
       "6778  19 days 13:28:27   19.561424           20           True         False   \n",
       "6361   0 days 04:40:46    0.194977            1           True         False   \n",
       "12063  0 days 00:00:00    0.000000            0          False         False   \n",
       "45635 23 days 10:57:45   23.456771           24           True         False   \n",
       "16873 52 days 03:33:59   52.148600           53          False         False   \n",
       "41327  6 days 02:35:22    6.107894            7           True         False   \n",
       "15475 22 days 17:34:07   22.732025           23           True         False   \n",
       "28349  0 days 00:00:00    0.000000            0          False         False   \n",
       "\n",
       "       commits  start_delay  start_delay_rdays    duration  duration_rdays   \n",
       "51636        2     8.020984                  9    4.849537               5  \\\n",
       "10072       49   -96.630556                -96  134.799537             135   \n",
       "6778        23     0.285440                  1   19.275984              20   \n",
       "6361         1     0.194977                  1    0.000000               0   \n",
       "12063        0     0.000000                  0    0.000000               0   \n",
       "45635       68     0.017569                  1   23.439201              24   \n",
       "16873        5     0.003900                  1   52.144699              53   \n",
       "41327        5     5.849884                  6    0.258009               1   \n",
       "15475       17    -4.707419                 -4   27.439444              28   \n",
       "28349        0     0.000000                  0    0.000000               0   \n",
       "\n",
       "       patches  \n",
       "51636        0  \n",
       "10072        3  \n",
       "6778         0  \n",
       "6361         2  \n",
       "12063        0  \n",
       "45635        0  \n",
       "16873        0  \n",
       "41327        6  \n",
       "15475        1  \n",
       "28349        0  "
      ]
     },
     "execution_count": 8,
     "metadata": {},
     "output_type": "execute_result"
    }
   ],
   "source": [
    "releases = pd.DataFrame(release_results)\n",
    "releases.sample(10)"
   ]
  },
  {
   "cell_type": "code",
   "execution_count": 9,
   "id": "a2a2184c-4e46-4cf9-a87d-658106bc818f",
   "metadata": {
    "tags": []
   },
   "outputs": [
    {
     "data": {
      "text/plain": [
       "1665"
      ]
     },
     "execution_count": 9,
     "metadata": {},
     "output_type": "execute_result"
    }
   ],
   "source": [
    "len(projects)"
   ]
  },
  {
   "cell_type": "code",
   "execution_count": 10,
   "id": "c019b95d-9599-4f19-bfa9-0680e7287e1c",
   "metadata": {
    "tags": []
   },
   "outputs": [
    {
     "data": {
      "text/plain": [
       "52836"
      ]
     },
     "execution_count": 10,
     "metadata": {},
     "output_type": "execute_result"
    }
   ],
   "source": [
    "len(releases)"
   ]
  },
  {
   "cell_type": "code",
   "execution_count": 11,
   "id": "30584c58-319b-4246-b38d-e6d0228f092f",
   "metadata": {
    "tags": []
   },
   "outputs": [
    {
     "data": {
      "text/plain": [
       "29306"
      ]
     },
     "execution_count": 11,
     "metadata": {},
     "output_type": "execute_result"
    }
   ],
   "source": [
    "len(releases.query(\"rapid_release == True\"))"
   ]
  },
  {
   "cell_type": "code",
   "execution_count": 12,
   "id": "bdaf5aec-f377-45ab-8923-5839b18e4959",
   "metadata": {
    "tags": []
   },
   "outputs": [
    {
     "data": {
      "text/plain": [
       "11296"
      ]
     },
     "execution_count": 12,
     "metadata": {},
     "output_type": "execute_result"
    }
   ],
   "source": [
    "len(releases.query(\"trad_release == True\"))"
   ]
  },
  {
   "cell_type": "code",
   "execution_count": 13,
   "id": "b2b01b4c-5678-4e1a-a36d-47cdb33bedef",
   "metadata": {
    "tags": []
   },
   "outputs": [
    {
     "data": {
      "text/plain": [
       "12234"
      ]
     },
     "execution_count": 13,
     "metadata": {},
     "output_type": "execute_result"
    }
   ],
   "source": [
    "len(releases.query(\"rapid_release == False and trad_release == False\"))"
   ]
  },
  {
   "cell_type": "code",
   "execution_count": 14,
   "id": "cec37ef4-8f57-42ea-9461-613ebe96ff4d",
   "metadata": {
    "tags": []
   },
   "outputs": [
    {
     "data": {
      "text/plain": [
       "5520217"
      ]
     },
     "execution_count": 14,
     "metadata": {},
     "output_type": "execute_result"
    }
   ],
   "source": [
    "releases['commits'].sum()"
   ]
  },
  {
   "cell_type": "code",
   "execution_count": 15,
   "id": "7f4a1199-470f-4a89-a491-0c7e06ce9af1",
   "metadata": {
    "tags": []
   },
   "outputs": [],
   "source": [
    "projects.to_csv(DATA_PATH / '20_projects.csv', index=False)"
   ]
  },
  {
   "cell_type": "code",
   "execution_count": 16,
   "id": "099cdf2e-c0e9-426d-9de3-3c4843b47ff6",
   "metadata": {},
   "outputs": [],
   "source": [
    "releases.to_csv(DATA_PATH / '20_releases.csv', index=False)"
   ]
  },
  {
   "cell_type": "code",
   "execution_count": null,
   "id": "14bd86a5-75b4-4afd-8a12-fb3b2dfea783",
   "metadata": {},
   "outputs": [],
   "source": []
  }
 ],
 "metadata": {
  "kernelspec": {
   "display_name": "Python 3 (ipykernel)",
   "language": "python",
   "name": "python3"
  },
  "language_info": {
   "codemirror_mode": {
    "name": "ipython",
    "version": 3
   },
   "file_extension": ".py",
   "mimetype": "text/x-python",
   "name": "python",
   "nbconvert_exporter": "python",
   "pygments_lexer": "ipython3",
   "version": "3.11.2"
  }
 },
 "nbformat": 4,
 "nbformat_minor": 5
}
